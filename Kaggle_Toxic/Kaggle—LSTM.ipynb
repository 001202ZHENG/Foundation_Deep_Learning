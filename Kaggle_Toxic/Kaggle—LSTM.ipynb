{
  "cells": [
    {
      "cell_type": "markdown",
      "metadata": {
        "id": "iaM4LQ7jw95j"
      },
      "source": [
        "#Import necessary library and other files"
      ]
    },
    {
      "cell_type": "code",
      "execution_count": 1,
      "metadata": {
        "id": "I9M9Mqc-Pil6"
      },
      "outputs": [],
      "source": [
        "# Basic imports for data handling\n",
        "import numpy as np\n",
        "import pandas as pd\n",
        "import os\n",
        "import time\n",
        "import gc\n",
        "import random\n",
        "# Imports for progress bar\n",
        "from tqdm import tqdm_notebook as tqdm\n",
        "# Keras imports for the model\n",
        "from keras.models import Model\n",
        "from keras.layers import Input, Dense, Embedding, SpatialDropout1D, add, concatenate\n",
        "from keras.layers import LSTM, Bidirectional, GlobalMaxPooling1D, GlobalAveragePooling1D\n",
        "from keras.preprocessing import text, sequence\n",
        "from keras.callbacks import LearningRateScheduler\n",
        "# PyTorch imports for neural network functionality\n",
        "#import torch\n",
        "from torch import nn\n",
        "from torch.utils import data\n",
        "from torch.nn import functional as F\n",
        "# Gensim for loading word vectors\n",
        "from gensim.models import KeyedVectors\n",
        "# Google Colab import for drive mounting\n",
        "from google.colab import drive\n",
        "import matplotlib.pyplot as plt\n"
      ]
    },
    {
      "cell_type": "code",
      "execution_count": 2,
      "metadata": {
        "id": "I_C4FWIDbVzL"
      },
      "outputs": [],
      "source": [
        "from tqdm import tqdm\n",
        "tqdm.pandas()\n"
      ]
    },
    {
      "cell_type": "code",
      "execution_count": 3,
      "metadata": {
        "colab": {
          "base_uri": "https://localhost:8080/"
        },
        "id": "UvTnljP8LRpQ",
        "outputId": "00fe3681-f064-490a-fc04-14c5bf82b85c"
      },
      "outputs": [
        {
          "name": "stdout",
          "output_type": "stream",
          "text": [
            "Drive already mounted at /content/drive; to attempt to forcibly remount, call drive.mount(\"/content/drive\", force_remount=True).\n"
          ]
        }
      ],
      "source": [
        "#Mount to the dir of dataset\n",
        "drive = drive.mount('/content/drive')\n",
        "data_dir = 'drive/MyDrive/kaggle_data'"
      ]
    },
    {
      "cell_type": "code",
      "execution_count": 4,
      "metadata": {
        "colab": {
          "base_uri": "https://localhost:8080/"
        },
        "id": "0i7G9TBpMcMW",
        "outputId": "46b5f767-6381-4448-e1c2-48bbb98488bf"
      },
      "outputs": [
        {
          "name": "stdout",
          "output_type": "stream",
          "text": [
            "CUDA available: True\n"
          ]
        }
      ],
      "source": [
        "# to gpu\n",
        "import torch\n",
        "cuda_available = torch.cuda.is_available()\n",
        "print(\"CUDA available:\", cuda_available)\n",
        "device = torch.device('cuda')"
      ]
    },
    {
      "cell_type": "code",
      "execution_count": 5,
      "metadata": {
        "id": "IQxJfO40PlSr"
      },
      "outputs": [],
      "source": [
        "NUM_MODELS = 2\n",
        "BATCH_SIZE = 256\n",
        "LSTM_UNITS = 128\n",
        "DENSE_HIDDEN_UNITS = 4 * LSTM_UNITS\n",
        "EPOCHS = 4\n",
        "MAX_LEN = 220\n"
      ]
    },
    {
      "cell_type": "code",
      "execution_count": 6,
      "metadata": {
        "id": "cjo3kwky1Tmp"
      },
      "outputs": [],
      "source": [
        "import zipfile\n",
        "\n",
        "#crawl-300d-2M.vec is trained from Common Crawl (a website that collects almost everything)\n",
        "#it has 2 million words. Each word is represent by a vector of 300 dimensions.\n",
        "#GloVe is similar to crawl-300d-2M.vec.\n",
        "\n",
        "zip_file_paths = [\n",
        "    '/content/drive/MyDrive/kaggle_data/crawl-300d-2M.vec.zip',\n",
        "    '/content/drive/MyDrive/kaggle_data/glove.840B.300d.txt.zip'\n",
        "]\n",
        "\n",
        "for zip_file_path in zip_file_paths:\n",
        "    with zipfile.ZipFile(zip_file_path, 'r') as zip_ref:\n",
        "        zip_ref.extractall('/content/drive/MyDrive/kaggle_data/')\n"
      ]
    },
    {
      "cell_type": "code",
      "execution_count": 7,
      "metadata": {
        "id": "l7UuNQBxXUmQ"
      },
      "outputs": [],
      "source": [
        "#pretrained embedding\n",
        "\n",
        "EMBEDDING_FILES = [\n",
        "    '/content/drive/MyDrive/kaggle_data/crawl-300d-2M.vec',\n",
        "    '/content/drive/MyDrive/kaggle_data/glove.840B.300d.txt'\n",
        "]\n",
        "\n",
        "CRAWL_EMBEDDING_PATH = '/content/drive/MyDrive/kaggle_data/crawl-300d-2M.vec'\n",
        "GLOVE_EMBEDDING_PATH = '/content/drive/MyDrive/kaggle_data/glove.840B.300d.txt'"
      ]
    },
    {
      "cell_type": "code",
      "execution_count": 8,
      "metadata": {
        "id": "63Wt4iUMLlov"
      },
      "outputs": [],
      "source": [
        "# load CSV files\n",
        "train_x = pd.read_csv(os.path.join(data_dir, 'train_x.csv'))\n",
        "train_y = pd.read_csv(os.path.join(data_dir, 'train_y.csv'))\n",
        "val_x = pd.read_csv(os.path.join(data_dir, 'val_x.csv'))\n",
        "val_y = pd.read_csv(os.path.join(data_dir, 'val_y.csv'))\n",
        "test_x = pd.read_csv(os.path.join(data_dir, 'test_x.csv'))"
      ]
    },
    {
      "cell_type": "markdown",
      "metadata": {
        "id": "QL2x8ztPxINT"
      },
      "source": [
        "#EDA"
      ]
    },
    {
      "cell_type": "code",
      "execution_count": 10,
      "metadata": {
        "colab": {
          "base_uri": "https://localhost:8080/"
        },
        "id": "SPEf1IAHlN1x",
        "outputId": "3c742714-798d-4790-aabb-d5aa43e1f597"
      },
      "outputs": [
        {
          "data": {
            "text/plain": [
              "((269038, 2), (269038, 17), (45180, 2), (45180, 17))"
            ]
          },
          "execution_count": 10,
          "metadata": {},
          "output_type": "execute_result"
        }
      ],
      "source": [
        "train_x.shape, train_y.shape,val_x.shape, val_y.shape"
      ]
    },
    {
      "cell_type": "code",
      "execution_count": 11,
      "metadata": {
        "colab": {
          "base_uri": "https://localhost:8080/",
          "height": 0
        },
        "id": "gnnM8bI_kS00",
        "outputId": "15fb5af6-5572-4640-a80b-c1271771a618"
      },
      "outputs": [
        {
          "data": {
            "text/html": [
              "\n",
              "  <div id=\"df-0a374868-3f07-4774-9a92-a6cd60fc18d9\" class=\"colab-df-container\">\n",
              "    <div>\n",
              "<style scoped>\n",
              "    .dataframe tbody tr th:only-of-type {\n",
              "        vertical-align: middle;\n",
              "    }\n",
              "\n",
              "    .dataframe tbody tr th {\n",
              "        vertical-align: top;\n",
              "    }\n",
              "\n",
              "    .dataframe thead th {\n",
              "        text-align: right;\n",
              "    }\n",
              "</style>\n",
              "<table border=\"1\" class=\"dataframe\">\n",
              "  <thead>\n",
              "    <tr style=\"text-align: right;\">\n",
              "      <th></th>\n",
              "      <th>index</th>\n",
              "      <th>string</th>\n",
              "    </tr>\n",
              "  </thead>\n",
              "  <tbody>\n",
              "    <tr>\n",
              "      <th>0</th>\n",
              "      <td>0</td>\n",
              "      <td>even up here.......BLACKS!</td>\n",
              "    </tr>\n",
              "    <tr>\n",
              "      <th>1</th>\n",
              "      <td>1</td>\n",
              "      <td>Blame men.  There's always an excuse to blame ...</td>\n",
              "    </tr>\n",
              "    <tr>\n",
              "      <th>2</th>\n",
              "      <td>2</td>\n",
              "      <td>You have no business making any comments on th...</td>\n",
              "    </tr>\n",
              "    <tr>\n",
              "      <th>3</th>\n",
              "      <td>3</td>\n",
              "      <td>\"Let's get the black folks and the white folks...</td>\n",
              "    </tr>\n",
              "    <tr>\n",
              "      <th>4</th>\n",
              "      <td>4</td>\n",
              "      <td>I guess the issue is people not willing to put...</td>\n",
              "    </tr>\n",
              "  </tbody>\n",
              "</table>\n",
              "</div>\n",
              "    <div class=\"colab-df-buttons\">\n",
              "\n",
              "  <div class=\"colab-df-container\">\n",
              "    <button class=\"colab-df-convert\" onclick=\"convertToInteractive('df-0a374868-3f07-4774-9a92-a6cd60fc18d9')\"\n",
              "            title=\"Convert this dataframe to an interactive table.\"\n",
              "            style=\"display:none;\">\n",
              "\n",
              "  <svg xmlns=\"http://www.w3.org/2000/svg\" height=\"24px\" viewBox=\"0 -960 960 960\">\n",
              "    <path d=\"M120-120v-720h720v720H120Zm60-500h600v-160H180v160Zm220 220h160v-160H400v160Zm0 220h160v-160H400v160ZM180-400h160v-160H180v160Zm440 0h160v-160H620v160ZM180-180h160v-160H180v160Zm440 0h160v-160H620v160Z\"/>\n",
              "  </svg>\n",
              "    </button>\n",
              "\n",
              "  <style>\n",
              "    .colab-df-container {\n",
              "      display:flex;\n",
              "      gap: 12px;\n",
              "    }\n",
              "\n",
              "    .colab-df-convert {\n",
              "      background-color: #E8F0FE;\n",
              "      border: none;\n",
              "      border-radius: 50%;\n",
              "      cursor: pointer;\n",
              "      display: none;\n",
              "      fill: #1967D2;\n",
              "      height: 32px;\n",
              "      padding: 0 0 0 0;\n",
              "      width: 32px;\n",
              "    }\n",
              "\n",
              "    .colab-df-convert:hover {\n",
              "      background-color: #E2EBFA;\n",
              "      box-shadow: 0px 1px 2px rgba(60, 64, 67, 0.3), 0px 1px 3px 1px rgba(60, 64, 67, 0.15);\n",
              "      fill: #174EA6;\n",
              "    }\n",
              "\n",
              "    .colab-df-buttons div {\n",
              "      margin-bottom: 4px;\n",
              "    }\n",
              "\n",
              "    [theme=dark] .colab-df-convert {\n",
              "      background-color: #3B4455;\n",
              "      fill: #D2E3FC;\n",
              "    }\n",
              "\n",
              "    [theme=dark] .colab-df-convert:hover {\n",
              "      background-color: #434B5C;\n",
              "      box-shadow: 0px 1px 3px 1px rgba(0, 0, 0, 0.15);\n",
              "      filter: drop-shadow(0px 1px 2px rgba(0, 0, 0, 0.3));\n",
              "      fill: #FFFFFF;\n",
              "    }\n",
              "  </style>\n",
              "\n",
              "    <script>\n",
              "      const buttonEl =\n",
              "        document.querySelector('#df-0a374868-3f07-4774-9a92-a6cd60fc18d9 button.colab-df-convert');\n",
              "      buttonEl.style.display =\n",
              "        google.colab.kernel.accessAllowed ? 'block' : 'none';\n",
              "\n",
              "      async function convertToInteractive(key) {\n",
              "        const element = document.querySelector('#df-0a374868-3f07-4774-9a92-a6cd60fc18d9');\n",
              "        const dataTable =\n",
              "          await google.colab.kernel.invokeFunction('convertToInteractive',\n",
              "                                                    [key], {});\n",
              "        if (!dataTable) return;\n",
              "\n",
              "        const docLinkHtml = 'Like what you see? Visit the ' +\n",
              "          '<a target=\"_blank\" href=https://colab.research.google.com/notebooks/data_table.ipynb>data table notebook</a>'\n",
              "          + ' to learn more about interactive tables.';\n",
              "        element.innerHTML = '';\n",
              "        dataTable['output_type'] = 'display_data';\n",
              "        await google.colab.output.renderOutput(dataTable, element);\n",
              "        const docLink = document.createElement('div');\n",
              "        docLink.innerHTML = docLinkHtml;\n",
              "        element.appendChild(docLink);\n",
              "      }\n",
              "    </script>\n",
              "  </div>\n",
              "\n",
              "\n",
              "<div id=\"df-76293a21-b582-4585-9e97-a4693f101916\">\n",
              "  <button class=\"colab-df-quickchart\" onclick=\"quickchart('df-76293a21-b582-4585-9e97-a4693f101916')\"\n",
              "            title=\"Suggest charts\"\n",
              "            style=\"display:none;\">\n",
              "\n",
              "<svg xmlns=\"http://www.w3.org/2000/svg\" height=\"24px\"viewBox=\"0 0 24 24\"\n",
              "     width=\"24px\">\n",
              "    <g>\n",
              "        <path d=\"M19 3H5c-1.1 0-2 .9-2 2v14c0 1.1.9 2 2 2h14c1.1 0 2-.9 2-2V5c0-1.1-.9-2-2-2zM9 17H7v-7h2v7zm4 0h-2V7h2v10zm4 0h-2v-4h2v4z\"/>\n",
              "    </g>\n",
              "</svg>\n",
              "  </button>\n",
              "\n",
              "<style>\n",
              "  .colab-df-quickchart {\n",
              "      --bg-color: #E8F0FE;\n",
              "      --fill-color: #1967D2;\n",
              "      --hover-bg-color: #E2EBFA;\n",
              "      --hover-fill-color: #174EA6;\n",
              "      --disabled-fill-color: #AAA;\n",
              "      --disabled-bg-color: #DDD;\n",
              "  }\n",
              "\n",
              "  [theme=dark] .colab-df-quickchart {\n",
              "      --bg-color: #3B4455;\n",
              "      --fill-color: #D2E3FC;\n",
              "      --hover-bg-color: #434B5C;\n",
              "      --hover-fill-color: #FFFFFF;\n",
              "      --disabled-bg-color: #3B4455;\n",
              "      --disabled-fill-color: #666;\n",
              "  }\n",
              "\n",
              "  .colab-df-quickchart {\n",
              "    background-color: var(--bg-color);\n",
              "    border: none;\n",
              "    border-radius: 50%;\n",
              "    cursor: pointer;\n",
              "    display: none;\n",
              "    fill: var(--fill-color);\n",
              "    height: 32px;\n",
              "    padding: 0;\n",
              "    width: 32px;\n",
              "  }\n",
              "\n",
              "  .colab-df-quickchart:hover {\n",
              "    background-color: var(--hover-bg-color);\n",
              "    box-shadow: 0 1px 2px rgba(60, 64, 67, 0.3), 0 1px 3px 1px rgba(60, 64, 67, 0.15);\n",
              "    fill: var(--button-hover-fill-color);\n",
              "  }\n",
              "\n",
              "  .colab-df-quickchart-complete:disabled,\n",
              "  .colab-df-quickchart-complete:disabled:hover {\n",
              "    background-color: var(--disabled-bg-color);\n",
              "    fill: var(--disabled-fill-color);\n",
              "    box-shadow: none;\n",
              "  }\n",
              "\n",
              "  .colab-df-spinner {\n",
              "    border: 2px solid var(--fill-color);\n",
              "    border-color: transparent;\n",
              "    border-bottom-color: var(--fill-color);\n",
              "    animation:\n",
              "      spin 1s steps(1) infinite;\n",
              "  }\n",
              "\n",
              "  @keyframes spin {\n",
              "    0% {\n",
              "      border-color: transparent;\n",
              "      border-bottom-color: var(--fill-color);\n",
              "      border-left-color: var(--fill-color);\n",
              "    }\n",
              "    20% {\n",
              "      border-color: transparent;\n",
              "      border-left-color: var(--fill-color);\n",
              "      border-top-color: var(--fill-color);\n",
              "    }\n",
              "    30% {\n",
              "      border-color: transparent;\n",
              "      border-left-color: var(--fill-color);\n",
              "      border-top-color: var(--fill-color);\n",
              "      border-right-color: var(--fill-color);\n",
              "    }\n",
              "    40% {\n",
              "      border-color: transparent;\n",
              "      border-right-color: var(--fill-color);\n",
              "      border-top-color: var(--fill-color);\n",
              "    }\n",
              "    60% {\n",
              "      border-color: transparent;\n",
              "      border-right-color: var(--fill-color);\n",
              "    }\n",
              "    80% {\n",
              "      border-color: transparent;\n",
              "      border-right-color: var(--fill-color);\n",
              "      border-bottom-color: var(--fill-color);\n",
              "    }\n",
              "    90% {\n",
              "      border-color: transparent;\n",
              "      border-bottom-color: var(--fill-color);\n",
              "    }\n",
              "  }\n",
              "</style>\n",
              "\n",
              "  <script>\n",
              "    async function quickchart(key) {\n",
              "      const quickchartButtonEl =\n",
              "        document.querySelector('#' + key + ' button');\n",
              "      quickchartButtonEl.disabled = true;  // To prevent multiple clicks.\n",
              "      quickchartButtonEl.classList.add('colab-df-spinner');\n",
              "      try {\n",
              "        const charts = await google.colab.kernel.invokeFunction(\n",
              "            'suggestCharts', [key], {});\n",
              "      } catch (error) {\n",
              "        console.error('Error during call to suggestCharts:', error);\n",
              "      }\n",
              "      quickchartButtonEl.classList.remove('colab-df-spinner');\n",
              "      quickchartButtonEl.classList.add('colab-df-quickchart-complete');\n",
              "    }\n",
              "    (() => {\n",
              "      let quickchartButtonEl =\n",
              "        document.querySelector('#df-76293a21-b582-4585-9e97-a4693f101916 button');\n",
              "      quickchartButtonEl.style.display =\n",
              "        google.colab.kernel.accessAllowed ? 'block' : 'none';\n",
              "    })();\n",
              "  </script>\n",
              "</div>\n",
              "    </div>\n",
              "  </div>\n"
            ],
            "text/plain": [
              "   index                                             string\n",
              "0      0                         even up here.......BLACKS!\n",
              "1      1  Blame men.  There's always an excuse to blame ...\n",
              "2      2  You have no business making any comments on th...\n",
              "3      3  \"Let's get the black folks and the white folks...\n",
              "4      4  I guess the issue is people not willing to put..."
            ]
          },
          "execution_count": 11,
          "metadata": {},
          "output_type": "execute_result"
        }
      ],
      "source": [
        "train_x.head()"
      ]
    },
    {
      "cell_type": "code",
      "execution_count": 12,
      "metadata": {
        "colab": {
          "base_uri": "https://localhost:8080/",
          "height": 0
        },
        "id": "Ik2nCSW9k0U3",
        "outputId": "d44b8a91-ea39-462a-f34e-1d35ea0a6a14"
      },
      "outputs": [
        {
          "data": {
            "text/html": [
              "\n",
              "  <div id=\"df-f5bfc9ad-44ba-4547-816c-6ade4b7ebc39\" class=\"colab-df-container\">\n",
              "    <div>\n",
              "<style scoped>\n",
              "    .dataframe tbody tr th:only-of-type {\n",
              "        vertical-align: middle;\n",
              "    }\n",
              "\n",
              "    .dataframe tbody tr th {\n",
              "        vertical-align: top;\n",
              "    }\n",
              "\n",
              "    .dataframe thead th {\n",
              "        text-align: right;\n",
              "    }\n",
              "</style>\n",
              "<table border=\"1\" class=\"dataframe\">\n",
              "  <thead>\n",
              "    <tr style=\"text-align: right;\">\n",
              "      <th></th>\n",
              "      <th>male</th>\n",
              "      <th>female</th>\n",
              "      <th>LGBTQ</th>\n",
              "      <th>christian</th>\n",
              "      <th>muslim</th>\n",
              "      <th>other_religions</th>\n",
              "      <th>black</th>\n",
              "      <th>white</th>\n",
              "      <th>identity_any</th>\n",
              "      <th>severe_toxicity</th>\n",
              "      <th>obscene</th>\n",
              "      <th>threat</th>\n",
              "      <th>insult</th>\n",
              "      <th>identity_attack</th>\n",
              "      <th>sexual_explicit</th>\n",
              "      <th>y</th>\n",
              "      <th>from_source_domain</th>\n",
              "    </tr>\n",
              "  </thead>\n",
              "  <tbody>\n",
              "    <tr>\n",
              "      <th>0</th>\n",
              "      <td>0</td>\n",
              "      <td>0</td>\n",
              "      <td>0</td>\n",
              "      <td>0</td>\n",
              "      <td>0</td>\n",
              "      <td>0</td>\n",
              "      <td>1</td>\n",
              "      <td>0</td>\n",
              "      <td>1</td>\n",
              "      <td>0</td>\n",
              "      <td>0</td>\n",
              "      <td>0</td>\n",
              "      <td>0</td>\n",
              "      <td>1</td>\n",
              "      <td>0</td>\n",
              "      <td>1</td>\n",
              "      <td>1</td>\n",
              "    </tr>\n",
              "    <tr>\n",
              "      <th>1</th>\n",
              "      <td>1</td>\n",
              "      <td>1</td>\n",
              "      <td>0</td>\n",
              "      <td>0</td>\n",
              "      <td>0</td>\n",
              "      <td>0</td>\n",
              "      <td>0</td>\n",
              "      <td>0</td>\n",
              "      <td>1</td>\n",
              "      <td>0</td>\n",
              "      <td>0</td>\n",
              "      <td>0</td>\n",
              "      <td>0</td>\n",
              "      <td>1</td>\n",
              "      <td>0</td>\n",
              "      <td>1</td>\n",
              "      <td>1</td>\n",
              "    </tr>\n",
              "    <tr>\n",
              "      <th>2</th>\n",
              "      <td>0</td>\n",
              "      <td>0</td>\n",
              "      <td>0</td>\n",
              "      <td>0</td>\n",
              "      <td>0</td>\n",
              "      <td>0</td>\n",
              "      <td>0</td>\n",
              "      <td>0</td>\n",
              "      <td>0</td>\n",
              "      <td>0</td>\n",
              "      <td>0</td>\n",
              "      <td>0</td>\n",
              "      <td>1</td>\n",
              "      <td>0</td>\n",
              "      <td>0</td>\n",
              "      <td>1</td>\n",
              "      <td>1</td>\n",
              "    </tr>\n",
              "    <tr>\n",
              "      <th>3</th>\n",
              "      <td>0</td>\n",
              "      <td>0</td>\n",
              "      <td>0</td>\n",
              "      <td>0</td>\n",
              "      <td>0</td>\n",
              "      <td>0</td>\n",
              "      <td>1</td>\n",
              "      <td>1</td>\n",
              "      <td>1</td>\n",
              "      <td>0</td>\n",
              "      <td>0</td>\n",
              "      <td>0</td>\n",
              "      <td>0</td>\n",
              "      <td>1</td>\n",
              "      <td>0</td>\n",
              "      <td>1</td>\n",
              "      <td>1</td>\n",
              "    </tr>\n",
              "    <tr>\n",
              "      <th>4</th>\n",
              "      <td>0</td>\n",
              "      <td>0</td>\n",
              "      <td>0</td>\n",
              "      <td>0</td>\n",
              "      <td>0</td>\n",
              "      <td>0</td>\n",
              "      <td>0</td>\n",
              "      <td>0</td>\n",
              "      <td>0</td>\n",
              "      <td>0</td>\n",
              "      <td>0</td>\n",
              "      <td>0</td>\n",
              "      <td>1</td>\n",
              "      <td>0</td>\n",
              "      <td>0</td>\n",
              "      <td>1</td>\n",
              "      <td>1</td>\n",
              "    </tr>\n",
              "  </tbody>\n",
              "</table>\n",
              "</div>\n",
              "    <div class=\"colab-df-buttons\">\n",
              "\n",
              "  <div class=\"colab-df-container\">\n",
              "    <button class=\"colab-df-convert\" onclick=\"convertToInteractive('df-f5bfc9ad-44ba-4547-816c-6ade4b7ebc39')\"\n",
              "            title=\"Convert this dataframe to an interactive table.\"\n",
              "            style=\"display:none;\">\n",
              "\n",
              "  <svg xmlns=\"http://www.w3.org/2000/svg\" height=\"24px\" viewBox=\"0 -960 960 960\">\n",
              "    <path d=\"M120-120v-720h720v720H120Zm60-500h600v-160H180v160Zm220 220h160v-160H400v160Zm0 220h160v-160H400v160ZM180-400h160v-160H180v160Zm440 0h160v-160H620v160ZM180-180h160v-160H180v160Zm440 0h160v-160H620v160Z\"/>\n",
              "  </svg>\n",
              "    </button>\n",
              "\n",
              "  <style>\n",
              "    .colab-df-container {\n",
              "      display:flex;\n",
              "      gap: 12px;\n",
              "    }\n",
              "\n",
              "    .colab-df-convert {\n",
              "      background-color: #E8F0FE;\n",
              "      border: none;\n",
              "      border-radius: 50%;\n",
              "      cursor: pointer;\n",
              "      display: none;\n",
              "      fill: #1967D2;\n",
              "      height: 32px;\n",
              "      padding: 0 0 0 0;\n",
              "      width: 32px;\n",
              "    }\n",
              "\n",
              "    .colab-df-convert:hover {\n",
              "      background-color: #E2EBFA;\n",
              "      box-shadow: 0px 1px 2px rgba(60, 64, 67, 0.3), 0px 1px 3px 1px rgba(60, 64, 67, 0.15);\n",
              "      fill: #174EA6;\n",
              "    }\n",
              "\n",
              "    .colab-df-buttons div {\n",
              "      margin-bottom: 4px;\n",
              "    }\n",
              "\n",
              "    [theme=dark] .colab-df-convert {\n",
              "      background-color: #3B4455;\n",
              "      fill: #D2E3FC;\n",
              "    }\n",
              "\n",
              "    [theme=dark] .colab-df-convert:hover {\n",
              "      background-color: #434B5C;\n",
              "      box-shadow: 0px 1px 3px 1px rgba(0, 0, 0, 0.15);\n",
              "      filter: drop-shadow(0px 1px 2px rgba(0, 0, 0, 0.3));\n",
              "      fill: #FFFFFF;\n",
              "    }\n",
              "  </style>\n",
              "\n",
              "    <script>\n",
              "      const buttonEl =\n",
              "        document.querySelector('#df-f5bfc9ad-44ba-4547-816c-6ade4b7ebc39 button.colab-df-convert');\n",
              "      buttonEl.style.display =\n",
              "        google.colab.kernel.accessAllowed ? 'block' : 'none';\n",
              "\n",
              "      async function convertToInteractive(key) {\n",
              "        const element = document.querySelector('#df-f5bfc9ad-44ba-4547-816c-6ade4b7ebc39');\n",
              "        const dataTable =\n",
              "          await google.colab.kernel.invokeFunction('convertToInteractive',\n",
              "                                                    [key], {});\n",
              "        if (!dataTable) return;\n",
              "\n",
              "        const docLinkHtml = 'Like what you see? Visit the ' +\n",
              "          '<a target=\"_blank\" href=https://colab.research.google.com/notebooks/data_table.ipynb>data table notebook</a>'\n",
              "          + ' to learn more about interactive tables.';\n",
              "        element.innerHTML = '';\n",
              "        dataTable['output_type'] = 'display_data';\n",
              "        await google.colab.output.renderOutput(dataTable, element);\n",
              "        const docLink = document.createElement('div');\n",
              "        docLink.innerHTML = docLinkHtml;\n",
              "        element.appendChild(docLink);\n",
              "      }\n",
              "    </script>\n",
              "  </div>\n",
              "\n",
              "\n",
              "<div id=\"df-cd702549-d0bc-4462-8a38-88f31184b21d\">\n",
              "  <button class=\"colab-df-quickchart\" onclick=\"quickchart('df-cd702549-d0bc-4462-8a38-88f31184b21d')\"\n",
              "            title=\"Suggest charts\"\n",
              "            style=\"display:none;\">\n",
              "\n",
              "<svg xmlns=\"http://www.w3.org/2000/svg\" height=\"24px\"viewBox=\"0 0 24 24\"\n",
              "     width=\"24px\">\n",
              "    <g>\n",
              "        <path d=\"M19 3H5c-1.1 0-2 .9-2 2v14c0 1.1.9 2 2 2h14c1.1 0 2-.9 2-2V5c0-1.1-.9-2-2-2zM9 17H7v-7h2v7zm4 0h-2V7h2v10zm4 0h-2v-4h2v4z\"/>\n",
              "    </g>\n",
              "</svg>\n",
              "  </button>\n",
              "\n",
              "<style>\n",
              "  .colab-df-quickchart {\n",
              "      --bg-color: #E8F0FE;\n",
              "      --fill-color: #1967D2;\n",
              "      --hover-bg-color: #E2EBFA;\n",
              "      --hover-fill-color: #174EA6;\n",
              "      --disabled-fill-color: #AAA;\n",
              "      --disabled-bg-color: #DDD;\n",
              "  }\n",
              "\n",
              "  [theme=dark] .colab-df-quickchart {\n",
              "      --bg-color: #3B4455;\n",
              "      --fill-color: #D2E3FC;\n",
              "      --hover-bg-color: #434B5C;\n",
              "      --hover-fill-color: #FFFFFF;\n",
              "      --disabled-bg-color: #3B4455;\n",
              "      --disabled-fill-color: #666;\n",
              "  }\n",
              "\n",
              "  .colab-df-quickchart {\n",
              "    background-color: var(--bg-color);\n",
              "    border: none;\n",
              "    border-radius: 50%;\n",
              "    cursor: pointer;\n",
              "    display: none;\n",
              "    fill: var(--fill-color);\n",
              "    height: 32px;\n",
              "    padding: 0;\n",
              "    width: 32px;\n",
              "  }\n",
              "\n",
              "  .colab-df-quickchart:hover {\n",
              "    background-color: var(--hover-bg-color);\n",
              "    box-shadow: 0 1px 2px rgba(60, 64, 67, 0.3), 0 1px 3px 1px rgba(60, 64, 67, 0.15);\n",
              "    fill: var(--button-hover-fill-color);\n",
              "  }\n",
              "\n",
              "  .colab-df-quickchart-complete:disabled,\n",
              "  .colab-df-quickchart-complete:disabled:hover {\n",
              "    background-color: var(--disabled-bg-color);\n",
              "    fill: var(--disabled-fill-color);\n",
              "    box-shadow: none;\n",
              "  }\n",
              "\n",
              "  .colab-df-spinner {\n",
              "    border: 2px solid var(--fill-color);\n",
              "    border-color: transparent;\n",
              "    border-bottom-color: var(--fill-color);\n",
              "    animation:\n",
              "      spin 1s steps(1) infinite;\n",
              "  }\n",
              "\n",
              "  @keyframes spin {\n",
              "    0% {\n",
              "      border-color: transparent;\n",
              "      border-bottom-color: var(--fill-color);\n",
              "      border-left-color: var(--fill-color);\n",
              "    }\n",
              "    20% {\n",
              "      border-color: transparent;\n",
              "      border-left-color: var(--fill-color);\n",
              "      border-top-color: var(--fill-color);\n",
              "    }\n",
              "    30% {\n",
              "      border-color: transparent;\n",
              "      border-left-color: var(--fill-color);\n",
              "      border-top-color: var(--fill-color);\n",
              "      border-right-color: var(--fill-color);\n",
              "    }\n",
              "    40% {\n",
              "      border-color: transparent;\n",
              "      border-right-color: var(--fill-color);\n",
              "      border-top-color: var(--fill-color);\n",
              "    }\n",
              "    60% {\n",
              "      border-color: transparent;\n",
              "      border-right-color: var(--fill-color);\n",
              "    }\n",
              "    80% {\n",
              "      border-color: transparent;\n",
              "      border-right-color: var(--fill-color);\n",
              "      border-bottom-color: var(--fill-color);\n",
              "    }\n",
              "    90% {\n",
              "      border-color: transparent;\n",
              "      border-bottom-color: var(--fill-color);\n",
              "    }\n",
              "  }\n",
              "</style>\n",
              "\n",
              "  <script>\n",
              "    async function quickchart(key) {\n",
              "      const quickchartButtonEl =\n",
              "        document.querySelector('#' + key + ' button');\n",
              "      quickchartButtonEl.disabled = true;  // To prevent multiple clicks.\n",
              "      quickchartButtonEl.classList.add('colab-df-spinner');\n",
              "      try {\n",
              "        const charts = await google.colab.kernel.invokeFunction(\n",
              "            'suggestCharts', [key], {});\n",
              "      } catch (error) {\n",
              "        console.error('Error during call to suggestCharts:', error);\n",
              "      }\n",
              "      quickchartButtonEl.classList.remove('colab-df-spinner');\n",
              "      quickchartButtonEl.classList.add('colab-df-quickchart-complete');\n",
              "    }\n",
              "    (() => {\n",
              "      let quickchartButtonEl =\n",
              "        document.querySelector('#df-cd702549-d0bc-4462-8a38-88f31184b21d button');\n",
              "      quickchartButtonEl.style.display =\n",
              "        google.colab.kernel.accessAllowed ? 'block' : 'none';\n",
              "    })();\n",
              "  </script>\n",
              "</div>\n",
              "    </div>\n",
              "  </div>\n"
            ],
            "text/plain": [
              "   male  female  LGBTQ  christian  muslim  other_religions  black  white  \\\n",
              "0     0       0      0          0       0                0      1      0   \n",
              "1     1       1      0          0       0                0      0      0   \n",
              "2     0       0      0          0       0                0      0      0   \n",
              "3     0       0      0          0       0                0      1      1   \n",
              "4     0       0      0          0       0                0      0      0   \n",
              "\n",
              "   identity_any  severe_toxicity  obscene  threat  insult  identity_attack  \\\n",
              "0             1                0        0       0       0                1   \n",
              "1             1                0        0       0       0                1   \n",
              "2             0                0        0       0       1                0   \n",
              "3             1                0        0       0       0                1   \n",
              "4             0                0        0       0       1                0   \n",
              "\n",
              "   sexual_explicit  y  from_source_domain  \n",
              "0                0  1                   1  \n",
              "1                0  1                   1  \n",
              "2                0  1                   1  \n",
              "3                0  1                   1  \n",
              "4                0  1                   1  "
            ]
          },
          "execution_count": 12,
          "metadata": {},
          "output_type": "execute_result"
        }
      ],
      "source": [
        "train_y.head()"
      ]
    },
    {
      "cell_type": "code",
      "execution_count": 13,
      "metadata": {
        "colab": {
          "base_uri": "https://localhost:8080/",
          "height": 0
        },
        "id": "sc9yIc2Ik3yT",
        "outputId": "3450ac91-b63c-438b-e3d1-8759f9683b9e"
      },
      "outputs": [
        {
          "data": {
            "image/png": "[encoded data removed]",
            "text/plain": [
              "<Figure size 1400x600 with 2 Axes>"
            ]
          },
          "metadata": {},
          "output_type": "display_data"
        }
      ],
      "source": [
        "# Visaulize features of train_y's distribution\n",
        "\n",
        "label_sums = train_y.sum()\n",
        "total_samples = len(train_y)\n",
        "label_proportions = label_sums / total_samples\n",
        "\n",
        "label_distribution = pd.DataFrame({\n",
        "    'Counts': label_sums,\n",
        "    'Proportions': label_proportions\n",
        "})\n",
        "\n",
        "fig, ax = plt.subplots(1, 2, figsize=(14, 6))\n",
        "\n",
        "label_distribution['Counts'].plot(kind='bar', ax=ax[0], color='skyblue')\n",
        "ax[0].set_title('Counts of Each Category')\n",
        "ax[0].set_ylabel('Number of Occurrences')\n",
        "ax[0].set_xlabel('Category')\n",
        "\n",
        "label_distribution['Proportions'].plot(kind='bar', ax=ax[1], color='lightgreen')\n",
        "ax[1].set_title('Proportions of Each Category')\n",
        "ax[1].set_ylabel('Proportion of Total Samples')\n",
        "ax[1].set_xlabel('Category')\n",
        "\n",
        "plt.tight_layout()\n",
        "plt.show()\n"
      ]
    },
    {
      "cell_type": "code",
      "execution_count": 14,
      "metadata": {
        "colab": {
          "base_uri": "https://localhost:8080/",
          "height": 0
        },
        "id": "ysugW4pPlVTr",
        "outputId": "2ec90e87-7ce1-4330-a67b-fc84c9796ff5"
      },
      "outputs": [
        {
          "data": {
            "text/plain": [
              "<Axes: title={'center': 'Correlation of demographic_identities & targets'}>"
            ]
          },
          "execution_count": 14,
          "metadata": {},
          "output_type": "execute_result"
        },
        {
          "data": {
            "image/png": "[encoded data removed]",
            "text/plain": [
              "<Figure size 700x700 with 2 Axes>"
            ]
          },
          "metadata": {},
          "output_type": "display_data"
        }
      ],
      "source": [
        "demographic_identities= ['male',\t'female',\t'LGBTQ',\t'christian',\t'muslim',\t'other_religions',\t'black',\t'white','y']\n",
        "data = train_y[demographic_identities]\n",
        "import seaborn as sns\n",
        "colormap = plt.cm.plasma\n",
        "plt.figure(figsize=(7,7))\n",
        "plt.title('Correlation of demographic_identities & targets',y=1.05,size=14)\n",
        "sns.heatmap(data.astype(float).corr(),linewidths=0.1,vmax=1.0,square=True,cmap=colormap,\n",
        "           linecolor='white',annot=True)\n",
        "\n",
        "#We observe the correlation accordingly"
      ]
    },
    {
      "cell_type": "code",
      "execution_count": 15,
      "metadata": {
        "colab": {
          "base_uri": "https://localhost:8080/",
          "height": 0
        },
        "id": "FR4mvkUglof-",
        "outputId": "dd921448-f877-49d5-8e42-20a5004701f5"
      },
      "outputs": [
        {
          "data": {
            "text/plain": [
              "<Axes: title={'center': 'Correlation of cols_toxity & targets'}>"
            ]
          },
          "execution_count": 15,
          "metadata": {},
          "output_type": "execute_result"
        },
        {
          "data": {
            "image/png": "[encoded data removed]",
            "text/plain": [
              "<Figure size 700x700 with 2 Axes>"
            ]
          },
          "metadata": {},
          "output_type": "display_data"
        }
      ],
      "source": [
        "cols_toxity = ['severe_toxicity',\t'obscene',\t'threat',\t'insult',\t'identity_attack',\t'sexual_explicit','y']\n",
        "data_2 = train_y[cols_toxity]\n",
        "\n",
        "colormap = plt.cm.plasma\n",
        "plt.figure(figsize=(7,7))\n",
        "plt.title('Correlation of cols_toxity & targets',y=1.05,size=14)\n",
        "sns.heatmap(data_2.astype(float).corr(),linewidths=0.1,vmax=1.0,square=True,cmap=colormap,\n",
        "           linecolor='white',annot=True)"
      ]
    },
    {
      "cell_type": "code",
      "execution_count": 16,
      "metadata": {
        "colab": {
          "base_uri": "https://localhost:8080/",
          "height": 0
        },
        "id": "l1RKtjutiUim",
        "outputId": "fcac5af2-173a-432c-80d9-986ebcf73e09"
      },
      "outputs": [
        {
          "data": {
            "image/png": "[encoded data removed]",
            "text/plain": [
              "<Figure size 640x480 with 1 Axes>"
            ]
          },
          "metadata": {},
          "output_type": "display_data"
        }
      ],
      "source": [
        "# Get length of all messages in all three sets\n",
        "train_seq_len = [len(message.split()) for message in train_x['string']]\n",
        "test_seq_len = [len(message.split()) for message in test_x['string']]\n",
        "val_seq_len = [len(message.split()) for message in val_x['string']]\n",
        "\n",
        "all_seq_len = train_seq_len + test_seq_len + val_seq_len\n",
        "pd.Series(all_seq_len).hist(bins=30)\n",
        "plt.show()\n",
        "#Based on the ouput,we set the max_length 200 later"
      ]
    },
    {
      "cell_type": "markdown",
      "metadata": {
        "id": "lmtta3KWkfbp"
      },
      "source": [
        "#Preprocessing\n"
      ]
    },
    {
      "cell_type": "code",
      "execution_count": 9,
      "metadata": {
        "id": "NeVttlujmRTP"
      },
      "outputs": [],
      "source": [
        "#functions to build our embedding matrix\n",
        "\n",
        "# Function that takes a word and its corresponding embedding vector and returns a tuple containing the word and its embedding vector as a NumPy array.\n",
        "def get_coefs(word, *arr):\n",
        "    return word, np.asarray(arr, dtype='float32')\n",
        "\n",
        "# Function that opens a pre-trained embedding vector file and uses the get_coefs function to create a dictionary\n",
        "def load_embeddings(path):\n",
        "    with open(path) as f:\n",
        "        return dict(get_coefs(*line.strip().split(' ')) for line in f)\n",
        "\n",
        "#Function to build the matrix\n",
        "def build_matrix(word_index, path):\n",
        "    embedding_index = load_embeddings(path)\n",
        "    embedding_matrix = np.zeros((len(word_index) + 1, 300))\n",
        "    for word, i in word_index.items():\n",
        "        try:\n",
        "            embedding_matrix[i] = embedding_index[word]\n",
        "        except KeyError:\n",
        "            pass\n",
        "    return embedding_matrix"
      ]
    },
    {
      "cell_type": "code",
      "execution_count": 10,
      "metadata": {
        "id": "3EbEteWdmDZG"
      },
      "outputs": [],
      "source": [
        "#helper functions\n",
        "import operator\n",
        "\n",
        "#find word vectors in matrix\n",
        "def check_coverage(vocab,embeddings_index):\n",
        "    a = {}\n",
        "    oov = {}\n",
        "    k = 0\n",
        "    i = 0\n",
        "    for word in tqdm(vocab):\n",
        "        try:\n",
        "            a[word] = embeddings_index[word]\n",
        "            k += vocab[word]\n",
        "        except:\n",
        "\n",
        "            oov[word] = vocab[word]\n",
        "            i += vocab[word]\n",
        "            pass\n",
        "\n",
        "    print('Found embeddings for {:.2%} of vocab'.format(len(a) / len(vocab)))\n",
        "    print('Found embeddings for  {:.2%} of all text'.format(k / (k + i)))\n",
        "    sorted_x = sorted(oov.items(), key=operator.itemgetter(1))[::-1]\n",
        "\n",
        "    return sorted_x\n",
        "\n",
        "#builds a ordered dictionary of words and their frequency in the text corpus.\n",
        "def build_vocab(sentences, verbose =  True):\n",
        "    \"\"\"\n",
        "    :param sentences: list of list of words\n",
        "    :return: dictionary of words and their count\n",
        "    \"\"\"\n",
        "    vocab = {}\n",
        "    for sentence in tqdm(sentences, disable = (not verbose)):\n",
        "        for word in sentence:\n",
        "            try:\n",
        "                vocab[word] += 1\n",
        "            except KeyError:\n",
        "                vocab[word] = 1\n",
        "    return vocab"
      ]
    },
    {
      "cell_type": "code",
      "execution_count": 19,
      "metadata": {
        "colab": {
          "base_uri": "https://localhost:8080/"
        },
        "id": "C7smmMFhmJXX",
        "outputId": "27ae8d2c-8831-41e8-c40a-d282b5d55235"
      },
      "outputs": [
        {
          "name": "stdout",
          "output_type": "stream",
          "text": [
            "loaded 2196008 word vectors in 174.88819766044617s\n"
          ]
        }
      ],
      "source": [
        "tic = time.time()\n",
        "glove_embeddings = load_embeddings(GLOVE_EMBEDDING_PATH)\n",
        "print(f'loaded {len(glove_embeddings)} word vectors in {time.time()-tic}s')"
      ]
    },
    {
      "cell_type": "code",
      "execution_count": 20,
      "metadata": {
        "colab": {
          "base_uri": "https://localhost:8080/"
        },
        "id": "TuieIUasnZYY",
        "outputId": "3f0ef541-6267-4057-c727-c491e3376541"
      },
      "outputs": [
        {
          "name": "stderr",
          "output_type": "stream",
          "text": [
            "100%|██████████| 269038/269038 [00:03<00:00, 72295.48it/s]\n",
            "100%|██████████| 529887/529887 [00:00<00:00, 782609.32it/s]\n"
          ]
        },
        {
          "name": "stdout",
          "output_type": "stream",
          "text": [
            "Found embeddings for 24.72% of vocab\n",
            "Found embeddings for  89.44% of all text\n"
          ]
        },
        {
          "data": {
            "text/plain": [
              "[(\"isn't\", 6706),\n",
              " (\"That's\", 5973),\n",
              " (\"won't\", 4475),\n",
              " (\"he's\", 4027),\n",
              " (\"Trump's\", 3998),\n",
              " (\"aren't\", 3612),\n",
              " ('that,', 3373),\n",
              " (\"wouldn't\", 3276),\n",
              " ('Yes,', 3256),\n",
              " (\"wasn't\", 3222)]"
            ]
          },
          "execution_count": 20,
          "metadata": {},
          "output_type": "execute_result"
        }
      ],
      "source": [
        "vocab = build_vocab(list(train_x['string'].apply(lambda x:x.split())))\n",
        "oov = check_coverage(vocab,glove_embeddings)\n",
        "oov[:10]"
      ]
    },
    {
      "cell_type": "markdown",
      "metadata": {
        "id": "_cx8Nf6KoY48"
      },
      "source": [
        "We have a lot of oovs in the text due to the presence of tokens with punctuation, special characters, or contractions that are not separated properly (e.g., \"isn't\", \"that's\").\n",
        "We would deal with those problems later"
      ]
    },
    {
      "cell_type": "code",
      "execution_count": 21,
      "metadata": {
        "colab": {
          "base_uri": "https://localhost:8080/",
          "height": 163
        },
        "id": "I7_QHYBupU5Y",
        "outputId": "94012a17-0f15-4d0c-cfa8-3fede4f2fa85"
      },
      "outputs": [
        {
          "name": "stderr",
          "output_type": "stream",
          "text": [
            "100%|██████████| 2196008/2196008 [00:00<00:00, 3613821.97it/s]\n"
          ]
        },
        {
          "data": {
            "application/vnd.google.colaboratory.intrinsic+json": {
              "type": "string"
            },
            "text/plain": [
              "',.\":)(-!?|;$&/[]>%=#*+\\\\•~@£·_{}©^®`<→°€™›♥←×§″′█½…“★”–●►−¢²¬░¡¶↑±¿▾═¦║―¥▓—‹─▒：¼⊕▼▪†■▀¨▄♫☆¯♦¤▲¸¾⋅∞∙）↓、│（»，♪╩╚³・╦╣╔╗▬❤¹≤‡√◄━⇒▶º≥╝♡◊。✈≡☺✔↵≈✓♣☎℃◦└‟～！○◆№♠▌✿▸⁄□❖✦．÷｜┃／￥╠↩✭▐☼µ☻┐├«∼┌℉☮฿≦♬✧〉－⌂✖･◕※‖◀‰\\x97↺∆┘┬╬،⌘⊂ª＞〈⎙Å？☠⇐▫∗∈≠♀ƒ♔˚℗┗＊┼❀＆∩♂‿∑‣➜┛⇓☯⊖☀┳；∇⇑✰◇♯☞´↔┏｡◘∂✌♭┣┴┓✨ˈ˜❥┫℠✒［∫\\x93≧］\\x94∀♛\\x96∨◎ˑ↻⅓⇩＜≫✩ˆ✪♕؟₤☛╮␊＋┈ɡ％╋▽⇨┻⊗￡।▂✯▇＿➤₂✞＝▷△◙▅✝ﾟ∧␉☭┊╯☾➔∴\\x92▃↳＾׳➢╭➡＠⊙☢˝⅛∏„①๑∥❝☐▆╱⋙๏☁⇔▔\\x91②➚◡╰٠♢˙۞✘✮☑⋆ℓⓘ❒☣✉⌊➠∣❑⅔◢ⓒ\\x80〒∕▮⦿✫✚⋯♩☂ˌ❞‗܂☜‾✜╲∘⟩＼⟨·⅜✗♚∅ⓔ◣͡‛❦⑨③◠✄❄１∃␣≪｢≅◯☽２∎｣⁰❧̅ǡⒶ↘⚓▣˘∪⇢✍⊥＃⅝⎯↠۩☰◥⊆✽ﬁ⚡↪ở❁☹◼☃◤❏ⓢ⊱α➝̣✡∠｀▴┤Ȃ∝♏ⓐ✎;３④␤＇❣⅞✂✤ⓞ☪✴⌒˛♒＄ɪ✶▻Ⓔ◌◈۲Ʈ❚ʿ❂￦◉╜̃ν✱╖❉₃ⓡℝ٤↗❶ʡ۰ˇⓣ♻➽۶₁ʃ׀✲ʤ✬☉▉≒☥⌐♨✕ⓝ⊰❘＂⇧̵➪４▁β۱▏⊃ⓛ‚♰́✏⏑̶٩Ⓢー⩾日￠❍≃⋰♋ɿ､̂❋✳ⓤ╤▕⌣✸℮⁺▨⑤╨Ⓥ♈❃☝５✻⊇≻♘♞◂７✟⌠✠☚✥❊ƂⒸ⌈❅Ⓡ♧Ⓞɑλ۵▭❱Ⓣ∟☕♺∵⍝ⓑɔ✵✣ℤ年ℕ٭♆Ⓘⅆ∶⚜◞்✹Ǥȡ➥ᴥ↕ɂ̳∷✋➧∋̿ͧʘ┅⥤⬆ǀμ₄⋱ʔ☄↖⋮۔♌Ⓛ╕♓ـ⁴❯♍▋✺⭐６✾♊➣▿Ⓑ♉Ａ⏠◾▹⑥⩽в↦╥⍵⌋։➨и∮⇥ⓗⒹ⁻ʊ⎝⌥⌉◔◑ǂ✼♎ℂ♐╪ɨ⊚☒⇤θВⓜ⎠Ｏ◐ǰ⚠╞ﬂ◗⎕ⓨ☟Ｉⓟ♟❈↬ⓓ◻♮❙а♤∉؛⁂例Ⓝ־♑╫╓╳⬅☔πɒɹ߂☸ɐʻ┄╧ʌ׃８ʒ⎢❆⋄⚫̏☏➞͂␙Ⓤ◟Ƥʕ̊Ȥ⚐✙は↙̾ωΔ℘ﾞ✷⑦φ⍺❌⊢▵✅ｗ９ⓖ☨▰ʹ╡Ⓜ☤∽╘˹↨ȿ♙⬇♱⌡Ω⠀╛❕┉Ⓟ̀Ǩ♖ⓚ┆⑧⎜ǹ◜⚾⤴✇╟⎛☩➲➟ⓥⒽ⏝◃０₀╢月↯✆˃⍴❇⚽╒Ｃɻɤ̸♜☓Ｔ➳⇄γ☬⚑✐⁵δȭ⌃◅▢ｓȸ❐∊☈ⅇℜ॥σ⎮ȣ▩のτεＳு⊹‵␔☊➸̌☿⇉➊⊳╙⁶ⓦ⇣｛̄↝⎟ℳ▍❗ℑＭɾｍ״Γ΄▞◁⛄⇝⎪ˤ♁ｖ⇠☇✊位ℒạி｝๐⭕➘Ｂ❺ɸˡ⁀⑩ｃ⅕Ƽ۳☙❛₆ƪ❓⟲Ʒ⇀≲Ｐ❷١ⓕ⎥Ｄс\\u06ddǥͤ₋̱̎♝≳▙Ｒʹ➭ℰ܀ʺȫⒼ⇛ˉ▊❸号⇗̷⇱℅Ⓧ⚛̐ːǴʱ̕⇌Ｆｏ␀≌๖Ⓦ⊤̓☦ℚⒻɚ▜ʋʞ➙Ⓨ⌨◮☷ǁ◍Ⓚ≔⏩⍳℞┋ɲ˻▚₅≺ْƱ▟➻̪⏪̉❼⎞ρȥʂ┇⍟⇪ʧ▎⇦␝ＥỞ⤷➀≖ＵＱ⟶♗ℵ̴♄⅙ͨǬ❜̡ǫ▛✁➩ா˂↥⏎⎷̲➖ʐɽ↲ℬℏ⩵̗Ｊ由η❢₈≎➋ΣＬƖ❹ǵ⚔⇇̑⊿۴⁸ᶘ̖Φ☍ȯ➹⥊⁁✢ａɯ回'"
            ]
          },
          "execution_count": 21,
          "metadata": {},
          "output_type": "execute_result"
        }
      ],
      "source": [
        "import string\n",
        "latin_similar = \"’'‘ÆÐƎƏƐƔĲŊŒẞÞǷȜæðǝəɛɣĳŋœĸſßþƿȝĄƁÇĐƊĘĦĮƘŁØƠŞȘŢȚŦŲƯY̨Ƴąɓçđɗęħįƙłøơşșţțŧųưy̨ƴÁÀÂÄǍĂĀÃÅǺĄÆǼǢƁĆĊĈČÇĎḌĐƊÐÉÈĖÊËĚĔĒĘẸƎƏƐĠĜǦĞĢƔáàâäǎăāãåǻąæǽǣɓćċĉčçďḍđɗðéèėêëěĕēęẹǝəɛġĝǧğģɣĤḤĦIÍÌİÎÏǏĬĪĨĮỊĲĴĶƘĹĻŁĽĿʼNŃN̈ŇÑŅŊÓÒÔÖǑŎŌÕŐỌØǾƠŒĥḥħıíìiîïǐĭīĩįịĳĵķƙĸĺļłľŀŉńn̈ňñņŋóòôöǒŏōõőọøǿơœŔŘŖŚŜŠŞȘṢẞŤŢṬŦÞÚÙÛÜǓŬŪŨŰŮŲỤƯẂẀŴẄǷÝỲŶŸȲỸƳŹŻŽẒŕřŗſśŝšşșṣßťţṭŧþúùûüǔŭūũűůųụưẃẁŵẅƿýỳŷÿȳỹƴźżžẓ\"\n",
        "white_list = string.ascii_letters + string.digits + latin_similar + ' '\n",
        "white_list += \"'\"\n",
        "\n",
        "glove_chars = ''.join([c for c in tqdm(glove_embeddings) if len(c) == 1])\n",
        "glove_symbols = ''.join([c for c in glove_chars if not c in white_list])\n",
        "\n",
        "#printed are symbols that we have an embedding vector for\n",
        "glove_symbols"
      ]
    },
    {
      "cell_type": "code",
      "execution_count": 22,
      "metadata": {
        "colab": {
          "base_uri": "https://localhost:8080/",
          "height": 145
        },
        "id": "scL26g05pdsY",
        "outputId": "299b502d-9f26-45d3-b5e6-d52d86617756"
      },
      "outputs": [
        {
          "name": "stderr",
          "output_type": "stream",
          "text": [
            "100%|██████████| 269038/269038 [00:12<00:00, 22150.40it/s]\n"
          ]
        },
        {
          "data": {
            "application/vnd.google.colaboratory.intrinsic+json": {
              "type": "string"
            },
            "text/plain": [
              "'.!,\":\\n-?();$/&*_“”^%…#[]>`@=™<}+|‑\\\\\\u200b~😂😋\\x7f–😆😛🤡😃\\xa0ˈ😇巨大的税收！赢得年月。你失去了所有钱白鬼愤怒来不要买卖额😝—¥الإسم\\xad😞🤑😡▀―овца«»☠️💀🆘🔥💥💨🐴{👎\\u2006\\u2004▰▱ℐ✨🏐🏉\\t👍🏼😀☹😬😳ʻ̶г⚾⚽💖½×😊😣😉😒🙃¢😖😜🇨🇦😈😅🙄•♫💪🙏🎯😄😁👶🤧🤓´£·ˌ🤔𝙏𝙝𝙚𝙗𝙞𝙜𝙥𝙧𝙤𝙡𝙢𝙨𝙖𝙮𝙣𝙩𝙛𝙪𝙘𝙫𝙔𝙬𝙠𝙙😎§☺¯ツᴛᴀʀᴡᴏᴋɪɴɢғᴍʜᴇᴊʙᴜᴅʏᴄʟᴘᴠ🦊💰°♪♬®➤ᴵ\\u200f🤯😤🤤😫🤥🤪🙈🙉🙊🐡❄🔫♀►●😕😑ɡ👏💡≠⁄º₂🎶\\u200a💯✔💕💎⇒\\ufeff†\\u2009²приет😲🤗😔\\u200e±❤◄▬ஜ\\u202a\\u202c©℅🤣🐟☻░▒▓█😢🌟Μ″❆😵😙𝗢𝗻𝗲𝟳𝟱𝟬∞🍺𝑩𝒆𝒉𝒐𝒍𝒅𝑰𝒔𝒕𝒂𝒏𝒓𝒌𝒄𝒇𝒚𝒎𝒗𝒊𝒑𝒘𝒀𝒖𝒒𝒈𝒛𝒃𝑻𝑺˚أهكتب′😦❣„○成都😩👮\\u2028🖐マルハニチロ株式会社ксьы✰▄，ɒʃ\\u3000𝙄👌💜歌舞伎☑͞¹❌⭕🌞¨﴾͡๏̯﴿😍☐🐻🤢😭🇵🇷🇺🇸💵🎄💟💋🎰🌺\\x81♥🤘🙁🙀€😮👼👿▶حريةو￼−🏝μετουσίωις÷⠀καρό😐🙂：‖ἔλψ😴╪\\u2005▔🤴д𝒩ℯ𝒾𝓁𝒶𝓉𝓇𝓊𝓃𝓈𝓅ℴ𝒻𝒽𝓀𝓌𝒸𝓎¡🇳✅✋⚡☄👊🏻¿🚽ق😨›♡\\x08̣🐽Ам🍁\\x10ὐφνύύ┈╱╲▏━╮▕┃╰▊▋╯╭┳▂┊\\uf04aΔ₀ːʒ\\x96\\x92ʌ⤵🤕🤒外国人ɑ⦁\\x95Ｉ\\u2002چزیγήἀάπη😟\\r😠∎Ἰᾶὁέ𝓒𝓲𝓿𝓵◕✾✈¶бюш🦁👠خِفَʿ✘𝒋𝟒𝟔💩⏺\\u202d⎌͜ʖ\\x13عدصنىغ😱💤🌍ἐ是𝐡𝐭𝐩𝐬𝐰𝐲𝐨𝐮𝐛𝐞𝐜𝐦𝐚𝐯𝐳𝐔𝐱𝟓𝐅𝐓𝐃𝐘🕷🎁𝒙😶关系）小土豆🌏⅓☆¬𝗕𝗰𝗮𝗿𝗳𝘂𝗹𝗼𝘁𝗽𝗶𝘆𝗴𝗵𝘀𝗯𝗺𝗜𝗱𝘄𝘃𝗙𝗦𝗧𝙭ﬁ★❥😏☕שואה⚠\\uf04c☭🏆💛💚💙🌸МлнйДТч🎼˙𝘴𝘰𝘮𝘦𝘵𝘩𝘪𝘯𝘨➥．ＣＯＭ✬═🏾◐😥🐒‐\\u202f\\u2008≤✌😪☝🏽зу🌮ῦﬂ‼❔❓⁉❗¼'"
            ]
          },
          "execution_count": 22,
          "metadata": {},
          "output_type": "execute_result"
        }
      ],
      "source": [
        "chars = build_vocab(list(train_x['string']))\n",
        "symbols_to_isolate = ''.join([c for c in chars if not c in white_list])\n",
        "symbols_to_isolate"
      ]
    },
    {
      "cell_type": "code",
      "execution_count": 23,
      "metadata": {
        "colab": {
          "base_uri": "https://localhost:8080/",
          "height": 54
        },
        "id": "Av2k1f0jp9cf",
        "outputId": "fb6657d1-e48c-472c-d505-fe0c18562f0e"
      },
      "outputs": [
        {
          "data": {
            "application/vnd.google.colaboratory.intrinsic+json": {
              "type": "string"
            },
            "text/plain": [
              "'.!,\":-?();$/&*_“”^%…#[]>`@=™<}+|\\\\~–ˈ！年月。—¥▀―ва«»☠{▰✨☹ʻ̶⚾⚽½×¢•♫´£·ˌ§☺¯ɪ°♪♬®➤❄♀►●ɡ≠⁄º₂✔⇒†²и±❤◄▬©℅☻░▒▓█″❆∞˚′❣„○с✰▄，ɒʃ☑¹❌⭕¨͡๏☐♥€▶−μετσω÷⠀αρ：‖λ╪▔¡✅✋⚡☄¿›♡̣φν┈╱╲▏━╮▕┃╰▊▋╯╭┳▂┊Δ₀ːʒ\\x96\\x92ʌɑＩγπη∎◕✾✈¶ʿ✘）⅓☆¬ﬁ★❥☕⚠☭˙➥．ＣＯＭ✬═◐≤✌☝ﬂ❓❗¼'"
            ]
          },
          "execution_count": 23,
          "metadata": {},
          "output_type": "execute_result"
        }
      ],
      "source": [
        "#The symbols we want to keep we need to isolate from our words.\n",
        "symbols_to_isolate = ''.join([c for c in symbols_to_isolate if c in glove_symbols])\n",
        "symbols_to_isolate"
      ]
    },
    {
      "cell_type": "code",
      "execution_count": 24,
      "metadata": {
        "id": "2oEqjDwKqRsa"
      },
      "outputs": [],
      "source": [
        "#Now we have all information we need for preprocessing"
      ]
    },
    {
      "cell_type": "code",
      "execution_count": 11,
      "metadata": {
        "id": "Ba3-hsqECMaW"
      },
      "outputs": [],
      "source": [
        "symbols_to_isolate = '.,?!-;*\"…:—()%#$&_/@＼・ω+=”“[]^–>\\\\°<~•≠™ˈʊɒ∞§{}·τα❤☺ɡ|¢→̶`❥━┣┫┗Ｏ►★©―ɪ✔®\\x96\\x92●£♥➤´¹☕≈÷♡◐║▬′ɔː€۩۞†μ✒➥═☆ˌ◄½ʻπδηλσερνʃ✬ＳＵＰＥＲＩＴ☻±♍µº¾✓◾؟．⬅℅»Вав❣⋅¿¬♫ＣＭβ█▓▒░⇒⭐›¡₂₃❧▰▔◞▀▂▃▄▅▆▇↙γ̄″☹➡«φ⅓„✋：¥̲̅́∙‛◇✏▷❓❗¶˚˙）сиʿ✨。ɑ\\x80◕！％¯−ﬂﬁ₁²ʌ¼⁴⁄₄⌠♭✘╪▶☭✭♪☔☠♂☃☎✈✌✰❆☙○‣⚓年∎ℒ▪▙☏⅛ｃａｓǀ℮¸ｗ‚∼‖ℳ❄←☼⋆ʒ⊂、⅔¨͡๏⚾⚽Φ×θ￦？（℃⏩☮⚠月✊❌⭕▸■⇌☐☑⚡☄ǫ╭∩╮，例＞ʕɐ̣Δ₀✞┈╱╲▏▕┃╰▊▋╯┳┊≥☒↑☝ɹ✅☛♩☞ＡＪＢ◔◡↓♀⬆̱ℏ\\x91⠀ˤ╚↺⇤∏✾◦♬³の｜／∵∴√Ω¤☜▲↳▫‿⬇✧ｏｖｍ－２０８＇‰≤∕ˆ⚜☁'\n",
        "symbols_to_delete = '\\n🍕\\r🐵😑\\xa0\\ue014\\t\\uf818\\uf04a\\xad😢🐶️\\uf0e0😜😎👊\\u200b\\u200e😁عدويهصقأناخلىبمغر😍💖💵Е👎😀😂\\u202a\\u202c🔥😄🏻💥ᴍʏʀᴇɴᴅᴏᴀᴋʜᴜʟᴛᴄᴘʙғᴊᴡɢ😋👏שלוםבי😱‼\\x81エンジ故障\\u2009🚌ᴵ͞🌟😊😳😧🙀😐😕\\u200f👍😮😃😘אעכח💩💯⛽🚄🏼ஜ😖ᴠ🚲‐😟😈💪🙏🎯🌹😇💔😡\\x7f👌ἐὶήιὲκἀίῃἴξ🙄Ｈ😠\\ufeff\\u2028😉😤⛺🙂\\u3000تحكسة👮💙فزط😏🍾🎉😞\\u2008🏾😅😭👻😥😔😓🏽🎆🍻🍽🎶🌺🤔😪\\x08‑🐰🐇🐱🙆😨🙃💕𝘊𝘦𝘳𝘢𝘵𝘰𝘤𝘺𝘴𝘪𝘧𝘮𝘣💗💚地獄谷улкнПоАН🐾🐕😆ה🔗🚽歌舞伎🙈😴🏿🤗🇺🇸мυтѕ⤵🏆🎃😩\\u200a🌠🐟💫💰💎эпрд\\x95🖐🙅⛲🍰🤐👆🙌\\u2002💛🙁👀🙊🙉\\u2004ˢᵒʳʸᴼᴷᴺʷᵗʰᵉᵘ\\x13🚬🤓\\ue602😵άοόςέὸתמדףנרךצט😒͝🆕👅👥👄🔄🔤👉👤👶👲🔛🎓\\uf0b7\\uf04c\\x9f\\x10成都😣⏺😌🤑🌏😯ех😲Ἰᾶὁ💞🚓🔔📚🏀👐\\u202d💤🍇\\ue613小土豆🏡❔⁉\\u202f👠》कर्मा🇹🇼🌸蔡英文🌞🎲レクサス😛外国人关系Сб💋💀🎄💜🤢َِьыгя不是\\x9c\\x9d🗑\\u2005💃📣👿༼つ༽😰ḷЗз▱ц￼🤣卖温哥华议会下降你失去所有的钱加拿大坏税骗子🐝ツ🎅\\x85🍺آإشء🎵🌎͟ἔ油别克🤡🤥😬🤧й\\u2003🚀🤴ʲшчИОРФДЯМюж😝🖑ὐύύ特殊作戦群щ💨圆明园קℐ🏈😺🌍⏏ệ🍔🐮🍁🍆🍑🌮🌯🤦\\u200d𝓒𝓲𝓿𝓵안영하세요ЖљКћ🍀😫🤤ῦ我出生在了可以说普通话汉语好极🎼🕺🍸🥂🗽🎇🎊🆘🤠👩🖒🚪天一家⚲\\u2006⚭⚆⬭⬯⏖新✀╌🇫🇷🇩🇪🇮🇬🇧😷🇨🇦ХШ🌐\\x1f杀鸡给猴看ʁ𝗪𝗵𝗲𝗻𝘆𝗼𝘂𝗿𝗮𝗹𝗶𝘇𝗯𝘁𝗰𝘀𝘅𝗽𝘄𝗱📺ϖ\\u2000үսᴦᎥһͺ\\u2007հ\\u2001ɩｙｅ൦ｌƽｈ𝐓𝐡𝐞𝐫𝐮𝐝𝐚𝐃𝐜𝐩𝐭𝐢𝐨𝐧Ƅᴨןᑯ໐ΤᏧ௦Іᴑ܁𝐬𝐰𝐲𝐛𝐦𝐯𝐑𝐙𝐣𝐇𝐂𝐘𝟎ԜТᗞ౦〔Ꭻ𝐳𝐔𝐱𝟔𝟓𝐅🐋ﬃ💘💓ё𝘥𝘯𝘶💐🌋🌄🌅𝙬𝙖𝙨𝙤𝙣𝙡𝙮𝙘𝙠𝙚𝙙𝙜𝙧𝙥𝙩𝙪𝙗𝙞𝙝𝙛👺🐷ℋ𝐀𝐥𝐪🚶𝙢Ἱ🤘ͦ💸ج패티Ｗ𝙇ᵻ👂👃ɜ🎫\\uf0a7БУі🚢🚂ગુજરાતીῆ🏃𝓬𝓻𝓴𝓮𝓽𝓼☘﴾̯﴿₽\\ue807𝑻𝒆𝒍𝒕𝒉𝒓𝒖𝒂𝒏𝒅𝒔𝒎𝒗𝒊👽😙\\u200cЛ‒🎾👹⎌🏒⛸公寓养宠物吗🏄🐀🚑🤷操美𝒑𝒚𝒐𝑴🤙🐒欢迎来到阿拉斯ספ𝙫🐈𝒌𝙊𝙭𝙆𝙋𝙍𝘼𝙅ﷻ🦄巨收赢得白鬼愤怒要买额ẽ🚗🐳𝟏𝐟𝟖𝟑𝟕𝒄𝟗𝐠𝙄𝙃👇锟斤拷𝗢𝟳𝟱𝟬⦁マルハニチロ株式社⛷한국어ㄸㅓ니͜ʖ𝘿𝙔₵𝒩ℯ𝒾𝓁𝒶𝓉𝓇𝓊𝓃𝓈𝓅ℴ𝒻𝒽𝓀𝓌𝒸𝓎𝙏ζ𝙟𝘃𝗺𝟮𝟭𝟯𝟲👋🦊多伦🐽🎻🎹⛓🏹🍷🦆为和中友谊祝贺与其想象对法如直接问用自己猜本传教士没积唯认识基督徒曾经让相信耶稣复活死怪他但当们聊些政治题时候战胜因圣把全堂结婚孩恐惧且栗谓这样还♾🎸🤕🤒⛑🎁批判检讨🏝🦁🙋😶쥐스탱트뤼도석유가격인상이경제황을렵게만들지않록잘관리해야합다캐나에서대마초와화약금의품런성분갈때는반드시허된사용🔫👁凸ὰ💲🗯𝙈Ἄ𝒇𝒈𝒘𝒃𝑬𝑶𝕾𝖙𝖗𝖆𝖎𝖌𝖍𝖕𝖊𝖔𝖑𝖉𝖓𝖐𝖜𝖞𝖚𝖇𝕿𝖘𝖄𝖛𝖒𝖋𝖂𝕴𝖟𝖈𝕸👑🚿💡知彼百\\uf005𝙀𝒛𝑲𝑳𝑾𝒋𝟒😦𝙒𝘾𝘽🏐𝘩𝘨ὼṑ𝑱𝑹𝑫𝑵𝑪🇰🇵👾ᓇᒧᔭᐃᐧᐦᑳᐨᓃᓂᑲᐸᑭᑎᓀᐣ🐄🎈🔨🐎🤞🐸💟🎰🌝🛳点击查版🍭𝑥𝑦𝑧ＮＧ👣\\uf020っ🏉ф💭🎥Ξ🐴👨🤳🦍\\x0b🍩𝑯𝒒😗𝟐🏂👳🍗🕉🐲چی𝑮𝗕𝗴🍒ꜥⲣⲏ🐑⏰鉄リ事件ї💊「」\\uf203\\uf09a\\uf222\\ue608\\uf202\\uf099\\uf469\\ue607\\uf410\\ue600燻製シ虚偽屁理屈Г𝑩𝑰𝒀𝑺🌤𝗳𝗜𝗙𝗦𝗧🍊ὺἈἡχῖΛ⤏🇳𝒙ψՁմեռայինրւդձ冬至ὀ𝒁🔹🤚🍎𝑷🐂💅𝘬𝘱𝘸𝘷𝘐𝘭𝘓𝘖𝘹𝘲𝘫کΒώ💢ΜΟΝΑΕ🇱♲𝝈↴💒⊘Ȼ🚴🖕🖤🥘📍👈➕🚫🎨🌑🐻𝐎𝐍𝐊𝑭🤖🎎😼🕷ｇｒｎｔｉｄｕｆｂｋ𝟰🇴🇭🇻🇲𝗞𝗭𝗘𝗤👼📉🍟🍦🌈🔭《🐊🐍\\uf10aლڡ🐦\\U0001f92f\\U0001f92a🐡💳ἱ🙇𝗸𝗟𝗠𝗷🥜さようなら🔼'\n",
        "punct = \"/-'?!.,#$%\\'()*+-/:;<=>@[\\\\]^_`{|}~`\" + '\"\"“”’' + '∞θ÷α•à−β∅³π‘₹´°£€\\×™√²—–&'\n",
        "contraction_mapping = {\n",
        "    \"ain't\": \"is not\", \"aren't\": \"are not\",\"can't\": \"cannot\", \"'cause\": \"because\", \"could've\": \"could have\", \"couldn't\": \"could not\",\n",
        "    \"didn't\": \"did not\",  \"doesn't\": \"does not\", \"don't\": \"do not\", \"hadn't\": \"had not\", \"hasn't\": \"has not\", \"haven't\": \"have not\",\n",
        "    \"he'd\": \"he would\",\"he'll\": \"he will\", \"he's\": \"he is\", \"how'd\": \"how did\", \"how'd'y\": \"how do you\", \"how'll\": \"how will\", \"how's\": \"how is\",\n",
        "    \"I'd\": \"I would\", \"I'd've\": \"I would have\", \"I'll\": \"I will\", \"I'll've\": \"I will have\",\"I'm\": \"I am\", \"I've\": \"I have\", \"i'd\": \"i would\", \"i'd've\":\n",
        "    \"i would have\", \"i'll\": \"i will\",  \"i'll've\": \"i will have\",\"i'm\": \"i am\", \"i've\": \"i have\", \"isn't\": \"is not\", \"it'd\": \"it would\",\n",
        "    \"it'd've\": \"it would have\", \"it'll\": \"it will\", \"it'll've\": \"it will have\",\"it's\": \"it is\", \"let's\": \"let us\", \"ma'am\": \"madam\",\n",
        "    \"mayn't\": \"may not\", \"might've\": \"might have\",\"mightn't\": \"might not\",\"mightn't've\": \"might not have\", \"must've\": \"must have\",\n",
        "    \"mustn't\": \"must not\", \"mustn't've\": \"must not have\", \"needn't\": \"need not\", \"needn't've\": \"need not have\",\n",
        "    \"o'clock\": \"of the clock\", \"oughtn't\": \"ought not\", \"oughtn't've\": \"ought not have\", \"shan't\": \"shall not\",\n",
        "    \"sha'n't\": \"shall not\", \"shan't've\": \"shall not have\", \"she'd\": \"she would\", \"she'd've\": \"she would have\",\n",
        "    \"she'll\": \"she will\", \"she'll've\": \"she will have\", \"she's\": \"she is\", \"should've\": \"should have\", \"shouldn't\": \"should not\",\n",
        "    \"shouldn't've\": \"should not have\", \"so've\": \"so have\",\"so's\": \"so as\", \"this's\":\"this is\",\"that'd\": \"that would\",\n",
        "    \"that'd've\": \"that would have\", \"that's\": \"that is\", \"there'd\": \"there would\", \"there'd've\": \"there would have\", \"there's\": \"there is\",\n",
        "    \"here's\": \"here is\",\"they'd\": \"they would\", \"they'd've\": \"they would have\", \"they'll\": \"they will\", \"they'll've\": \"they will have\",\n",
        "    \"they're\": \"they are\", \"they've\": \"they have\", \"to've\": \"to have\", \"wasn't\": \"was not\", \"we'd\": \"we would\", \"we'd've\": \"we would have\",\n",
        "    \"we'll\": \"we will\", \"we'll've\": \"we will have\", \"we're\": \"we are\", \"we've\": \"we have\", \"weren't\": \"were not\", \"what'll\": \"what will\",\n",
        "    \"what'll've\": \"what will have\", \"what're\": \"what are\",  \"what's\": \"what is\", \"what've\": \"what have\", \"when's\": \"when is\",\n",
        "    \"when've\": \"when have\", \"where'd\": \"where did\", \"where's\": \"where is\", \"where've\": \"where have\", \"who'll\": \"who will\", \"who'll've\": \"who will have\",\n",
        "    \"who's\": \"who is\", \"who've\": \"who have\", \"why's\": \"why is\", \"why've\": \"why have\", \"will've\": \"will have\", \"won't\": \"will not\",\n",
        "    \"won't've\": \"will not have\", \"would've\": \"would have\", \"wouldn't\": \"would not\", \"wouldn't've\": \"would not have\",\n",
        "    \"y'all\": \"you all\", \"y'all'd\": \"you all would\",\"y'all'd've\": \"you all would have\",\"y'all're\": \"you all are\",\"y'all've\": \"you all have\",\n",
        "    \"you'd\": \"you would\", \"you'd've\": \"you would have\", \"you'll\": \"you will\", \"you'll've\": \"you will have\", \"you're\": \"you are\", \"you've\": \"you have\",\n",
        "    \"trump's\": \"trump is\", \"obama's\": \"obama is\", \"canada's\": \"canada is\", \"today's\": \"today is\"}\n",
        "specials = [\"’\", \"‘\", \"´\", \"`\"]\n",
        "from nltk.tokenize.treebank import TreebankWordTokenizer\n",
        "tokenizer = TreebankWordTokenizer()\n",
        "\n",
        "isolate_dict = {ord(c):f' {c} ' for c in symbols_to_isolate}\n",
        "remove_dict = {ord(c):f'' for c in symbols_to_delete}\n",
        "\n",
        "\n",
        "def handle_punctuation(x):\n",
        "    x = x.translate(remove_dict)\n",
        "    x = x.translate(isolate_dict)\n",
        "    return x\n",
        "\n",
        "def handle_contractions(x):\n",
        "    x = tokenizer.tokenize(x)\n",
        "    return x\n",
        "\n",
        "def fix_quote(x):\n",
        "    x = [x_[1:] if x_.startswith(\"'\") else x_ for x_ in x]\n",
        "    x = ' '.join(x)\n",
        "    return x\n",
        "\n",
        "def preprocess(x):\n",
        "    x = handle_punctuation(x)\n",
        "    x = handle_contractions(x)\n",
        "    x = fix_quote(x)\n",
        "    return x"
      ]
    },
    {
      "cell_type": "code",
      "execution_count": 12,
      "metadata": {
        "colab": {
          "base_uri": "https://localhost:8080/"
        },
        "id": "L1kEpI9_CPxe",
        "outputId": "6acd39e8-245e-4cff-9f5c-02af5c9be460"
      },
      "outputs": [
        {
          "name": "stderr",
          "output_type": "stream",
          "text": [
            "100%|██████████| 269038/269038 [01:45<00:00, 2542.69it/s]\n",
            "100%|██████████| 45180/45180 [00:13<00:00, 3280.11it/s]\n",
            "100%|██████████| 133782/133782 [00:39<00:00, 3370.01it/s]\n"
          ]
        }
      ],
      "source": [
        "train_x['string'] = train_x['string'].progress_apply(lambda x:preprocess(x))\n",
        "val_x['string'] = val_x['string'].progress_apply(lambda x:preprocess(x))\n",
        "\n",
        "test_x['string'] = test_x['string'].progress_apply(lambda x:preprocess(x))"
      ]
    },
    {
      "cell_type": "code",
      "execution_count": 27,
      "metadata": {
        "colab": {
          "base_uri": "https://localhost:8080/"
        },
        "id": "LEczZVFlKva0",
        "outputId": "4dca6ba4-6840-4a70-9dc3-76975fb63faa"
      },
      "outputs": [
        {
          "data": {
            "text/plain": [
              "(   index                                             string\n",
              " 0      0                even up here . . . . . . . BLACKS !\n",
              " 1      1  Blame men . There s always an excuse to blame ...\n",
              " 2      2  You have no business making any comments on th...\n",
              " 3      3  `` Let s get the black folks and the white fol...\n",
              " 4      4  I guess the issue is people not willing to put...,\n",
              " (269038, 2))"
            ]
          },
          "execution_count": 27,
          "metadata": {},
          "output_type": "execute_result"
        }
      ],
      "source": [
        "train_x.head(), train_x.shape"
      ]
    },
    {
      "cell_type": "code",
      "execution_count": 28,
      "metadata": {
        "colab": {
          "base_uri": "https://localhost:8080/"
        },
        "id": "F0LLdExWqioJ",
        "outputId": "11003a18-559f-444f-9ef7-31368eedaf0e"
      },
      "outputs": [
        {
          "name": "stderr",
          "output_type": "stream",
          "text": [
            "100%|██████████| 180153/180153 [00:00<00:00, 456002.10it/s]\n"
          ]
        },
        {
          "name": "stdout",
          "output_type": "stream",
          "text": [
            "Found embeddings for 73.74% of vocab\n",
            "Found embeddings for  99.61% of all text\n"
          ]
        },
        {
          "data": {
            "text/plain": [
              "[('don’t', 1037),\n",
              " ('it’s', 607),\n",
              " ('It’s', 554),\n",
              " ('Trump’s', 526),\n",
              " ('I’m', 469),\n",
              " ('tRump', 437),\n",
              " ('doesn’t', 370),\n",
              " ('can’t', 325),\n",
              " ('didn’t', 309),\n",
              " (\"gov't\", 291)]"
            ]
          },
          "execution_count": 28,
          "metadata": {},
          "output_type": "execute_result"
        }
      ],
      "source": [
        "vocab = build_vocab(list(train_x['string'].apply(lambda x:x.split())),verbose=False)\n",
        "oov = check_coverage(vocab,glove_embeddings)\n",
        "oov[:10]"
      ]
    },
    {
      "cell_type": "code",
      "execution_count": 29,
      "metadata": {
        "id": "bPaPiSbgtXAZ"
      },
      "outputs": [],
      "source": [
        "#By doing these preprocessing，we increase our Found embeddings from  24.72% of vocab to 73.74  for vocab\n",
        "#and Found embeddings from 89.44% to 99.61% for all text\n",
        "#as well as deliminating some high frequency oovs"
      ]
    },
    {
      "cell_type": "markdown",
      "metadata": {
        "id": "8uGzZ8KTxl0g"
      },
      "source": [
        "#Prepare the model"
      ]
    },
    {
      "cell_type": "code",
      "execution_count": 13,
      "metadata": {
        "id": "pBTdVsuIiSu_"
      },
      "outputs": [],
      "source": [
        "NUM_MODELS = 2\n",
        "BATCH_SIZE = 512\n",
        "LSTM_UNITS = 128\n",
        "DENSE_HIDDEN_UNITS = 4 * LSTM_UNITS\n",
        "EPOCHS = 4\n",
        "MAX_LEN = 200\n",
        "MAX_FEATURES = 120000\n",
        "\n",
        "IDENTITY_COLUMNS = ['male',\t'female',\t'LGBTQ',\t'christian',\t'muslim',\t'other_religions',\t'black',\t'white']\n",
        "AUX_COLUMNS = ['severe_toxicity',\t'obscene',\t'threat',\t'insult',\t'identity_attack',\t'sexual_explicit','y']\n",
        "TEXT_COLUMN = 'string'\n",
        "TARGET_COLUMN = 'y'"
      ]
    },
    {
      "cell_type": "code",
      "execution_count": 14,
      "metadata": {
        "id": "7KLS51cguVMY"
      },
      "outputs": [],
      "source": [
        "def seed_everything(seed=10086):\n",
        "    random.seed(seed)\n",
        "    os.environ['PYTHONHASHSEED'] = str(seed)\n",
        "    np.random.seed(seed)\n",
        "    torch.manual_seed(seed)\n",
        "    torch.cuda.manual_seed(seed)\n",
        "    torch.backends.cudnn.deterministic = True\n",
        "seed_everything()"
      ]
    },
    {
      "cell_type": "code",
      "execution_count": 15,
      "metadata": {
        "id": "7Mh4xcCZjOxk"
      },
      "outputs": [],
      "source": [
        "# Overall\n",
        "weights = np.ones((len(train_x),)) / 4\n",
        "# Subgroup\n",
        "weights += (train_y[IDENTITY_COLUMNS].fillna(0).values).sum(axis=1) / 4\n",
        "# Background Positive, Subgroup Negative\n",
        "weights += (((train_y['y'].values) + (train_y[IDENTITY_COLUMNS].fillna(0).values < 0.5).sum(axis=1)) > 1) / 4\n",
        "# Background Negative, Subgroup Positive\n",
        "weights += (((train_y['y'].values < 0.5) + (train_y[IDENTITY_COLUMNS].fillna(0).values >= 0.5).sum(axis=1)) > 1) / 4\n",
        "loss_weight = 1.0 / weights.mean()\n"
      ]
    },
    {
      "cell_type": "code",
      "execution_count": 16,
      "metadata": {
        "id": "suM6Du_g3fSq"
      },
      "outputs": [],
      "source": [
        "#preprocessing the data for later usage\n",
        "x_train = train_x[TEXT_COLUMN].astype(str)\n",
        "x_val = val_x[TEXT_COLUMN].astype(str)\n",
        "x_test = test_x[TEXT_COLUMN].astype(str)\n"
      ]
    },
    {
      "cell_type": "code",
      "execution_count": 17,
      "metadata": {
        "id": "h71CvsrwBF3d"
      },
      "outputs": [],
      "source": [
        "#converge the training and validation sets to increase model accuracy when predicting\n",
        "train_x_augmented = pd.concat([train_x, val_x], ignore_index=True)\n",
        "x_train_augmented = train_x_augmented[TEXT_COLUMN].astype(str)"
      ]
    },
    {
      "cell_type": "code",
      "execution_count": 18,
      "metadata": {
        "id": "2prBNzd53vcB"
      },
      "outputs": [],
      "source": [
        "#tokenizing the corpus, limiting the tokenizer to 120000 words\n",
        "#for column in IDENTITY_COLUMNS + [TARGET_COLUMN]:\n",
        "tokenizer = text.Tokenizer(num_words=MAX_FEATURES, filters='',lower=False)\n",
        "tokenizer.fit_on_texts(list(x_train) + list(x_val) + list(x_test))\n"
      ]
    },
    {
      "cell_type": "code",
      "execution_count": 19,
      "metadata": {
        "id": "Be3S9mwnGy-o"
      },
      "outputs": [],
      "source": [
        "#Sequence Bucketing\n",
        "x_train = tokenizer.texts_to_sequences(x_train)\n",
        "x_val = tokenizer.texts_to_sequences(x_val)\n",
        "x_test = tokenizer.texts_to_sequences(x_test)\n",
        "x_train_augmented = tokenizer.texts_to_sequences(x_train_augmented)"
      ]
    },
    {
      "cell_type": "code",
      "execution_count": 20,
      "metadata": {
        "id": "Eq234xv886JP"
      },
      "outputs": [],
      "source": [
        "#making sure that every sentence is of equal length by adding padding\n",
        "x_train = sequence.pad_sequences(x_train, maxlen=MAX_LEN)\n",
        "x_val = sequence.pad_sequences(x_val, maxlen=MAX_LEN)\n",
        "x_test = sequence.pad_sequences(x_test, maxlen=MAX_LEN)\n",
        "x_train_augmented = sequence.pad_sequences(x_train_augmented, maxlen=MAX_LEN)"
      ]
    },
    {
      "cell_type": "code",
      "execution_count": 21,
      "metadata": {
        "id": "-TmxmpPT-A0m"
      },
      "outputs": [],
      "source": [
        "#building the embedding matrix\n",
        "embedding_matrix = np.concatenate(\n",
        "    [build_matrix(tokenizer.word_index, f) for f in EMBEDDING_FILES], axis=-1)"
      ]
    },
    {
      "cell_type": "code",
      "execution_count": 22,
      "metadata": {
        "id": "8fKd9hACcuYq"
      },
      "outputs": [],
      "source": [
        "from keras.losses import binary_crossentropy\n",
        "def custom_loss(y_true, y_pred):\n",
        "    return binary_crossentropy(K.reshape(y_true[:,0],(-1,1)), y_pred) * y_true[:,1]"
      ]
    },
    {
      "cell_type": "code",
      "execution_count": 23,
      "metadata": {
        "id": "ECqhhaA4FoEG"
      },
      "outputs": [],
      "source": [
        "def build_model(embedding_matrix, num_aux_targets, loss_weight):\n",
        "    words = Input(shape=(MAX_LEN,))\n",
        "    x = Embedding(*embedding_matrix.shape, weights=[embedding_matrix], trainable=False)(words)\n",
        "    x = SpatialDropout1D(0.2)(x)\n",
        "    x = Bidirectional(LSTM(LSTM_UNITS, return_sequences=True))(x)\n",
        "    x = Bidirectional(LSTM(LSTM_UNITS, return_sequences=True))(x)\n",
        "\n",
        "    hidden = concatenate([\n",
        "        GlobalMaxPooling1D()(x),\n",
        "        GlobalAveragePooling1D()(x),\n",
        "    ])\n",
        "    hidden = add([hidden, Dense(DENSE_HIDDEN_UNITS, activation='relu')(hidden)])\n",
        "    hidden = add([hidden, Dense(DENSE_HIDDEN_UNITS, activation='relu')(hidden)])\n",
        "    result = Dense(1, activation='sigmoid')(hidden)\n",
        "    aux_result = Dense(num_aux_targets, activation='sigmoid')(hidden)\n",
        "\n",
        "    model = Model(inputs=words, outputs=[result, aux_result])\n",
        "    model.compile(loss=[custom_loss,'binary_crossentropy'], loss_weights=[loss_weight, 1.0], optimizer='adam',metrics=['accuracy'])\n",
        "\n",
        "    return model\n"
      ]
    },
    {
      "cell_type": "markdown",
      "metadata": {
        "id": "UN0R2m0VxZbW"
      },
      "source": [
        "#Train the model"
      ]
    },
    {
      "cell_type": "code",
      "execution_count": 24,
      "metadata": {
        "id": "ddh20xBE3Jo9"
      },
      "outputs": [],
      "source": [
        "# Metrics measuring accuracies in different groups\n",
        "def group_accuracies(prediction, y):\n",
        "    \"\"\"\n",
        "    Compute the percentage of correctly classified instances within each group and round them to four decimal places.\n",
        "    arguments:\n",
        "        prediction [pandas.DataFrame]: dataframe with 2 columns (index and pred)\n",
        "        y [pandas.DataFrame]: dataframe containing the metadata with actual labels\n",
        "    returns:\n",
        "        accuracies_dict [dict]: dictionary with group names as keys and their percentage of correctly classified instances as values\n",
        "    \"\"\"\n",
        "    y.loc[prediction.index, 'pred'] = prediction.pred\n",
        "\n",
        "    categories = ['male', 'female', 'LGBTQ', 'christian', 'muslim', 'other_religions', 'black', 'white']\n",
        "    accuracies_dict = {}\n",
        "    for category in categories:\n",
        "        group = y.loc[y[category] == 1]\n",
        "        if not group.empty:\n",
        "            group_accuracy = (group['y'] == group['pred']).mean()\n",
        "            accuracies_dict[category] = round(group_accuracy * 100, 4)\n",
        "    return accuracies_dict\n"
      ]
    },
    {
      "cell_type": "code",
      "execution_count": 25,
      "metadata": {
        "id": "X9v6kkejh6w8"
      },
      "outputs": [],
      "source": [
        "train_y = train_y.drop('from_source_domain', axis=1)\n",
        "val_y = val_y.drop('from_source_domain', axis=1)\n",
        "\n",
        "y_train = train_y[TARGET_COLUMN].values\n",
        "y_aux_train = train_y[AUX_COLUMNS].values\n"
      ]
    },
    {
      "cell_type": "code",
      "execution_count": 26,
      "metadata": {
        "colab": {
          "base_uri": "https://localhost:8080/"
        },
        "id": "TfZoBYM3AMxf",
        "outputId": "9aae0829-619d-416f-b24a-607c5f7e71d9"
      },
      "outputs": [
        {
          "name": "stderr",
          "output_type": "stream",
          "text": [
            "<ipython-input-26-9c3a8462276d>:1: DeprecationWarning: `np.int` is a deprecated alias for the builtin `int`. To silence this warning, use `int` by itself. Doing this will not modify any behavior and is safe. When replacing `np.int`, you may wish to use e.g. `np.int64` or `np.int32` to specify the precision. If you wish to review your current use, check the release note link for additional information.\n",
            "Deprecated in NumPy 1.20; for more details and guidance: https://numpy.org/devdocs/release/1.20.0-notes.html#deprecations\n",
            "  y_train = np.vstack([(train_y[TARGET_COLUMN].values>=0.5).astype(np.int),weights]).T\n"
          ]
        }
      ],
      "source": [
        "y_train = np.vstack([(train_y[TARGET_COLUMN].values>=0.5).astype(np.int),weights]).T\n",
        "y_aux_train = train_y[AUX_COLUMNS].values"
      ]
    },
    {
      "cell_type": "code",
      "execution_count": 27,
      "metadata": {
        "colab": {
          "base_uri": "https://localhost:8080/"
        },
        "id": "7xkFgrHgA7ph",
        "outputId": "277ca868-8734-4a07-dc3b-b57afe1a951c"
      },
      "outputs": [
        {
          "data": {
            "text/plain": [
              "((269038, 200), (269038, 2), (269038, 7))"
            ]
          },
          "execution_count": 27,
          "metadata": {},
          "output_type": "execute_result"
        }
      ],
      "source": [
        "x_train.shape,y_train.shape, y_aux_train.shape"
      ]
    },
    {
      "cell_type": "code",
      "execution_count": 28,
      "metadata": {
        "id": "0s9HTeUd1z31"
      },
      "outputs": [],
      "source": [
        "checkpoint_val = []"
      ]
    },
    {
      "cell_type": "code",
      "execution_count": 29,
      "metadata": {
        "colab": {
          "base_uri": "https://localhost:8080/"
        },
        "id": "QHxBXbBb1cYN",
        "outputId": "68876c8c-f50b-4dfb-c5f7-dfd460387f78"
      },
      "outputs": [
        {
          "name": "stdout",
          "output_type": "stream",
          "text": [
            "Model  0\n",
            "526/526 [==============================] - 144s 256ms/step - loss: 0.3193 - dense_2_loss: 0.1748 - dense_3_loss: 0.0790 - dense_2_accuracy: 0.4582 - dense_3_accuracy: 0.0273 - lr: 0.0010\n",
            "23/23 [==============================] - 9s 348ms/step\n",
            "Model  1\n",
            "526/526 [==============================] - 147s 262ms/step - loss: 0.3195 - dense_6_loss: 0.1746 - dense_7_loss: 0.0795 - dense_6_accuracy: 0.4586 - dense_7_accuracy: 0.0269 - lr: 0.0010\n",
            "23/23 [==============================] - 9s 351ms/step\n"
          ]
        }
      ],
      "source": [
        "#fitting model on whole training data\n",
        "from keras import backend as K\n",
        "\n",
        "for model_idx in range(NUM_MODELS):\n",
        "    print('Model ', model_idx)\n",
        "    model = build_model(embedding_matrix, y_aux_train.shape[-1], loss_weight)\n",
        "    for global_epoch in range(1):\n",
        "        model.fit(\n",
        "            x_train,\n",
        "            [y_train, y_aux_train],\n",
        "            batch_size=BATCH_SIZE,\n",
        "            epochs=1,\n",
        "            verbose=1,\n",
        "            callbacks=[\n",
        "                LearningRateScheduler(lambda _: 1e-3 * (0.55 ** global_epoch))\n",
        "\n",
        "            ]\n",
        "        )\n",
        "        checkpoint_val.append(model.predict(x_val, batch_size=2048)[0].flatten())\n",
        "\n"
      ]
    },
    {
      "cell_type": "code",
      "execution_count": 30,
      "metadata": {
        "colab": {
          "base_uri": "https://localhost:8080/"
        },
        "id": "4z-VvtkJ5E7O",
        "outputId": "c7cb0df4-d4f4-4afa-96d3-c3462fa4751c"
      },
      "outputs": [
        {
          "name": "stdout",
          "output_type": "stream",
          "text": [
            "{'male': 89.255, 'female': 90.3751, 'LGBTQ': 80.3706, 'christian': 92.8791, 'muslim': 80.6635, 'other_religions': 87.2211, 'black': 75.3632, 'white': 78.7583}\n"
          ]
        },
        {
          "name": "stderr",
          "output_type": "stream",
          "text": [
            "<ipython-input-24-c0a3fcb5de0b>:11: DeprecationWarning: In a future version, `df.iloc[:, i] = newvals` will attempt to set the values inplace instead of always setting a new array. To retain the old behavior, use either `df[df.columns[i]] = newvals` or, if columns are non-unique, `df.isetitem(i, newvals)`\n",
            "  y.loc[prediction.index, 'pred'] = prediction.pred\n"
          ]
        }
      ],
      "source": [
        "val_predictions = np.average(checkpoint_val, axis=0)\n",
        "pred = [1 if pred > 0.50 else 0 for pred in val_predictions]\n",
        "\n",
        "prediction_df = pd.DataFrame.from_dict({\n",
        "    'ID': val_y.index,\n",
        "    'pred': pred\n",
        "})\n",
        "\n",
        "group_accs = group_accuracies(prediction_df, val_y)\n",
        "print(group_accs)"
      ]
    },
    {
      "cell_type": "code",
      "execution_count": null,
      "metadata": {
        "id": "LHNiOrE1I62D"
      },
      "outputs": [],
      "source": [
        "#We are now ok with the output"
      ]
    },
    {
      "cell_type": "code",
      "execution_count": null,
      "metadata": {
        "id": "5MOc6P47g8Pj"
      },
      "outputs": [],
      "source": [
        "# Overall\n",
        "weights = np.ones((len(x_train_augmented),)) / 4\n",
        "# Subgroup\n",
        "weights += (train_y_augmented[IDENTITY_COLUMNS].fillna(0).values>=0.5).sum(axis=1).astype(bool).astype(np.int) / 4\n",
        "# Background Positive, Subgroup Negative\n",
        "weights += (( (train_y_augmented['y'].values>=0.5).astype(bool).astype(np.int) +\n",
        "   (train_y_augmented[IDENTITY_COLUMNS].fillna(0).values<0.5).sum(axis=1).astype(bool).astype(np.int) ) > 1 ).astype(bool).astype(np.int) / 4\n",
        "# Background Negative, Subgroup Positive\n",
        "weights += (( (train_y_augmented['y'].values<0.5).astype(bool).astype(np.int) +\n",
        "   (train_y_augmented[IDENTITY_COLUMNS].fillna(0).values>=0.5).sum(axis=1).astype(bool).astype(np.int) ) > 1 ).astype(bool).astype(np.int) / 4\n",
        "loss_weight = 1.0 / weights.mean()"
      ]
    },
    {
      "cell_type": "code",
      "execution_count": 34,
      "metadata": {
        "colab": {
          "base_uri": "https://localhost:8080/"
        },
        "id": "m6es2gJuCpX7",
        "outputId": "59ce285d-3ebe-409f-c2f6-d857e55653c3"
      },
      "outputs": [
        {
          "name": "stderr",
          "output_type": "stream",
          "text": [
            "<ipython-input-34-bd1f515eb4e1>:5: DeprecationWarning: `np.int` is a deprecated alias for the builtin `int`. To silence this warning, use `int` by itself. Doing this will not modify any behavior and is safe. When replacing `np.int`, you may wish to use e.g. `np.int64` or `np.int32` to specify the precision. If you wish to review your current use, check the release note link for additional information.\n",
            "Deprecated in NumPy 1.20; for more details and guidance: https://numpy.org/devdocs/release/1.20.0-notes.html#deprecations\n",
            "  y_train = np.vstack([(train_y_augmented['y'].values>=0.5).astype(np.int),weights]).T\n"
          ]
        }
      ],
      "source": [
        "train_y_augmented = pd.concat([train_y, val_y], axis=0, ignore_index=True)\n",
        "\n",
        "\n",
        "y_aux_train = train_y_augmented[AUX_COLUMNS].values\n",
        "y_train = np.vstack([(train_y_augmented['y'].values>=0.5).astype(np.int),weights]).T"
      ]
    },
    {
      "cell_type": "code",
      "execution_count": 35,
      "metadata": {
        "id": "dfUBM3419v4C"
      },
      "outputs": [],
      "source": [
        "checkpoint_predictions = []"
      ]
    },
    {
      "cell_type": "code",
      "execution_count": 36,
      "metadata": {
        "colab": {
          "base_uri": "https://localhost:8080/"
        },
        "id": "_P822X7TY1SI",
        "outputId": "4d638266-424e-4146-8a1e-fb286a1aa731"
      },
      "outputs": [
        {
          "name": "stdout",
          "output_type": "stream",
          "text": [
            "Model  0\n",
            "614/614 [==============================] - 169s 262ms/step - loss: 0.3534 - dense_10_loss: 0.1277 - dense_11_loss: 0.0772 - dense_10_accuracy: 0.4554 - dense_11_accuracy: 0.0277 - lr: 0.0010\n",
            "66/66 [==============================] - 25s 361ms/step\n",
            "614/614 [==============================] - 161s 263ms/step - loss: 0.2951 - dense_10_loss: 0.1086 - dense_11_loss: 0.0602 - dense_10_accuracy: 0.4611 - dense_11_accuracy: 0.0340 - lr: 5.5000e-04\n",
            "66/66 [==============================] - 24s 363ms/step\n",
            "614/614 [==============================] - 161s 263ms/step - loss: 0.2801 - dense_10_loss: 0.1034 - dense_11_loss: 0.0566 - dense_10_accuracy: 0.4628 - dense_11_accuracy: 0.0324 - lr: 3.0250e-04\n",
            "66/66 [==============================] - 24s 364ms/step\n",
            "614/614 [==============================] - 161s 263ms/step - loss: 0.2680 - dense_10_loss: 0.0988 - dense_11_loss: 0.0543 - dense_10_accuracy: 0.4644 - dense_11_accuracy: 0.0304 - lr: 1.6638e-04\n",
            "66/66 [==============================] - 24s 363ms/step\n",
            "Model  1\n",
            "614/614 [==============================] - 169s 262ms/step - loss: 0.3529 - dense_14_loss: 0.1277 - dense_15_loss: 0.0766 - dense_14_accuracy: 0.4557 - dense_15_accuracy: 0.0271 - lr: 0.0010\n",
            "66/66 [==============================] - 25s 362ms/step\n",
            "614/614 [==============================] - 161s 263ms/step - loss: 0.2953 - dense_14_loss: 0.1087 - dense_15_loss: 0.0602 - dense_14_accuracy: 0.4612 - dense_15_accuracy: 0.0324 - lr: 5.5000e-04\n",
            "66/66 [==============================] - 24s 363ms/step\n",
            "614/614 [==============================] - 161s 263ms/step - loss: 0.2797 - dense_14_loss: 0.1032 - dense_15_loss: 0.0565 - dense_14_accuracy: 0.4630 - dense_15_accuracy: 0.0326 - lr: 3.0250e-04\n",
            "66/66 [==============================] - 24s 362ms/step\n",
            "614/614 [==============================] - 161s 263ms/step - loss: 0.2687 - dense_14_loss: 0.0991 - dense_15_loss: 0.0543 - dense_14_accuracy: 0.4643 - dense_15_accuracy: 0.0311 - lr: 1.6638e-04\n",
            "66/66 [==============================] - 24s 363ms/step\n"
          ]
        }
      ],
      "source": [
        "#fitting model on whole training data\n",
        "from keras import backend as K\n",
        "\n",
        "for model_idx in range(NUM_MODELS):\n",
        "    print('Model ', model_idx)\n",
        "    model = build_model(embedding_matrix, y_aux_train.shape[-1], loss_weight)\n",
        "    for global_epoch in range(EPOCHS):\n",
        "        model.fit(\n",
        "            x_train_augmented,\n",
        "            [y_train, y_aux_train],\n",
        "            batch_size=BATCH_SIZE,\n",
        "            epochs=1,\n",
        "            verbose=1,\n",
        "            callbacks=[\n",
        "                LearningRateScheduler(lambda _: 1e-3 * (0.55 ** global_epoch))\n",
        "\n",
        "            ]\n",
        "        )\n",
        "        checkpoint_predictions.append(model.predict(x_test, batch_size=2048)[0].flatten())\n"
      ]
    },
    {
      "cell_type": "code",
      "execution_count": 37,
      "metadata": {
        "id": "wV2NO3QjUO9e"
      },
      "outputs": [],
      "source": [
        "predictions = np.average(checkpoint_predictions, axis=0)\n",
        "pred = [1 if pred > 0.5 else 0 for pred in predictions]\n",
        "\n",
        "submission = pd.DataFrame.from_dict({\n",
        "    'ID': test_x.index,\n",
        "    'pred': pred\n",
        "})\n",
        "submission.to_csv('submission.csv', index=False)"
      ]
    },
    {
      "cell_type": "code",
      "execution_count": 38,
      "metadata": {
        "colab": {
          "base_uri": "https://localhost:8080/"
        },
        "id": "PdVsih2Geaw3",
        "outputId": "b6ff8d67-23c3-4781-cdec-7790f1b1ec74"
      },
      "outputs": [
        {
          "name": "stdout",
          "output_type": "stream",
          "text": [
            "0    121778\n",
            "1     12004\n",
            "Name: pred, dtype: int64\n"
          ]
        }
      ],
      "source": [
        "pred_counts = submission['pred'].value_counts()\n",
        "\n",
        "print(pred_counts)"
      ]
    }
  ],
  "metadata": {
    "accelerator": "GPU",
    "colab": {
      "collapsed_sections": [
        "QL2x8ztPxINT"
      ],
      "gpuType": "T4",
      "provenance": []
    },
    "kernelspec": {
      "display_name": "Python 3.8.5 ('base')",
      "language": "python",
      "name": "python3"
    },
    "language_info": {
      "name": "python",
      "version": "3.8.5"
    },
    "vscode": {
      "interpreter": {
        "hash": "fd75362e27048f1ead3b65beb4812b1da3d387150557ce53b099093c32022a5e"
      }
    }
  },
  "nbformat": 4,
  "nbformat_minor": 0
}
