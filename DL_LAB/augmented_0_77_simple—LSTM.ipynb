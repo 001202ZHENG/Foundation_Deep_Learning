{
  "cells": [
    {
      "cell_type": "markdown",
      "source": [
        "#Import necessary library and other files"
      ],
      "metadata": {
        "id": "iaM4LQ7jw95j"
      }
    },
    {
      "cell_type": "code",
      "execution_count": 1,
      "metadata": {
        "id": "I9M9Mqc-Pil6"
      },
      "outputs": [],
      "source": [
        "# Basic imports for data handling\n",
        "import numpy as np\n",
        "import pandas as pd\n",
        "import os\n",
        "import time\n",
        "import gc\n",
        "import random\n",
        "# Imports for progress bar\n",
        "from tqdm import tqdm_notebook as tqdm\n",
        "# Keras imports for the model\n",
        "from keras.models import Model\n",
        "from keras.layers import Input, Dense, Embedding, SpatialDropout1D, add, concatenate\n",
        "from keras.layers import LSTM, Bidirectional, GlobalMaxPooling1D, GlobalAveragePooling1D\n",
        "from keras.preprocessing import text, sequence\n",
        "from keras.callbacks import LearningRateScheduler\n",
        "# PyTorch imports for neural network functionality\n",
        "import torch\n",
        "from torch import nn\n",
        "from torch.utils import data\n",
        "from torch.nn import functional as F\n",
        "# Gensim for loading word vectors\n",
        "from gensim.models import KeyedVectors\n",
        "# Google Colab import for drive mounting\n",
        "from google.colab import drive\n",
        "import matplotlib.pyplot as plt\n"
      ]
    },
    {
      "cell_type": "code",
      "source": [
        "from tqdm import tqdm\n",
        "tqdm.pandas()\n"
      ],
      "metadata": {
        "id": "I_C4FWIDbVzL"
      },
      "execution_count": 2,
      "outputs": []
    },
    {
      "cell_type": "code",
      "execution_count": 3,
      "metadata": {
        "id": "UvTnljP8LRpQ",
        "colab": {
          "base_uri": "https://localhost:8080/"
        },
        "outputId": "8ed3d67d-c89c-4972-9353-2d9b502d6393"
      },
      "outputs": [
        {
          "output_type": "stream",
          "name": "stdout",
          "text": [
            "Mounted at /content/drive\n"
          ]
        }
      ],
      "source": [
        "#Mount to the dir of dataset\n",
        "drive = drive.mount('/content/drive')\n",
        "data_dir = 'drive/MyDrive/kaggle_data'"
      ]
    },
    {
      "cell_type": "code",
      "execution_count": 4,
      "metadata": {
        "colab": {
          "base_uri": "https://localhost:8080/"
        },
        "id": "0i7G9TBpMcMW",
        "outputId": "f502c151-266a-4096-a7f5-e58fff6d822f"
      },
      "outputs": [
        {
          "output_type": "stream",
          "name": "stdout",
          "text": [
            "CUDA available: True\n"
          ]
        }
      ],
      "source": [
        "# to gpu\n",
        "import torch\n",
        "cuda_available = torch.cuda.is_available()\n",
        "print(\"CUDA available:\", cuda_available)\n",
        "device = torch.device('cuda')"
      ]
    },
    {
      "cell_type": "code",
      "execution_count": 5,
      "metadata": {
        "id": "IQxJfO40PlSr"
      },
      "outputs": [],
      "source": [
        "NUM_MODELS = 2\n",
        "BATCH_SIZE = 256\n",
        "LSTM_UNITS = 128\n",
        "DENSE_HIDDEN_UNITS = 4 * LSTM_UNITS\n",
        "EPOCHS = 4\n",
        "MAX_LEN = 220\n"
      ]
    },
    {
      "cell_type": "code",
      "source": [
        "import zipfile\n",
        "\n",
        "# 定义压缩文件的路径\n",
        "zip_file_paths = [\n",
        "    '/content/drive/MyDrive/kaggle_data/crawl-300d-2M.vec.zip',\n",
        "    '/content/drive/MyDrive/kaggle_data/glove.840B.300d.txt.zip'\n",
        "]\n",
        "\n",
        "# 解压缩文件\n",
        "for zip_file_path in zip_file_paths:\n",
        "    with zipfile.ZipFile(zip_file_path, 'r') as zip_ref:\n",
        "        zip_ref.extractall('/content/drive/MyDrive/kaggle_data/')\n"
      ],
      "metadata": {
        "id": "cjo3kwky1Tmp"
      },
      "execution_count": 6,
      "outputs": []
    },
    {
      "cell_type": "code",
      "execution_count": 7,
      "metadata": {
        "id": "l7UuNQBxXUmQ"
      },
      "outputs": [],
      "source": [
        "#预训练的词向量文件\n",
        "\n",
        "EMBEDDING_FILES = [\n",
        "    '/content/drive/MyDrive/kaggle_data/crawl-300d-2M.vec',\n",
        "    '/content/drive/MyDrive/kaggle_data/glove.840B.300d.txt'\n",
        "]\n",
        "\n",
        "CRAWL_EMBEDDING_PATH = '/content/drive/MyDrive/kaggle_data/crawl-300d-2M.vec'\n",
        "GLOVE_EMBEDDING_PATH = '/content/drive/MyDrive/kaggle_data/glove.840B.300d.txt'"
      ]
    },
    {
      "cell_type": "code",
      "execution_count": 8,
      "metadata": {
        "id": "63Wt4iUMLlov"
      },
      "outputs": [],
      "source": [
        "# 使用文件路径读取 CSV 文件\n",
        "train_x = pd.read_csv(os.path.join(data_dir, 'train_x.csv'))\n",
        "train_y = pd.read_csv(os.path.join(data_dir, 'train_y.csv'))\n",
        "val_x = pd.read_csv(os.path.join(data_dir, 'val_x.csv'))\n",
        "val_y = pd.read_csv(os.path.join(data_dir, 'val_y.csv'))\n",
        "test_x = pd.read_csv(os.path.join(data_dir, 'test_x.csv'))"
      ]
    },
    {
      "cell_type": "code",
      "source": [
        "symbols_to_isolate = '.,?!-;*\"…:—()%#$&_/@＼・ω+=”“[]^–>\\\\°<~•≠™ˈʊɒ∞§{}·τα❤☺ɡ|¢→̶`❥━┣┫┗Ｏ►★©―ɪ✔®\\x96\\x92●£♥➤´¹☕≈÷♡◐║▬′ɔː€۩۞†μ✒➥═☆ˌ◄½ʻπδηλσερνʃ✬ＳＵＰＥＲＩＴ☻±♍µº¾✓◾؟．⬅℅»Вав❣⋅¿¬♫ＣＭβ█▓▒░⇒⭐›¡₂₃❧▰▔◞▀▂▃▄▅▆▇↙γ̄″☹➡«φ⅓„✋：¥̲̅́∙‛◇✏▷❓❗¶˚˙）сиʿ✨。ɑ\\x80◕！％¯−ﬂﬁ₁²ʌ¼⁴⁄₄⌠♭✘╪▶☭✭♪☔☠♂☃☎✈✌✰❆☙○‣⚓年∎ℒ▪▙☏⅛ｃａｓǀ℮¸ｗ‚∼‖ℳ❄←☼⋆ʒ⊂、⅔¨͡๏⚾⚽Φ×θ￦？（℃⏩☮⚠月✊❌⭕▸■⇌☐☑⚡☄ǫ╭∩╮，例＞ʕɐ̣Δ₀✞┈╱╲▏▕┃╰▊▋╯┳┊≥☒↑☝ɹ✅☛♩☞ＡＪＢ◔◡↓♀⬆̱ℏ\\x91⠀ˤ╚↺⇤∏✾◦♬³の｜／∵∴√Ω¤☜▲↳▫‿⬇✧ｏｖｍ－２０８＇‰≤∕ˆ⚜☁'\n",
        "symbols_to_delete = '\\n🍕\\r🐵😑\\xa0\\ue014\\t\\uf818\\uf04a\\xad😢🐶️\\uf0e0😜😎👊\\u200b\\u200e😁عدويهصقأناخلىبمغر😍💖💵Е👎😀😂\\u202a\\u202c🔥😄🏻💥ᴍʏʀᴇɴᴅᴏᴀᴋʜᴜʟᴛᴄᴘʙғᴊᴡɢ😋👏שלוםבי😱‼\\x81エンジ故障\\u2009🚌ᴵ͞🌟😊😳😧🙀😐😕\\u200f👍😮😃😘אעכח💩💯⛽🚄🏼ஜ😖ᴠ🚲‐😟😈💪🙏🎯🌹😇💔😡\\x7f👌ἐὶήιὲκἀίῃἴξ🙄Ｈ😠\\ufeff\\u2028😉😤⛺🙂\\u3000تحكسة👮💙فزط😏🍾🎉😞\\u2008🏾😅😭👻😥😔😓🏽🎆🍻🍽🎶🌺🤔😪\\x08‑🐰🐇🐱🙆😨🙃💕𝘊𝘦𝘳𝘢𝘵𝘰𝘤𝘺𝘴𝘪𝘧𝘮𝘣💗💚地獄谷улкнПоАН🐾🐕😆ה🔗🚽歌舞伎🙈😴🏿🤗🇺🇸мυтѕ⤵🏆🎃😩\\u200a🌠🐟💫💰💎эпрд\\x95🖐🙅⛲🍰🤐👆🙌\\u2002💛🙁👀🙊🙉\\u2004ˢᵒʳʸᴼᴷᴺʷᵗʰᵉᵘ\\x13🚬🤓\\ue602😵άοόςέὸתמדףנרךצט😒͝🆕👅👥👄🔄🔤👉👤👶👲🔛🎓\\uf0b7\\uf04c\\x9f\\x10成都😣⏺😌🤑🌏😯ех😲Ἰᾶὁ💞🚓🔔📚🏀👐\\u202d💤🍇\\ue613小土豆🏡❔⁉\\u202f👠》कर्मा🇹🇼🌸蔡英文🌞🎲レクサス😛外国人关系Сб💋💀🎄💜🤢َِьыгя不是\\x9c\\x9d🗑\\u2005💃📣👿༼つ༽😰ḷЗз▱ц￼🤣卖温哥华议会下降你失去所有的钱加拿大坏税骗子🐝ツ🎅\\x85🍺آإشء🎵🌎͟ἔ油别克🤡🤥😬🤧й\\u2003🚀🤴ʲшчИОРФДЯМюж😝🖑ὐύύ特殊作戦群щ💨圆明园קℐ🏈😺🌍⏏ệ🍔🐮🍁🍆🍑🌮🌯🤦\\u200d𝓒𝓲𝓿𝓵안영하세요ЖљКћ🍀😫🤤ῦ我出生在了可以说普通话汉语好极🎼🕺🍸🥂🗽🎇🎊🆘🤠👩🖒🚪天一家⚲\\u2006⚭⚆⬭⬯⏖新✀╌🇫🇷🇩🇪🇮🇬🇧😷🇨🇦ХШ🌐\\x1f杀鸡给猴看ʁ𝗪𝗵𝗲𝗻𝘆𝗼𝘂𝗿𝗮𝗹𝗶𝘇𝗯𝘁𝗰𝘀𝘅𝗽𝘄𝗱📺ϖ\\u2000үսᴦᎥһͺ\\u2007հ\\u2001ɩｙｅ൦ｌƽｈ𝐓𝐡𝐞𝐫𝐮𝐝𝐚𝐃𝐜𝐩𝐭𝐢𝐨𝐧Ƅᴨןᑯ໐ΤᏧ௦Іᴑ܁𝐬𝐰𝐲𝐛𝐦𝐯𝐑𝐙𝐣𝐇𝐂𝐘𝟎ԜТᗞ౦〔Ꭻ𝐳𝐔𝐱𝟔𝟓𝐅🐋ﬃ💘💓ё𝘥𝘯𝘶💐🌋🌄🌅𝙬𝙖𝙨𝙤𝙣𝙡𝙮𝙘𝙠𝙚𝙙𝙜𝙧𝙥𝙩𝙪𝙗𝙞𝙝𝙛👺🐷ℋ𝐀𝐥𝐪🚶𝙢Ἱ🤘ͦ💸ج패티Ｗ𝙇ᵻ👂👃ɜ🎫\\uf0a7БУі🚢🚂ગુજરાતીῆ🏃𝓬𝓻𝓴𝓮𝓽𝓼☘﴾̯﴿₽\\ue807𝑻𝒆𝒍𝒕𝒉𝒓𝒖𝒂𝒏𝒅𝒔𝒎𝒗𝒊👽😙\\u200cЛ‒🎾👹⎌🏒⛸公寓养宠物吗🏄🐀🚑🤷操美𝒑𝒚𝒐𝑴🤙🐒欢迎来到阿拉斯ספ𝙫🐈𝒌𝙊𝙭𝙆𝙋𝙍𝘼𝙅ﷻ🦄巨收赢得白鬼愤怒要买额ẽ🚗🐳𝟏𝐟𝟖𝟑𝟕𝒄𝟗𝐠𝙄𝙃👇锟斤拷𝗢𝟳𝟱𝟬⦁マルハニチロ株式社⛷한국어ㄸㅓ니͜ʖ𝘿𝙔₵𝒩ℯ𝒾𝓁𝒶𝓉𝓇𝓊𝓃𝓈𝓅ℴ𝒻𝒽𝓀𝓌𝒸𝓎𝙏ζ𝙟𝘃𝗺𝟮𝟭𝟯𝟲👋🦊多伦🐽🎻🎹⛓🏹🍷🦆为和中友谊祝贺与其想象对法如直接问用自己猜本传教士没积唯认识基督徒曾经让相信耶稣复活死怪他但当们聊些政治题时候战胜因圣把全堂结婚孩恐惧且栗谓这样还♾🎸🤕🤒⛑🎁批判检讨🏝🦁🙋😶쥐스탱트뤼도석유가격인상이경제황을렵게만들지않록잘관리해야합다캐나에서대마초와화약금의품런성분갈때는반드시허된사용🔫👁凸ὰ💲🗯𝙈Ἄ𝒇𝒈𝒘𝒃𝑬𝑶𝕾𝖙𝖗𝖆𝖎𝖌𝖍𝖕𝖊𝖔𝖑𝖉𝖓𝖐𝖜𝖞𝖚𝖇𝕿𝖘𝖄𝖛𝖒𝖋𝖂𝕴𝖟𝖈𝕸👑🚿💡知彼百\\uf005𝙀𝒛𝑲𝑳𝑾𝒋𝟒😦𝙒𝘾𝘽🏐𝘩𝘨ὼṑ𝑱𝑹𝑫𝑵𝑪🇰🇵👾ᓇᒧᔭᐃᐧᐦᑳᐨᓃᓂᑲᐸᑭᑎᓀᐣ🐄🎈🔨🐎🤞🐸💟🎰🌝🛳点击查版🍭𝑥𝑦𝑧ＮＧ👣\\uf020っ🏉ф💭🎥Ξ🐴👨🤳🦍\\x0b🍩𝑯𝒒😗𝟐🏂👳🍗🕉🐲چی𝑮𝗕𝗴🍒ꜥⲣⲏ🐑⏰鉄リ事件ї💊「」\\uf203\\uf09a\\uf222\\ue608\\uf202\\uf099\\uf469\\ue607\\uf410\\ue600燻製シ虚偽屁理屈Г𝑩𝑰𝒀𝑺🌤𝗳𝗜𝗙𝗦𝗧🍊ὺἈἡχῖΛ⤏🇳𝒙ψՁմեռայինրւդձ冬至ὀ𝒁🔹🤚🍎𝑷🐂💅𝘬𝘱𝘸𝘷𝘐𝘭𝘓𝘖𝘹𝘲𝘫کΒώ💢ΜΟΝΑΕ🇱♲𝝈↴💒⊘Ȼ🚴🖕🖤🥘📍👈➕🚫🎨🌑🐻𝐎𝐍𝐊𝑭🤖🎎😼🕷ｇｒｎｔｉｄｕｆｂｋ𝟰🇴🇭🇻🇲𝗞𝗭𝗘𝗤👼📉🍟🍦🌈🔭《🐊🐍\\uf10aლڡ🐦\\U0001f92f\\U0001f92a🐡💳ἱ🙇𝗸𝗟𝗠𝗷🥜さようなら🔼'\n",
        "punct = \"/-'?!.,#$%\\'()*+-/:;<=>@[\\\\]^_`{|}~`\" + '\"\"“”’' + '∞θ÷α•à−β∅³π‘₹´°£€\\×™√²—–&'\n",
        "small_caps_mapping = {\n",
        "    \"ᴀ\": \"a\", \"ʙ\": \"b\", \"ᴄ\": \"c\", \"ᴅ\": \"d\", \"ᴇ\": \"e\", \"ғ\": \"f\", \"ɢ\": \"g\", \"ʜ\": \"h\", \"ɪ\": \"i\",\n",
        "    \"ᴊ\": \"j\", \"ᴋ\": \"k\", \"ʟ\": \"l\", \"ᴍ\": \"m\", \"ɴ\": \"n\", \"ᴏ\": \"o\", \"ᴘ\": \"p\", \"ǫ\": \"q\", \"ʀ\": \"r\",\n",
        "    \"s\": \"s\", \"ᴛ\": \"t\", \"ᴜ\": \"u\", \"ᴠ\": \"v\", \"ᴡ\": \"w\", \"x\": \"x\", \"ʏ\": \"y\", \"ᴢ\": \"z\"}\n",
        "contraction_mapping = {\n",
        "    \"ain't\": \"is not\", \"aren't\": \"are not\",\"can't\": \"cannot\", \"'cause\": \"because\", \"could've\": \"could have\", \"couldn't\": \"could not\",\n",
        "    \"didn't\": \"did not\",  \"doesn't\": \"does not\", \"don't\": \"do not\", \"hadn't\": \"had not\", \"hasn't\": \"has not\", \"haven't\": \"have not\",\n",
        "    \"he'd\": \"he would\",\"he'll\": \"he will\", \"he's\": \"he is\", \"how'd\": \"how did\", \"how'd'y\": \"how do you\", \"how'll\": \"how will\", \"how's\": \"how is\",\n",
        "    \"I'd\": \"I would\", \"I'd've\": \"I would have\", \"I'll\": \"I will\", \"I'll've\": \"I will have\",\"I'm\": \"I am\", \"I've\": \"I have\", \"i'd\": \"i would\", \"i'd've\":\n",
        "    \"i would have\", \"i'll\": \"i will\",  \"i'll've\": \"i will have\",\"i'm\": \"i am\", \"i've\": \"i have\", \"isn't\": \"is not\", \"it'd\": \"it would\",\n",
        "    \"it'd've\": \"it would have\", \"it'll\": \"it will\", \"it'll've\": \"it will have\",\"it's\": \"it is\", \"let's\": \"let us\", \"ma'am\": \"madam\",\n",
        "    \"mayn't\": \"may not\", \"might've\": \"might have\",\"mightn't\": \"might not\",\"mightn't've\": \"might not have\", \"must've\": \"must have\",\n",
        "    \"mustn't\": \"must not\", \"mustn't've\": \"must not have\", \"needn't\": \"need not\", \"needn't've\": \"need not have\",\n",
        "    \"o'clock\": \"of the clock\", \"oughtn't\": \"ought not\", \"oughtn't've\": \"ought not have\", \"shan't\": \"shall not\",\n",
        "    \"sha'n't\": \"shall not\", \"shan't've\": \"shall not have\", \"she'd\": \"she would\", \"she'd've\": \"she would have\",\n",
        "    \"she'll\": \"she will\", \"she'll've\": \"she will have\", \"she's\": \"she is\", \"should've\": \"should have\", \"shouldn't\": \"should not\",\n",
        "    \"shouldn't've\": \"should not have\", \"so've\": \"so have\",\"so's\": \"so as\", \"this's\":\"this is\",\"that'd\": \"that would\",\n",
        "    \"that'd've\": \"that would have\", \"that's\": \"that is\", \"there'd\": \"there would\", \"there'd've\": \"there would have\", \"there's\": \"there is\",\n",
        "    \"here's\": \"here is\",\"they'd\": \"they would\", \"they'd've\": \"they would have\", \"they'll\": \"they will\", \"they'll've\": \"they will have\",\n",
        "    \"they're\": \"they are\", \"they've\": \"they have\", \"to've\": \"to have\", \"wasn't\": \"was not\", \"we'd\": \"we would\", \"we'd've\": \"we would have\",\n",
        "    \"we'll\": \"we will\", \"we'll've\": \"we will have\", \"we're\": \"we are\", \"we've\": \"we have\", \"weren't\": \"were not\", \"what'll\": \"what will\",\n",
        "    \"what'll've\": \"what will have\", \"what're\": \"what are\",  \"what's\": \"what is\", \"what've\": \"what have\", \"when's\": \"when is\",\n",
        "    \"when've\": \"when have\", \"where'd\": \"where did\", \"where's\": \"where is\", \"where've\": \"where have\", \"who'll\": \"who will\", \"who'll've\": \"who will have\",\n",
        "    \"who's\": \"who is\", \"who've\": \"who have\", \"why's\": \"why is\", \"why've\": \"why have\", \"will've\": \"will have\", \"won't\": \"will not\",\n",
        "    \"won't've\": \"will not have\", \"would've\": \"would have\", \"wouldn't\": \"would not\", \"wouldn't've\": \"would not have\",\n",
        "    \"y'all\": \"you all\", \"y'all'd\": \"you all would\",\"y'all'd've\": \"you all would have\",\"y'all're\": \"you all are\",\"y'all've\": \"you all have\",\n",
        "    \"you'd\": \"you would\", \"you'd've\": \"you would have\", \"you'll\": \"you will\", \"you'll've\": \"you will have\", \"you're\": \"you are\", \"you've\": \"you have\",\n",
        "    \"trump's\": \"trump is\", \"obama's\": \"obama is\", \"canada's\": \"canada is\", \"today's\": \"today is\"}\n",
        "specail_signs = { \"…\": \"...\", \"₂\": \"2\"}\n",
        "specials = [\"’\", \"‘\", \"´\", \"`\"]\n",
        "from nltk.tokenize.treebank import TreebankWordTokenizer\n",
        "tokenizer = TreebankWordTokenizer()\n",
        "\n",
        "\n",
        "isolate_dict = {ord(c):f' {c} ' for c in symbols_to_isolate}\n",
        "remove_dict = {ord(c):f'' for c in symbols_to_delete}\n",
        "\n",
        "\n",
        "def handle_punctuation(x):\n",
        "    x = x.translate(remove_dict)\n",
        "    x = x.translate(isolate_dict)\n",
        "    return x\n",
        "\n",
        "def handle_contractions(x):\n",
        "    x = tokenizer.tokenize(x)\n",
        "    return x\n",
        "\n",
        "def fix_quote(x):\n",
        "    x = [x_[1:] if x_.startswith(\"'\") else x_ for x_ in x]\n",
        "    x = ' '.join(x)\n",
        "    return x\n",
        "\n",
        "def preprocess(x):\n",
        "    x = handle_punctuation(x)\n",
        "    x = handle_contractions(x)\n",
        "    x = fix_quote(x)\n",
        "    return x"
      ],
      "metadata": {
        "id": "Ba3-hsqECMaW"
      },
      "execution_count": 11,
      "outputs": []
    },
    {
      "cell_type": "code",
      "source": [
        "train_x['string'] = train_x['string'].progress_apply(lambda x:preprocess(x))\n",
        "val_x['string'] = val_x['string'].progress_apply(lambda x:preprocess(x))\n",
        "\n",
        "test_x['string'] = test_x['string'].progress_apply(lambda x:preprocess(x))"
      ],
      "metadata": {
        "colab": {
          "base_uri": "https://localhost:8080/"
        },
        "id": "L1kEpI9_CPxe",
        "outputId": "fb2d3efa-4017-41d9-8c5c-2bf289f305f8"
      },
      "execution_count": 12,
      "outputs": [
        {
          "output_type": "stream",
          "name": "stderr",
          "text": [
            "100%|██████████| 269038/269038 [01:34<00:00, 2848.10it/s]\n",
            "100%|██████████| 45180/45180 [00:12<00:00, 3557.36it/s]\n",
            "100%|██████████| 133782/133782 [00:39<00:00, 3354.77it/s]\n"
          ]
        }
      ]
    },
    {
      "cell_type": "code",
      "source": [
        "train_x.head(), train_x.shape"
      ],
      "metadata": {
        "colab": {
          "base_uri": "https://localhost:8080/"
        },
        "id": "LEczZVFlKva0",
        "outputId": "65a13098-a3c0-496f-dd86-55524718694b"
      },
      "execution_count": 13,
      "outputs": [
        {
          "output_type": "execute_result",
          "data": {
            "text/plain": [
              "(   index                                             string\n",
              " 0      0                even up here . . . . . . . BLACKS !\n",
              " 1      1  Blame men . There s always an excuse to blame ...\n",
              " 2      2  You have no business making any comments on th...\n",
              " 3      3  `` Let s get the black folks and the white fol...\n",
              " 4      4  I guess the issue is people not willing to put...,\n",
              " (269038, 2))"
            ]
          },
          "metadata": {},
          "execution_count": 13
        }
      ]
    },
    {
      "cell_type": "markdown",
      "source": [
        "#EDA"
      ],
      "metadata": {
        "id": "QL2x8ztPxINT"
      }
    },
    {
      "cell_type": "markdown",
      "source": [
        "#Prepare the model"
      ],
      "metadata": {
        "id": "8uGzZ8KTxl0g"
      }
    },
    {
      "cell_type": "code",
      "source": [
        "def seed_everything(seed=10086):\n",
        "    random.seed(seed)\n",
        "    os.environ['PYTHONHASHSEED'] = str(seed)\n",
        "    np.random.seed(seed)\n",
        "    torch.manual_seed(seed)\n",
        "    torch.cuda.manual_seed(seed)\n",
        "    torch.backends.cudnn.deterministic = True\n",
        "seed_everything()"
      ],
      "metadata": {
        "id": "7KLS51cguVMY"
      },
      "execution_count": 14,
      "outputs": []
    },
    {
      "cell_type": "code",
      "execution_count": 15,
      "metadata": {
        "id": "ijQIRoT7QFpP"
      },
      "outputs": [],
      "source": [
        "NUM_MODELS = 2\n",
        "BATCH_SIZE = 512\n",
        "LSTM_UNITS = 128\n",
        "DENSE_HIDDEN_UNITS = 4 * LSTM_UNITS\n",
        "EPOCHS = 1\n",
        "MAX_LEN = 200\n",
        "MAX_FEATURES = 120000\n",
        "\n",
        "IDENTITY_COLUMNS = ['male',\t'female',\t'LGBTQ',\t'christian',\t'muslim',\t'other_religions',\t'black',\t'white']\n",
        "AUX_COLUMNS = ['severe_toxicity',\t'obscene',\t'threat',\t'insult',\t'identity_attack',\t'sexual_explicit','y']\n",
        "TEXT_COLUMN = 'string'\n",
        "TARGET_COLUMN = 'y'\n"
      ]
    },
    {
      "cell_type": "code",
      "source": [
        "# Overall\n",
        "weights = np.ones((len(train_x),)) / 4\n",
        "# Subgroup\n",
        "weights += (train_y[IDENTITY_COLUMNS].fillna(0).values>=0.5).sum(axis=1).astype(bool).astype(np.int) / 4\n",
        "# Background Positive, Subgroup Negative\n",
        "weights += (( (train_y['y'].values>=0.5).astype(bool).astype(np.int) +\n",
        "   (train_y[IDENTITY_COLUMNS].fillna(0).values<0.5).sum(axis=1).astype(bool).astype(np.int) ) > 1 ).astype(bool).astype(np.int) / 4\n",
        "# Background Negative, Subgroup Positive\n",
        "weights += (( (train_y['y'].values<0.5).astype(bool).astype(np.int) +\n",
        "   (train_y[IDENTITY_COLUMNS].fillna(0).values>=0.5).sum(axis=1).astype(bool).astype(np.int) ) > 1 ).astype(bool).astype(np.int) / 4\n",
        "loss_weight = 1.0 / weights.mean()"
      ],
      "metadata": {
        "id": "7Mh4xcCZjOxk"
      },
      "execution_count": null,
      "outputs": []
    },
    {
      "cell_type": "code",
      "source": [
        "#preprocessing the data for later usage\n",
        "x_train = train_x[TEXT_COLUMN].astype(str)\n",
        "\n",
        "#y_aux_train = train_y[AUX_COLUMNS].values\n",
        "#y_train = np.vstack([(train_y['y'].values>=0.5).astype(np.int),weights]).T\n",
        "\n",
        "x_val = val_x[TEXT_COLUMN].astype(str)\n",
        "\n",
        "x_test = test_x[TEXT_COLUMN].astype(str)"
      ],
      "metadata": {
        "id": "suM6Du_g3fSq"
      },
      "execution_count": 17,
      "outputs": []
    },
    {
      "cell_type": "code",
      "source": [
        "#tokenizing the corpus, limiting the tokenizer to 120000 words\n",
        "#for column in IDENTITY_COLUMNS + [TARGET_COLUMN]:\n",
        "#train_y[column] = np.where(train_y[column] >= 0.5, True, False)\n",
        "\n",
        "tokenizer = text.Tokenizer(num_words=MAX_FEATURES, filters='',lower=False)\n",
        "tokenizer.fit_on_texts(list(x_train) + list(x_val) + list(x_test))\n"
      ],
      "metadata": {
        "id": "2prBNzd53vcB"
      },
      "execution_count": 18,
      "outputs": []
    },
    {
      "cell_type": "code",
      "source": [
        "#Sequence Bucketing\n",
        "x_train = tokenizer.texts_to_sequences(x_train)\n",
        "x_val = tokenizer.texts_to_sequences(x_val)\n",
        "x_test = tokenizer.texts_to_sequences(x_test)"
      ],
      "metadata": {
        "id": "Be3S9mwnGy-o"
      },
      "execution_count": 19,
      "outputs": []
    },
    {
      "cell_type": "code",
      "source": [
        "#making sure that every sentence is of equal length by adding padding\n",
        "x_train = sequence.pad_sequences(x_train, maxlen=MAX_LEN)\n",
        "x_val = sequence.pad_sequences(x_val, maxlen=MAX_LEN)\n",
        "x_test = sequence.pad_sequences(x_test, maxlen=MAX_LEN)"
      ],
      "metadata": {
        "id": "Eq234xv886JP"
      },
      "execution_count": 20,
      "outputs": []
    },
    {
      "cell_type": "code",
      "source": [
        "train_y = pd.read_csv(os.path.join(data_dir, 'train_y.csv'))\n",
        "train_y = train_y.drop('from_source_domain', axis=1)"
      ],
      "metadata": {
        "id": "X9v6kkejh6w8"
      },
      "execution_count": 21,
      "outputs": []
    },
    {
      "cell_type": "code",
      "source": [
        "# 将序列拆分为200列，并创建DataFrame\n",
        "df_x = pd.DataFrame(x_train, columns=['feature_' + str(i) for i in range(200)])\n",
        "\n",
        "# 检查 DataFrame 结构\n",
        "print(df_x.shape)"
      ],
      "metadata": {
        "colab": {
          "base_uri": "https://localhost:8080/"
        },
        "id": "t3GsrLzuKCaf",
        "outputId": "fbf5166c-d713-4ce1-da21-26f91faf5cea"
      },
      "execution_count": 22,
      "outputs": [
        {
          "output_type": "stream",
          "name": "stdout",
          "text": [
            "(269038, 200)\n"
          ]
        }
      ]
    },
    {
      "cell_type": "code",
      "source": [
        "df_x.head()"
      ],
      "metadata": {
        "colab": {
          "base_uri": "https://localhost:8080/",
          "height": 255
        },
        "id": "s_JCufyhMBH4",
        "outputId": "68099804-b11c-4f24-baa8-e0db673198e3"
      },
      "execution_count": 23,
      "outputs": [
        {
          "output_type": "execute_result",
          "data": {
            "text/plain": [
              "   feature_0  feature_1  feature_2  feature_3  feature_4  feature_5  \\\n",
              "0          0          0          0          0          0          0   \n",
              "1          0          0          0          0          0          0   \n",
              "2          0          0          0          0          0          0   \n",
              "3          0          0          0          0          0          0   \n",
              "4          0          0          0          0          0          0   \n",
              "\n",
              "   feature_6  feature_7  feature_8  feature_9  ...  feature_190  feature_191  \\\n",
              "0          0          0          0          0  ...          143            1   \n",
              "1          0          0          0          0  ...         1538            4   \n",
              "2          0          0          0          0  ...           72          334   \n",
              "3          0          0          0          0  ...          439            5   \n",
              "4          0          0          0          0  ...           27           17   \n",
              "\n",
              "   feature_192  feature_193  feature_194  feature_195  feature_196  \\\n",
              "0            1            1            1            1            1   \n",
              "1          661          135           14            2         4610   \n",
              "2          335           10            8         2641            4   \n",
              "3            2          104          439           50          429   \n",
              "4          895            4          293           26         2033   \n",
              "\n",
              "   feature_197  feature_198  feature_199  \n",
              "0            1        26470           38  \n",
              "1            6           75            1  \n",
              "2           51         2302            1  \n",
              "3          225         7248           11  \n",
              "4            5         2505            1  \n",
              "\n",
              "[5 rows x 200 columns]"
            ],
            "text/html": [
              "\n",
              "  <div id=\"df-549e4907-c3aa-4039-9872-3865a4916b38\" class=\"colab-df-container\">\n",
              "    <div>\n",
              "<style scoped>\n",
              "    .dataframe tbody tr th:only-of-type {\n",
              "        vertical-align: middle;\n",
              "    }\n",
              "\n",
              "    .dataframe tbody tr th {\n",
              "        vertical-align: top;\n",
              "    }\n",
              "\n",
              "    .dataframe thead th {\n",
              "        text-align: right;\n",
              "    }\n",
              "</style>\n",
              "<table border=\"1\" class=\"dataframe\">\n",
              "  <thead>\n",
              "    <tr style=\"text-align: right;\">\n",
              "      <th></th>\n",
              "      <th>feature_0</th>\n",
              "      <th>feature_1</th>\n",
              "      <th>feature_2</th>\n",
              "      <th>feature_3</th>\n",
              "      <th>feature_4</th>\n",
              "      <th>feature_5</th>\n",
              "      <th>feature_6</th>\n",
              "      <th>feature_7</th>\n",
              "      <th>feature_8</th>\n",
              "      <th>feature_9</th>\n",
              "      <th>...</th>\n",
              "      <th>feature_190</th>\n",
              "      <th>feature_191</th>\n",
              "      <th>feature_192</th>\n",
              "      <th>feature_193</th>\n",
              "      <th>feature_194</th>\n",
              "      <th>feature_195</th>\n",
              "      <th>feature_196</th>\n",
              "      <th>feature_197</th>\n",
              "      <th>feature_198</th>\n",
              "      <th>feature_199</th>\n",
              "    </tr>\n",
              "  </thead>\n",
              "  <tbody>\n",
              "    <tr>\n",
              "      <th>0</th>\n",
              "      <td>0</td>\n",
              "      <td>0</td>\n",
              "      <td>0</td>\n",
              "      <td>0</td>\n",
              "      <td>0</td>\n",
              "      <td>0</td>\n",
              "      <td>0</td>\n",
              "      <td>0</td>\n",
              "      <td>0</td>\n",
              "      <td>0</td>\n",
              "      <td>...</td>\n",
              "      <td>143</td>\n",
              "      <td>1</td>\n",
              "      <td>1</td>\n",
              "      <td>1</td>\n",
              "      <td>1</td>\n",
              "      <td>1</td>\n",
              "      <td>1</td>\n",
              "      <td>1</td>\n",
              "      <td>26470</td>\n",
              "      <td>38</td>\n",
              "    </tr>\n",
              "    <tr>\n",
              "      <th>1</th>\n",
              "      <td>0</td>\n",
              "      <td>0</td>\n",
              "      <td>0</td>\n",
              "      <td>0</td>\n",
              "      <td>0</td>\n",
              "      <td>0</td>\n",
              "      <td>0</td>\n",
              "      <td>0</td>\n",
              "      <td>0</td>\n",
              "      <td>0</td>\n",
              "      <td>...</td>\n",
              "      <td>1538</td>\n",
              "      <td>4</td>\n",
              "      <td>661</td>\n",
              "      <td>135</td>\n",
              "      <td>14</td>\n",
              "      <td>2</td>\n",
              "      <td>4610</td>\n",
              "      <td>6</td>\n",
              "      <td>75</td>\n",
              "      <td>1</td>\n",
              "    </tr>\n",
              "    <tr>\n",
              "      <th>2</th>\n",
              "      <td>0</td>\n",
              "      <td>0</td>\n",
              "      <td>0</td>\n",
              "      <td>0</td>\n",
              "      <td>0</td>\n",
              "      <td>0</td>\n",
              "      <td>0</td>\n",
              "      <td>0</td>\n",
              "      <td>0</td>\n",
              "      <td>0</td>\n",
              "      <td>...</td>\n",
              "      <td>72</td>\n",
              "      <td>334</td>\n",
              "      <td>335</td>\n",
              "      <td>10</td>\n",
              "      <td>8</td>\n",
              "      <td>2641</td>\n",
              "      <td>4</td>\n",
              "      <td>51</td>\n",
              "      <td>2302</td>\n",
              "      <td>1</td>\n",
              "    </tr>\n",
              "    <tr>\n",
              "      <th>3</th>\n",
              "      <td>0</td>\n",
              "      <td>0</td>\n",
              "      <td>0</td>\n",
              "      <td>0</td>\n",
              "      <td>0</td>\n",
              "      <td>0</td>\n",
              "      <td>0</td>\n",
              "      <td>0</td>\n",
              "      <td>0</td>\n",
              "      <td>0</td>\n",
              "      <td>...</td>\n",
              "      <td>439</td>\n",
              "      <td>5</td>\n",
              "      <td>2</td>\n",
              "      <td>104</td>\n",
              "      <td>439</td>\n",
              "      <td>50</td>\n",
              "      <td>429</td>\n",
              "      <td>225</td>\n",
              "      <td>7248</td>\n",
              "      <td>11</td>\n",
              "    </tr>\n",
              "    <tr>\n",
              "      <th>4</th>\n",
              "      <td>0</td>\n",
              "      <td>0</td>\n",
              "      <td>0</td>\n",
              "      <td>0</td>\n",
              "      <td>0</td>\n",
              "      <td>0</td>\n",
              "      <td>0</td>\n",
              "      <td>0</td>\n",
              "      <td>0</td>\n",
              "      <td>0</td>\n",
              "      <td>...</td>\n",
              "      <td>27</td>\n",
              "      <td>17</td>\n",
              "      <td>895</td>\n",
              "      <td>4</td>\n",
              "      <td>293</td>\n",
              "      <td>26</td>\n",
              "      <td>2033</td>\n",
              "      <td>5</td>\n",
              "      <td>2505</td>\n",
              "      <td>1</td>\n",
              "    </tr>\n",
              "  </tbody>\n",
              "</table>\n",
              "<p>5 rows × 200 columns</p>\n",
              "</div>\n",
              "    <div class=\"colab-df-buttons\">\n",
              "\n",
              "  <div class=\"colab-df-container\">\n",
              "    <button class=\"colab-df-convert\" onclick=\"convertToInteractive('df-549e4907-c3aa-4039-9872-3865a4916b38')\"\n",
              "            title=\"Convert this dataframe to an interactive table.\"\n",
              "            style=\"display:none;\">\n",
              "\n",
              "  <svg xmlns=\"http://www.w3.org/2000/svg\" height=\"24px\" viewBox=\"0 -960 960 960\">\n",
              "    <path d=\"M120-120v-720h720v720H120Zm60-500h600v-160H180v160Zm220 220h160v-160H400v160Zm0 220h160v-160H400v160ZM180-400h160v-160H180v160Zm440 0h160v-160H620v160ZM180-180h160v-160H180v160Zm440 0h160v-160H620v160Z\"/>\n",
              "  </svg>\n",
              "    </button>\n",
              "\n",
              "  <style>\n",
              "    .colab-df-container {\n",
              "      display:flex;\n",
              "      gap: 12px;\n",
              "    }\n",
              "\n",
              "    .colab-df-convert {\n",
              "      background-color: #E8F0FE;\n",
              "      border: none;\n",
              "      border-radius: 50%;\n",
              "      cursor: pointer;\n",
              "      display: none;\n",
              "      fill: #1967D2;\n",
              "      height: 32px;\n",
              "      padding: 0 0 0 0;\n",
              "      width: 32px;\n",
              "    }\n",
              "\n",
              "    .colab-df-convert:hover {\n",
              "      background-color: #E2EBFA;\n",
              "      box-shadow: 0px 1px 2px rgba(60, 64, 67, 0.3), 0px 1px 3px 1px rgba(60, 64, 67, 0.15);\n",
              "      fill: #174EA6;\n",
              "    }\n",
              "\n",
              "    .colab-df-buttons div {\n",
              "      margin-bottom: 4px;\n",
              "    }\n",
              "\n",
              "    [theme=dark] .colab-df-convert {\n",
              "      background-color: #3B4455;\n",
              "      fill: #D2E3FC;\n",
              "    }\n",
              "\n",
              "    [theme=dark] .colab-df-convert:hover {\n",
              "      background-color: #434B5C;\n",
              "      box-shadow: 0px 1px 3px 1px rgba(0, 0, 0, 0.15);\n",
              "      filter: drop-shadow(0px 1px 2px rgba(0, 0, 0, 0.3));\n",
              "      fill: #FFFFFF;\n",
              "    }\n",
              "  </style>\n",
              "\n",
              "    <script>\n",
              "      const buttonEl =\n",
              "        document.querySelector('#df-549e4907-c3aa-4039-9872-3865a4916b38 button.colab-df-convert');\n",
              "      buttonEl.style.display =\n",
              "        google.colab.kernel.accessAllowed ? 'block' : 'none';\n",
              "\n",
              "      async function convertToInteractive(key) {\n",
              "        const element = document.querySelector('#df-549e4907-c3aa-4039-9872-3865a4916b38');\n",
              "        const dataTable =\n",
              "          await google.colab.kernel.invokeFunction('convertToInteractive',\n",
              "                                                    [key], {});\n",
              "        if (!dataTable) return;\n",
              "\n",
              "        const docLinkHtml = 'Like what you see? Visit the ' +\n",
              "          '<a target=\"_blank\" href=https://colab.research.google.com/notebooks/data_table.ipynb>data table notebook</a>'\n",
              "          + ' to learn more about interactive tables.';\n",
              "        element.innerHTML = '';\n",
              "        dataTable['output_type'] = 'display_data';\n",
              "        await google.colab.output.renderOutput(dataTable, element);\n",
              "        const docLink = document.createElement('div');\n",
              "        docLink.innerHTML = docLinkHtml;\n",
              "        element.appendChild(docLink);\n",
              "      }\n",
              "    </script>\n",
              "  </div>\n",
              "\n",
              "\n",
              "<div id=\"df-5c22ad29-dd8a-4ebf-9096-73b9d7ec0d70\">\n",
              "  <button class=\"colab-df-quickchart\" onclick=\"quickchart('df-5c22ad29-dd8a-4ebf-9096-73b9d7ec0d70')\"\n",
              "            title=\"Suggest charts\"\n",
              "            style=\"display:none;\">\n",
              "\n",
              "<svg xmlns=\"http://www.w3.org/2000/svg\" height=\"24px\"viewBox=\"0 0 24 24\"\n",
              "     width=\"24px\">\n",
              "    <g>\n",
              "        <path d=\"M19 3H5c-1.1 0-2 .9-2 2v14c0 1.1.9 2 2 2h14c1.1 0 2-.9 2-2V5c0-1.1-.9-2-2-2zM9 17H7v-7h2v7zm4 0h-2V7h2v10zm4 0h-2v-4h2v4z\"/>\n",
              "    </g>\n",
              "</svg>\n",
              "  </button>\n",
              "\n",
              "<style>\n",
              "  .colab-df-quickchart {\n",
              "      --bg-color: #E8F0FE;\n",
              "      --fill-color: #1967D2;\n",
              "      --hover-bg-color: #E2EBFA;\n",
              "      --hover-fill-color: #174EA6;\n",
              "      --disabled-fill-color: #AAA;\n",
              "      --disabled-bg-color: #DDD;\n",
              "  }\n",
              "\n",
              "  [theme=dark] .colab-df-quickchart {\n",
              "      --bg-color: #3B4455;\n",
              "      --fill-color: #D2E3FC;\n",
              "      --hover-bg-color: #434B5C;\n",
              "      --hover-fill-color: #FFFFFF;\n",
              "      --disabled-bg-color: #3B4455;\n",
              "      --disabled-fill-color: #666;\n",
              "  }\n",
              "\n",
              "  .colab-df-quickchart {\n",
              "    background-color: var(--bg-color);\n",
              "    border: none;\n",
              "    border-radius: 50%;\n",
              "    cursor: pointer;\n",
              "    display: none;\n",
              "    fill: var(--fill-color);\n",
              "    height: 32px;\n",
              "    padding: 0;\n",
              "    width: 32px;\n",
              "  }\n",
              "\n",
              "  .colab-df-quickchart:hover {\n",
              "    background-color: var(--hover-bg-color);\n",
              "    box-shadow: 0 1px 2px rgba(60, 64, 67, 0.3), 0 1px 3px 1px rgba(60, 64, 67, 0.15);\n",
              "    fill: var(--button-hover-fill-color);\n",
              "  }\n",
              "\n",
              "  .colab-df-quickchart-complete:disabled,\n",
              "  .colab-df-quickchart-complete:disabled:hover {\n",
              "    background-color: var(--disabled-bg-color);\n",
              "    fill: var(--disabled-fill-color);\n",
              "    box-shadow: none;\n",
              "  }\n",
              "\n",
              "  .colab-df-spinner {\n",
              "    border: 2px solid var(--fill-color);\n",
              "    border-color: transparent;\n",
              "    border-bottom-color: var(--fill-color);\n",
              "    animation:\n",
              "      spin 1s steps(1) infinite;\n",
              "  }\n",
              "\n",
              "  @keyframes spin {\n",
              "    0% {\n",
              "      border-color: transparent;\n",
              "      border-bottom-color: var(--fill-color);\n",
              "      border-left-color: var(--fill-color);\n",
              "    }\n",
              "    20% {\n",
              "      border-color: transparent;\n",
              "      border-left-color: var(--fill-color);\n",
              "      border-top-color: var(--fill-color);\n",
              "    }\n",
              "    30% {\n",
              "      border-color: transparent;\n",
              "      border-left-color: var(--fill-color);\n",
              "      border-top-color: var(--fill-color);\n",
              "      border-right-color: var(--fill-color);\n",
              "    }\n",
              "    40% {\n",
              "      border-color: transparent;\n",
              "      border-right-color: var(--fill-color);\n",
              "      border-top-color: var(--fill-color);\n",
              "    }\n",
              "    60% {\n",
              "      border-color: transparent;\n",
              "      border-right-color: var(--fill-color);\n",
              "    }\n",
              "    80% {\n",
              "      border-color: transparent;\n",
              "      border-right-color: var(--fill-color);\n",
              "      border-bottom-color: var(--fill-color);\n",
              "    }\n",
              "    90% {\n",
              "      border-color: transparent;\n",
              "      border-bottom-color: var(--fill-color);\n",
              "    }\n",
              "  }\n",
              "</style>\n",
              "\n",
              "  <script>\n",
              "    async function quickchart(key) {\n",
              "      const quickchartButtonEl =\n",
              "        document.querySelector('#' + key + ' button');\n",
              "      quickchartButtonEl.disabled = true;  // To prevent multiple clicks.\n",
              "      quickchartButtonEl.classList.add('colab-df-spinner');\n",
              "      try {\n",
              "        const charts = await google.colab.kernel.invokeFunction(\n",
              "            'suggestCharts', [key], {});\n",
              "      } catch (error) {\n",
              "        console.error('Error during call to suggestCharts:', error);\n",
              "      }\n",
              "      quickchartButtonEl.classList.remove('colab-df-spinner');\n",
              "      quickchartButtonEl.classList.add('colab-df-quickchart-complete');\n",
              "    }\n",
              "    (() => {\n",
              "      let quickchartButtonEl =\n",
              "        document.querySelector('#df-5c22ad29-dd8a-4ebf-9096-73b9d7ec0d70 button');\n",
              "      quickchartButtonEl.style.display =\n",
              "        google.colab.kernel.accessAllowed ? 'block' : 'none';\n",
              "    })();\n",
              "  </script>\n",
              "</div>\n",
              "    </div>\n",
              "  </div>\n"
            ]
          },
          "metadata": {},
          "execution_count": 23
        }
      ]
    },
    {
      "cell_type": "code",
      "source": [
        "def get_tail_label(df):\n",
        "    \"\"\"\n",
        "    Give tail label colums of the given target dataframe\n",
        "\n",
        "    args\n",
        "    df: pandas.DataFrame, target label df whose tail label has to identified\n",
        "\n",
        "    return\n",
        "    tail_label: list, a list containing column name of all the tail label\n",
        "    \"\"\"\n",
        "    columns = df.columns\n",
        "    n = len(columns)\n",
        "    irpl = np.zeros(n)\n",
        "    for column in range(n):\n",
        "        irpl[column] = df[columns[column]].value_counts()[1]\n",
        "    irpl = max(irpl)/irpl\n",
        "    mir = np.average(irpl)\n",
        "    tail_label = []\n",
        "    for i in range(n):\n",
        "        if irpl[i] > mir:\n",
        "            tail_label.append(columns[i])\n",
        "    return tail_label\n",
        "\n",
        "tail_labels =['black','white', 'LGBTQ','muslim']\n",
        "def get_index(df):\n",
        "  \"\"\"\n",
        "  give the index of all tail_label rows\n",
        "  args\n",
        "  df: pandas.DataFrame, target label df from which index for tail label has to identified\n",
        "\n",
        "  return\n",
        "  index: list, a list containing index number of all the tail label\n",
        "  \"\"\"\n",
        "  tail_labels = ['black','white', 'LGBTQ','muslim']\n",
        "  index = set()\n",
        "  for tail_label in tail_labels:\n",
        "    sub_index = set(df[df[tail_label]==1].index)\n",
        "    index = index.union(sub_index)\n",
        "  return list(index)\n",
        "\n",
        "def get_minority_instace(X, y):\n",
        "    \"\"\"\n",
        "    Give minority dataframe containing all the tail labels\n",
        "\n",
        "    args\n",
        "    X: pandas.DataFrame, the feature vector dataframe\n",
        "    y: pandas.DataFrame, the target vector dataframe\n",
        "\n",
        "    return\n",
        "    X_sub: pandas.DataFrame, the feature vector minority dataframe\n",
        "    y_sub: pandas.DataFrame, the target vector minority dataframe\n",
        "    \"\"\"\n",
        "    index = get_index(y)\n",
        "    X_sub = X[X.index.isin(index)].reset_index(drop = True)\n",
        "    y_sub = y[y.index.isin(index)].reset_index(drop = True)\n",
        "    return X_sub, y_sub\n"
      ],
      "metadata": {
        "id": "N4gKJsfVMc2c"
      },
      "execution_count": 24,
      "outputs": []
    },
    {
      "cell_type": "code",
      "source": [
        "from sklearn.neighbors import NearestNeighbors\n",
        "\n",
        "def nearest_neighbour(X):\n",
        "    \"\"\"\n",
        "    Give index of 5 nearest neighbor of all the instance\n",
        "\n",
        "    args\n",
        "    X: np.array, array whose nearest neighbor has to find\n",
        "\n",
        "    return\n",
        "    indices: list of list, index of 5 NN of each element in X\n",
        "    \"\"\"\n",
        "    nbs=NearestNeighbors(n_neighbors=5,metric='euclidean',algorithm='kd_tree').fit(X)\n",
        "    euclidean,indices= nbs.kneighbors(X)\n",
        "    return indices\n",
        "\n",
        "def MLSMOTE(X,y, n_sample):\n",
        "    \"\"\"\n",
        "    Give the augmented data using MLSMOTE algorithm\n",
        "\n",
        "    args\n",
        "    X: pandas.DataFrame, input vector DataFrame\n",
        "    y: pandas.DataFrame, feature vector dataframe\n",
        "    n_sample: int, number of newly generated sample\n",
        "\n",
        "    return\n",
        "    new_X: pandas.DataFrame, augmented feature vector data\n",
        "    target: pandas.DataFrame, augmented target vector data\n",
        "    \"\"\"\n",
        "    indices2 = nearest_neighbour(X)\n",
        "    n = len(indices2)\n",
        "    new_X = np.zeros((n_sample, X.shape[1]))\n",
        "    target = np.zeros((n_sample, y.shape[1]))\n",
        "    for i in range(n_sample):\n",
        "        reference = random.randint(0,n-1)\n",
        "        neighbour = random.choice(indices2[reference,1:])\n",
        "        all_point = indices2[reference]\n",
        "        nn_df = y[y.index.isin(all_point)]\n",
        "        ser = nn_df.sum(axis = 0, skipna = True)\n",
        "        target[i] = np.array([1 if val>2 else 0 for val in ser])\n",
        "        ratio = random.random()\n",
        "        gap = X.loc[reference,:] - X.loc[neighbour,:]\n",
        "        new_X[i] = np.array(X.loc[reference,:] + ratio * gap)\n",
        "    new_X = pd.DataFrame(new_X, columns=X.columns)\n",
        "    target = pd.DataFrame(target, columns=y.columns)\n",
        "    new_X = pd.concat([X, new_X], axis=0)\n",
        "    target = pd.concat([y, target], axis=0)\n",
        "    return new_X, target\n"
      ],
      "metadata": {
        "id": "Vt17Au0NNcMD"
      },
      "execution_count": 25,
      "outputs": []
    },
    {
      "cell_type": "code",
      "source": [
        "X_sub, y_sub = get_minority_instace(df_x,train_y)#Getting minority instance of that datframe"
      ],
      "metadata": {
        "id": "5LOTmgBuMp2S"
      },
      "execution_count": 26,
      "outputs": []
    },
    {
      "cell_type": "code",
      "source": [
        "y_sub.shape"
      ],
      "metadata": {
        "id": "gOar_ohEM1kS",
        "colab": {
          "base_uri": "https://localhost:8080/"
        },
        "outputId": "75b8f8e2-58af-4a32-cecc-d74aa5d3b3b7"
      },
      "execution_count": 27,
      "outputs": [
        {
          "output_type": "execute_result",
          "data": {
            "text/plain": [
              "(42930, 16)"
            ]
          },
          "metadata": {},
          "execution_count": 27
        }
      ]
    },
    {
      "cell_type": "code",
      "source": [
        "X_res,y_res =MLSMOTE(X_sub, y_sub, 50000) #Applying MLSMOTE to augment the dataframe"
      ],
      "metadata": {
        "id": "ItXp8m-uNVSD"
      },
      "execution_count": 28,
      "outputs": []
    },
    {
      "cell_type": "code",
      "source": [
        "# 合并特征数据帧\n",
        "df_x_augmented = pd.concat([df_x, X_res], ignore_index=True)\n",
        "\n",
        "# 合并标签数据帧\n",
        "train_y_augmented = pd.concat([train_y, y_res], ignore_index=True)\n",
        "\n",
        "df_x_augmented.shape, train_y_augmented.shape"
      ],
      "metadata": {
        "colab": {
          "base_uri": "https://localhost:8080/"
        },
        "id": "OGKpZMYMPq7L",
        "outputId": "97414a0f-63a7-4577-c80e-1cc27e209993"
      },
      "execution_count": 30,
      "outputs": [
        {
          "output_type": "execute_result",
          "data": {
            "text/plain": [
              "((361968, 200), (361968, 16))"
            ]
          },
          "metadata": {},
          "execution_count": 30
        }
      ]
    },
    {
      "cell_type": "code",
      "source": [
        "x_train_augmented = df_x_augmented.to_numpy()"
      ],
      "metadata": {
        "id": "xbIx8MH93rEO"
      },
      "execution_count": 31,
      "outputs": []
    },
    {
      "cell_type": "code",
      "source": [
        "x_train_augmented.shape"
      ],
      "metadata": {
        "colab": {
          "base_uri": "https://localhost:8080/"
        },
        "id": "Jexhv5s-3zzQ",
        "outputId": "b41066e8-fde4-45a6-cd5b-71e9a48b59b9"
      },
      "execution_count": 33,
      "outputs": [
        {
          "output_type": "execute_result",
          "data": {
            "text/plain": [
              "(361968, 200)"
            ]
          },
          "metadata": {},
          "execution_count": 33
        }
      ]
    },
    {
      "cell_type": "code",
      "source": [
        "\n",
        "from imblearn.over_sampling import SMOTE\n",
        "\n",
        "# 初始化SMOTE实例\n",
        "smote = SMOTE()\n",
        "\n",
        "# 应用SMOTE于主要目标特征列\n",
        "X_train_smote, y_train_smote = smote.fit_resample(df_x, train_y['y'])\n",
        "\n",
        "# 过采样后的样本数量\n",
        "n_samples = len(y_train_smote)\n",
        "\n",
        "# 创建一个空的DataFrame来存储过采样后的辅助特征\n",
        "new_aux_features = pd.DataFrame(index=range(n_samples), columns=AUX_COLUMNS+IDENTITY_COLUMNS)\n",
        "\n",
        "# 对每个辅助特征列进行过采样处理\n",
        "for column in (AUX_COLUMNS+IDENTITY_COLUMNS):\n",
        "    # 过采样每个辅助特征列\n",
        "    # 注意：我们使用相同的SMOTE实例，这将确保每个特征列与主要目标列的过采样同步\n",
        "    _, new_aux_feature = smote.fit_resample(np.arange(len(train_y)).reshape(-1, 1), train_y[column])\n",
        "\n",
        "    # 将过采样结果存储到新的DataFrame中\n",
        "    new_aux_features[column] = new_aux_feature\n",
        "\n",
        "# 现在我们有了一个包含所有过采样辅助特征的DataFrame\n",
        "# 将原始的'y'列替换为过采样后的'y'列\n",
        "#new_aux_features['y'] = y_train_smote\n",
        "\n",
        "# 更新train_y DataFrame\n",
        "#train_y = new_aux_features\n"
      ],
      "metadata": {
        "id": "WOZmm-RJVf5V"
      },
      "execution_count": null,
      "outputs": []
    },
    {
      "cell_type": "code",
      "source": [
        "new_aux_features['y'] = y_train_smote\n",
        "train_y = new_aux_features"
      ],
      "metadata": {
        "id": "IXM9lNADfrTI"
      },
      "execution_count": null,
      "outputs": []
    },
    {
      "cell_type": "code",
      "source": [
        "train_y.head()"
      ],
      "metadata": {
        "colab": {
          "base_uri": "https://localhost:8080/",
          "height": 226
        },
        "id": "mIkgjvZrf6Ww",
        "outputId": "45225eef-3bad-43c7-af6f-1d14bee966b8"
      },
      "execution_count": null,
      "outputs": [
        {
          "output_type": "execute_result",
          "data": {
            "text/plain": [
              "   severe_toxicity  obscene  threat  insult  identity_attack  sexual_explicit  \\\n",
              "0                0        0       0       0                1                0   \n",
              "1                0        0       0       0                1                0   \n",
              "2                0        0       0       1                0                0   \n",
              "3                0        0       0       0                1                0   \n",
              "4                0        0       0       1                0                0   \n",
              "\n",
              "   y  male  female  LGBTQ  christian  muslim  other_religions  black  white  \n",
              "0  1     0     0.0      0          0       0                0      1      0  \n",
              "1  1     1     1.0      0          0       0                0      0      0  \n",
              "2  1     0     0.0      0          0       0                0      0      0  \n",
              "3  1     0     0.0      0          0       0                0      1      1  \n",
              "4  1     0     0.0      0          0       0                0      0      0  "
            ],
            "text/html": [
              "\n",
              "  <div id=\"df-1366ae6f-5a79-48cd-950d-21ec1c8dd953\" class=\"colab-df-container\">\n",
              "    <div>\n",
              "<style scoped>\n",
              "    .dataframe tbody tr th:only-of-type {\n",
              "        vertical-align: middle;\n",
              "    }\n",
              "\n",
              "    .dataframe tbody tr th {\n",
              "        vertical-align: top;\n",
              "    }\n",
              "\n",
              "    .dataframe thead th {\n",
              "        text-align: right;\n",
              "    }\n",
              "</style>\n",
              "<table border=\"1\" class=\"dataframe\">\n",
              "  <thead>\n",
              "    <tr style=\"text-align: right;\">\n",
              "      <th></th>\n",
              "      <th>severe_toxicity</th>\n",
              "      <th>obscene</th>\n",
              "      <th>threat</th>\n",
              "      <th>insult</th>\n",
              "      <th>identity_attack</th>\n",
              "      <th>sexual_explicit</th>\n",
              "      <th>y</th>\n",
              "      <th>male</th>\n",
              "      <th>female</th>\n",
              "      <th>LGBTQ</th>\n",
              "      <th>christian</th>\n",
              "      <th>muslim</th>\n",
              "      <th>other_religions</th>\n",
              "      <th>black</th>\n",
              "      <th>white</th>\n",
              "    </tr>\n",
              "  </thead>\n",
              "  <tbody>\n",
              "    <tr>\n",
              "      <th>0</th>\n",
              "      <td>0</td>\n",
              "      <td>0</td>\n",
              "      <td>0</td>\n",
              "      <td>0</td>\n",
              "      <td>1</td>\n",
              "      <td>0</td>\n",
              "      <td>1</td>\n",
              "      <td>0</td>\n",
              "      <td>0.0</td>\n",
              "      <td>0</td>\n",
              "      <td>0</td>\n",
              "      <td>0</td>\n",
              "      <td>0</td>\n",
              "      <td>1</td>\n",
              "      <td>0</td>\n",
              "    </tr>\n",
              "    <tr>\n",
              "      <th>1</th>\n",
              "      <td>0</td>\n",
              "      <td>0</td>\n",
              "      <td>0</td>\n",
              "      <td>0</td>\n",
              "      <td>1</td>\n",
              "      <td>0</td>\n",
              "      <td>1</td>\n",
              "      <td>1</td>\n",
              "      <td>1.0</td>\n",
              "      <td>0</td>\n",
              "      <td>0</td>\n",
              "      <td>0</td>\n",
              "      <td>0</td>\n",
              "      <td>0</td>\n",
              "      <td>0</td>\n",
              "    </tr>\n",
              "    <tr>\n",
              "      <th>2</th>\n",
              "      <td>0</td>\n",
              "      <td>0</td>\n",
              "      <td>0</td>\n",
              "      <td>1</td>\n",
              "      <td>0</td>\n",
              "      <td>0</td>\n",
              "      <td>1</td>\n",
              "      <td>0</td>\n",
              "      <td>0.0</td>\n",
              "      <td>0</td>\n",
              "      <td>0</td>\n",
              "      <td>0</td>\n",
              "      <td>0</td>\n",
              "      <td>0</td>\n",
              "      <td>0</td>\n",
              "    </tr>\n",
              "    <tr>\n",
              "      <th>3</th>\n",
              "      <td>0</td>\n",
              "      <td>0</td>\n",
              "      <td>0</td>\n",
              "      <td>0</td>\n",
              "      <td>1</td>\n",
              "      <td>0</td>\n",
              "      <td>1</td>\n",
              "      <td>0</td>\n",
              "      <td>0.0</td>\n",
              "      <td>0</td>\n",
              "      <td>0</td>\n",
              "      <td>0</td>\n",
              "      <td>0</td>\n",
              "      <td>1</td>\n",
              "      <td>1</td>\n",
              "    </tr>\n",
              "    <tr>\n",
              "      <th>4</th>\n",
              "      <td>0</td>\n",
              "      <td>0</td>\n",
              "      <td>0</td>\n",
              "      <td>1</td>\n",
              "      <td>0</td>\n",
              "      <td>0</td>\n",
              "      <td>1</td>\n",
              "      <td>0</td>\n",
              "      <td>0.0</td>\n",
              "      <td>0</td>\n",
              "      <td>0</td>\n",
              "      <td>0</td>\n",
              "      <td>0</td>\n",
              "      <td>0</td>\n",
              "      <td>0</td>\n",
              "    </tr>\n",
              "  </tbody>\n",
              "</table>\n",
              "</div>\n",
              "    <div class=\"colab-df-buttons\">\n",
              "\n",
              "  <div class=\"colab-df-container\">\n",
              "    <button class=\"colab-df-convert\" onclick=\"convertToInteractive('df-1366ae6f-5a79-48cd-950d-21ec1c8dd953')\"\n",
              "            title=\"Convert this dataframe to an interactive table.\"\n",
              "            style=\"display:none;\">\n",
              "\n",
              "  <svg xmlns=\"http://www.w3.org/2000/svg\" height=\"24px\" viewBox=\"0 -960 960 960\">\n",
              "    <path d=\"M120-120v-720h720v720H120Zm60-500h600v-160H180v160Zm220 220h160v-160H400v160Zm0 220h160v-160H400v160ZM180-400h160v-160H180v160Zm440 0h160v-160H620v160ZM180-180h160v-160H180v160Zm440 0h160v-160H620v160Z\"/>\n",
              "  </svg>\n",
              "    </button>\n",
              "\n",
              "  <style>\n",
              "    .colab-df-container {\n",
              "      display:flex;\n",
              "      gap: 12px;\n",
              "    }\n",
              "\n",
              "    .colab-df-convert {\n",
              "      background-color: #E8F0FE;\n",
              "      border: none;\n",
              "      border-radius: 50%;\n",
              "      cursor: pointer;\n",
              "      display: none;\n",
              "      fill: #1967D2;\n",
              "      height: 32px;\n",
              "      padding: 0 0 0 0;\n",
              "      width: 32px;\n",
              "    }\n",
              "\n",
              "    .colab-df-convert:hover {\n",
              "      background-color: #E2EBFA;\n",
              "      box-shadow: 0px 1px 2px rgba(60, 64, 67, 0.3), 0px 1px 3px 1px rgba(60, 64, 67, 0.15);\n",
              "      fill: #174EA6;\n",
              "    }\n",
              "\n",
              "    .colab-df-buttons div {\n",
              "      margin-bottom: 4px;\n",
              "    }\n",
              "\n",
              "    [theme=dark] .colab-df-convert {\n",
              "      background-color: #3B4455;\n",
              "      fill: #D2E3FC;\n",
              "    }\n",
              "\n",
              "    [theme=dark] .colab-df-convert:hover {\n",
              "      background-color: #434B5C;\n",
              "      box-shadow: 0px 1px 3px 1px rgba(0, 0, 0, 0.15);\n",
              "      filter: drop-shadow(0px 1px 2px rgba(0, 0, 0, 0.3));\n",
              "      fill: #FFFFFF;\n",
              "    }\n",
              "  </style>\n",
              "\n",
              "    <script>\n",
              "      const buttonEl =\n",
              "        document.querySelector('#df-1366ae6f-5a79-48cd-950d-21ec1c8dd953 button.colab-df-convert');\n",
              "      buttonEl.style.display =\n",
              "        google.colab.kernel.accessAllowed ? 'block' : 'none';\n",
              "\n",
              "      async function convertToInteractive(key) {\n",
              "        const element = document.querySelector('#df-1366ae6f-5a79-48cd-950d-21ec1c8dd953');\n",
              "        const dataTable =\n",
              "          await google.colab.kernel.invokeFunction('convertToInteractive',\n",
              "                                                    [key], {});\n",
              "        if (!dataTable) return;\n",
              "\n",
              "        const docLinkHtml = 'Like what you see? Visit the ' +\n",
              "          '<a target=\"_blank\" href=https://colab.research.google.com/notebooks/data_table.ipynb>data table notebook</a>'\n",
              "          + ' to learn more about interactive tables.';\n",
              "        element.innerHTML = '';\n",
              "        dataTable['output_type'] = 'display_data';\n",
              "        await google.colab.output.renderOutput(dataTable, element);\n",
              "        const docLink = document.createElement('div');\n",
              "        docLink.innerHTML = docLinkHtml;\n",
              "        element.appendChild(docLink);\n",
              "      }\n",
              "    </script>\n",
              "  </div>\n",
              "\n",
              "\n",
              "<div id=\"df-225083fd-05ee-49df-9348-cf5e98557428\">\n",
              "  <button class=\"colab-df-quickchart\" onclick=\"quickchart('df-225083fd-05ee-49df-9348-cf5e98557428')\"\n",
              "            title=\"Suggest charts\"\n",
              "            style=\"display:none;\">\n",
              "\n",
              "<svg xmlns=\"http://www.w3.org/2000/svg\" height=\"24px\"viewBox=\"0 0 24 24\"\n",
              "     width=\"24px\">\n",
              "    <g>\n",
              "        <path d=\"M19 3H5c-1.1 0-2 .9-2 2v14c0 1.1.9 2 2 2h14c1.1 0 2-.9 2-2V5c0-1.1-.9-2-2-2zM9 17H7v-7h2v7zm4 0h-2V7h2v10zm4 0h-2v-4h2v4z\"/>\n",
              "    </g>\n",
              "</svg>\n",
              "  </button>\n",
              "\n",
              "<style>\n",
              "  .colab-df-quickchart {\n",
              "      --bg-color: #E8F0FE;\n",
              "      --fill-color: #1967D2;\n",
              "      --hover-bg-color: #E2EBFA;\n",
              "      --hover-fill-color: #174EA6;\n",
              "      --disabled-fill-color: #AAA;\n",
              "      --disabled-bg-color: #DDD;\n",
              "  }\n",
              "\n",
              "  [theme=dark] .colab-df-quickchart {\n",
              "      --bg-color: #3B4455;\n",
              "      --fill-color: #D2E3FC;\n",
              "      --hover-bg-color: #434B5C;\n",
              "      --hover-fill-color: #FFFFFF;\n",
              "      --disabled-bg-color: #3B4455;\n",
              "      --disabled-fill-color: #666;\n",
              "  }\n",
              "\n",
              "  .colab-df-quickchart {\n",
              "    background-color: var(--bg-color);\n",
              "    border: none;\n",
              "    border-radius: 50%;\n",
              "    cursor: pointer;\n",
              "    display: none;\n",
              "    fill: var(--fill-color);\n",
              "    height: 32px;\n",
              "    padding: 0;\n",
              "    width: 32px;\n",
              "  }\n",
              "\n",
              "  .colab-df-quickchart:hover {\n",
              "    background-color: var(--hover-bg-color);\n",
              "    box-shadow: 0 1px 2px rgba(60, 64, 67, 0.3), 0 1px 3px 1px rgba(60, 64, 67, 0.15);\n",
              "    fill: var(--button-hover-fill-color);\n",
              "  }\n",
              "\n",
              "  .colab-df-quickchart-complete:disabled,\n",
              "  .colab-df-quickchart-complete:disabled:hover {\n",
              "    background-color: var(--disabled-bg-color);\n",
              "    fill: var(--disabled-fill-color);\n",
              "    box-shadow: none;\n",
              "  }\n",
              "\n",
              "  .colab-df-spinner {\n",
              "    border: 2px solid var(--fill-color);\n",
              "    border-color: transparent;\n",
              "    border-bottom-color: var(--fill-color);\n",
              "    animation:\n",
              "      spin 1s steps(1) infinite;\n",
              "  }\n",
              "\n",
              "  @keyframes spin {\n",
              "    0% {\n",
              "      border-color: transparent;\n",
              "      border-bottom-color: var(--fill-color);\n",
              "      border-left-color: var(--fill-color);\n",
              "    }\n",
              "    20% {\n",
              "      border-color: transparent;\n",
              "      border-left-color: var(--fill-color);\n",
              "      border-top-color: var(--fill-color);\n",
              "    }\n",
              "    30% {\n",
              "      border-color: transparent;\n",
              "      border-left-color: var(--fill-color);\n",
              "      border-top-color: var(--fill-color);\n",
              "      border-right-color: var(--fill-color);\n",
              "    }\n",
              "    40% {\n",
              "      border-color: transparent;\n",
              "      border-right-color: var(--fill-color);\n",
              "      border-top-color: var(--fill-color);\n",
              "    }\n",
              "    60% {\n",
              "      border-color: transparent;\n",
              "      border-right-color: var(--fill-color);\n",
              "    }\n",
              "    80% {\n",
              "      border-color: transparent;\n",
              "      border-right-color: var(--fill-color);\n",
              "      border-bottom-color: var(--fill-color);\n",
              "    }\n",
              "    90% {\n",
              "      border-color: transparent;\n",
              "      border-bottom-color: var(--fill-color);\n",
              "    }\n",
              "  }\n",
              "</style>\n",
              "\n",
              "  <script>\n",
              "    async function quickchart(key) {\n",
              "      const quickchartButtonEl =\n",
              "        document.querySelector('#' + key + ' button');\n",
              "      quickchartButtonEl.disabled = true;  // To prevent multiple clicks.\n",
              "      quickchartButtonEl.classList.add('colab-df-spinner');\n",
              "      try {\n",
              "        const charts = await google.colab.kernel.invokeFunction(\n",
              "            'suggestCharts', [key], {});\n",
              "      } catch (error) {\n",
              "        console.error('Error during call to suggestCharts:', error);\n",
              "      }\n",
              "      quickchartButtonEl.classList.remove('colab-df-spinner');\n",
              "      quickchartButtonEl.classList.add('colab-df-quickchart-complete');\n",
              "    }\n",
              "    (() => {\n",
              "      let quickchartButtonEl =\n",
              "        document.querySelector('#df-225083fd-05ee-49df-9348-cf5e98557428 button');\n",
              "      quickchartButtonEl.style.display =\n",
              "        google.colab.kernel.accessAllowed ? 'block' : 'none';\n",
              "    })();\n",
              "  </script>\n",
              "</div>\n",
              "    </div>\n",
              "  </div>\n"
            ]
          },
          "metadata": {},
          "execution_count": 91
        }
      ]
    },
    {
      "cell_type": "code",
      "source": [
        "# Overall\n",
        "weights = np.ones((len(x_train_augmented),)) / 4\n",
        "# Subgroup\n",
        "weights += (train_y_augmented[IDENTITY_COLUMNS].fillna(0).values>=0.5).sum(axis=1).astype(bool).astype(np.int) / 4\n",
        "# Background Positive, Subgroup Negative\n",
        "weights += (( (train_y_augmented['y'].values>=0.5).astype(bool).astype(np.int) +\n",
        "   (train_y_augmented[IDENTITY_COLUMNS].fillna(0).values<0.5).sum(axis=1).astype(bool).astype(np.int) ) > 1 ).astype(bool).astype(np.int) / 4\n",
        "# Background Negative, Subgroup Positive\n",
        "weights += (( (train_y_augmented['y'].values<0.5).astype(bool).astype(np.int) +\n",
        "   (train_y_augmented[IDENTITY_COLUMNS].fillna(0).values>=0.5).sum(axis=1).astype(bool).astype(np.int) ) > 1 ).astype(bool).astype(np.int) / 4\n",
        "loss_weight = 1.0 / weights.mean()"
      ],
      "metadata": {
        "id": "5MOc6P47g8Pj"
      },
      "execution_count": null,
      "outputs": []
    },
    {
      "cell_type": "code",
      "source": [
        "\n",
        "y_aux_train = train_y_augmented[AUX_COLUMNS].values\n",
        "y_train = np.vstack([(train_y_augmented['y'].values>=0.5).astype(np.int),weights]).T\n"
      ],
      "metadata": {
        "colab": {
          "base_uri": "https://localhost:8080/"
        },
        "id": "RcIP5LfEfatI",
        "outputId": "9000b169-d262-457b-a9ee-79fc529cd536"
      },
      "execution_count": 37,
      "outputs": [
        {
          "output_type": "stream",
          "name": "stderr",
          "text": [
            "<ipython-input-37-6b8ac79735af>:2: DeprecationWarning: `np.int` is a deprecated alias for the builtin `int`. To silence this warning, use `int` by itself. Doing this will not modify any behavior and is safe. When replacing `np.int`, you may wish to use e.g. `np.int64` or `np.int32` to specify the precision. If you wish to review your current use, check the release note link for additional information.\n",
            "Deprecated in NumPy 1.20; for more details and guidance: https://numpy.org/devdocs/release/1.20.0-notes.html#deprecations\n",
            "  y_train = np.vstack([(train_y_augmented['y'].values>=0.5).astype(np.int),weights]).T\n"
          ]
        }
      ]
    },
    {
      "cell_type": "code",
      "source": [
        "#可视化train_y各个特征的分布情况\n",
        "\n",
        "label_sums = y_res.sum()\n",
        "total_samples = len(y_res)\n",
        "label_proportions = label_sums / total_samples\n",
        "\n",
        "# 创建一个新的 DataFrame，包含数量和比例\n",
        "label_distribution = pd.DataFrame({\n",
        "    'Counts': label_sums,\n",
        "    'Proportions': label_proportions\n",
        "})\n",
        "# 可视化数量\n",
        "fig, ax = plt.subplots(1, 2, figsize=(14, 6))\n",
        "\n",
        "label_distribution['Counts'].plot(kind='bar', ax=ax[0], color='skyblue')\n",
        "ax[0].set_title('Counts of Each Category')\n",
        "ax[0].set_ylabel('Number of Occurrences')\n",
        "ax[0].set_xlabel('Category')\n",
        "\n",
        "# 可视化比例\n",
        "label_distribution['Proportions'].plot(kind='bar', ax=ax[1], color='lightgreen')\n",
        "ax[1].set_title('Proportions of Each Category')\n",
        "ax[1].set_ylabel('Proportion of Total Samples')\n",
        "ax[1].set_xlabel('Category')\n",
        "\n",
        "plt.tight_layout()\n",
        "plt.show()\n"
      ],
      "metadata": {
        "id": "sO7xl2TgnZQw"
      },
      "execution_count": null,
      "outputs": []
    },
    {
      "cell_type": "code",
      "source": [
        "#functions to build our embedding matrix\n",
        "\n",
        "#接收一个单词及其对应的嵌入向量，返回一个包含单词和它的 NumPy 数组形式的向量的元组。\n",
        "def get_coefs(word, *arr):\n",
        "    return word, np.asarray(arr, dtype='float32')\n",
        "\n",
        "#打开一个预训练的嵌入向量文件（如GloVe或Word2Vec），逐行读取并使用 get_coefs 函数来建立一个字典，字典中每个单词对应一个嵌入向量。\n",
        "def load_embeddings(path):\n",
        "    with open(path) as f:\n",
        "        return dict(get_coefs(*line.strip().split(' ')) for line in f)\n",
        "\n",
        "#它初始化一个全零的嵌入矩阵，矩阵的行数比单词总数多一个（包括填充索引），列数是嵌入向量的大小（这里是300）。\n",
        "#然后函数遍历单词索引，尝试将预训练的向量分配到嵌入矩阵中相应的行。如果单词索引中的单词在嵌入索引中找不到，就保留该行为零，有效地将其视为未知单词。\n",
        "def build_matrix(word_index, path):\n",
        "    embedding_index = load_embeddings(path)\n",
        "    embedding_matrix = np.zeros((len(word_index) + 1, 300))\n",
        "    for word, i in word_index.items():\n",
        "        try:\n",
        "            embedding_matrix[i] = embedding_index[word]\n",
        "        except KeyError:\n",
        "            pass\n",
        "    return embedding_matrix"
      ],
      "metadata": {
        "id": "6_aQAt-6cSHI"
      },
      "execution_count": 39,
      "outputs": []
    },
    {
      "cell_type": "code",
      "source": [
        "#building the embedding matrix\n",
        "embedding_matrix = np.concatenate(\n",
        "    [build_matrix(tokenizer.word_index, f) for f in EMBEDDING_FILES], axis=-1)"
      ],
      "metadata": {
        "id": "-TmxmpPT-A0m"
      },
      "execution_count": 40,
      "outputs": []
    },
    {
      "cell_type": "code",
      "source": [
        "from keras.losses import binary_crossentropy\n",
        "def custom_loss(y_true, y_pred):\n",
        "    return binary_crossentropy(K.reshape(y_true[:,0],(-1,1)), y_pred) * y_true[:,1]"
      ],
      "metadata": {
        "id": "8fKd9hACcuYq"
      },
      "execution_count": 41,
      "outputs": []
    },
    {
      "cell_type": "code",
      "source": [
        "def build_model(embedding_matrix, num_aux_targets, loss_weight):\n",
        "    words = Input(shape=(MAX_LEN,))\n",
        "    x = Embedding(*embedding_matrix.shape, weights=[embedding_matrix], trainable=False)(words)\n",
        "    x = SpatialDropout1D(0.2)(x)\n",
        "    x = Bidirectional(LSTM(LSTM_UNITS, return_sequences=True))(x)\n",
        "    x = Bidirectional(LSTM(LSTM_UNITS, return_sequences=True))(x)\n",
        "\n",
        "    hidden = concatenate([\n",
        "        GlobalMaxPooling1D()(x),\n",
        "        GlobalAveragePooling1D()(x),\n",
        "    ])\n",
        "    hidden = add([hidden, Dense(DENSE_HIDDEN_UNITS, activation='relu')(hidden)])\n",
        "    hidden = add([hidden, Dense(DENSE_HIDDEN_UNITS, activation='relu')(hidden)])\n",
        "    result = Dense(1, activation='sigmoid')(hidden)\n",
        "    aux_result = Dense(num_aux_targets, activation='sigmoid')(hidden)\n",
        "\n",
        "    model = Model(inputs=words, outputs=[result, aux_result])\n",
        "    model.compile(loss=[custom_loss,'binary_crossentropy'], loss_weights=[loss_weight, 1.0], optimizer='adam',metrics=['accuracy'])\n",
        "\n",
        "    return model\n"
      ],
      "metadata": {
        "id": "ECqhhaA4FoEG"
      },
      "execution_count": 42,
      "outputs": []
    },
    {
      "cell_type": "code",
      "source": [
        "checkpoint_predictions = []"
      ],
      "metadata": {
        "id": "dfUBM3419v4C"
      },
      "execution_count": 43,
      "outputs": []
    },
    {
      "cell_type": "code",
      "source": [
        "#fitting model on whole training data\n",
        "from keras import backend as K\n",
        "\n",
        "for model_idx in range(NUM_MODELS):\n",
        "    print('Model ', model_idx)\n",
        "    model = build_model(embedding_matrix, y_aux_train.shape[-1], loss_weight)\n",
        "    for global_epoch in range(1):\n",
        "        model.fit(\n",
        "            x_train_augmented,\n",
        "            [y_train, y_aux_train],\n",
        "            batch_size=BATCH_SIZE,\n",
        "            epochs=1,\n",
        "            verbose=1,\n",
        "            callbacks=[\n",
        "                LearningRateScheduler(lambda _: 1e-3 * (0.55 ** global_epoch))\n",
        "\n",
        "            ]\n",
        "        )\n",
        "        checkpoint_predictions.append(model.predict(x_val, batch_size=2048)[0].flatten())\n",
        "\n",
        "\n",
        "  #每行代表一个epoch的训练结果，展示了模型在该epoch训练后的性能。对于每个epoch，\n",
        "  #都显示了训练集上的性能指标。例如，第一行显示第一个epoch的损失和准确率，然后随着epoch的增加，损失减少，准确率提高。"
      ],
      "metadata": {
        "id": "_P822X7TY1SI",
        "colab": {
          "base_uri": "https://localhost:8080/"
        },
        "outputId": "63248e9f-6928-4dcf-e722-28138702a0ba"
      },
      "execution_count": 44,
      "outputs": [
        {
          "output_type": "stream",
          "name": "stdout",
          "text": [
            "Model  0\n",
            "707/707 [==============================] - 204s 273ms/step - loss: 0.4299 - dense_2_loss: 0.1729 - dense_3_loss: 0.0925 - dense_2_accuracy: 0.4437 - dense_3_accuracy: 0.0446 - lr: 0.0010\n",
            "23/23 [==============================] - 10s 377ms/step\n",
            "Model  1\n",
            "707/707 [==============================] - 208s 284ms/step - loss: 0.4292 - dense_6_loss: 0.1729 - dense_7_loss: 0.0918 - dense_6_accuracy: 0.4438 - dense_7_accuracy: 0.0420 - lr: 0.0010\n",
            "23/23 [==============================] - 10s 382ms/step\n"
          ]
        }
      ]
    },
    {
      "cell_type": "code",
      "source": [
        "def group_accuracies(prediction, y):\n",
        "    \"\"\"\n",
        "    Compute the percentage of correctly classified instances within each group and round them to four decimal places.\n",
        "    arguments:\n",
        "        prediction [pandas.DataFrame]: dataframe with 2 columns (index and pred)\n",
        "        y [pandas.DataFrame]: dataframe containing the metadata with actual labels\n",
        "    returns:\n",
        "        accuracies_dict [dict]: dictionary with group names as keys and their percentage of correctly classified instances as values\n",
        "    \"\"\"\n",
        "    y.loc[prediction.index, 'pred'] = prediction.pred\n",
        "\n",
        "    categories = ['male', 'female', 'LGBTQ', 'christian', 'muslim', 'other_religions', 'black', 'white']\n",
        "    accuracies_dict = {}\n",
        "    for category in categories:\n",
        "        group = y.loc[y[category] == 1]  # Assuming 1 indicates the presence of the category\n",
        "        if not group.empty:\n",
        "            group_accuracy = (group['y'] == group['pred']).mean()\n",
        "            accuracies_dict[category] = round(group_accuracy * 100, 4)  # Convert to percentage and round to four decimal places\n",
        "\n",
        "    return accuracies_dict\n",
        "\n",
        "# Note: This function now assumes that `y['y']` contains the actual labels and `prediction['pred']` contains the predicted labels.\n"
      ],
      "metadata": {
        "id": "ddh20xBE3Jo9"
      },
      "execution_count": 45,
      "outputs": []
    },
    {
      "cell_type": "code",
      "source": [
        "val_predictions = np.average(checkpoint_predictions, axis=0)\n",
        "pred = [1 if pred > 0.50 else 0 for pred in val_predictions]\n",
        "\n",
        "prediction_df = pd.DataFrame.from_dict({\n",
        "    'ID': val_y.index,\n",
        "    'pred': pred\n",
        "})\n",
        "\n",
        "group_accs = group_accuracies(prediction_df, val_y)\n",
        "print(group_accs)"
      ],
      "metadata": {
        "id": "4z-VvtkJ5E7O",
        "colab": {
          "base_uri": "https://localhost:8080/"
        },
        "outputId": "04e84b67-5ad6-4c4d-fbd4-869a3f8553cf"
      },
      "execution_count": 51,
      "outputs": [
        {
          "output_type": "stream",
          "name": "stdout",
          "text": [
            "{'male': 89.6118, 'female': 90.1375, 'LGBTQ': 80.2334, 'christian': 93.2088, 'muslim': 83.0806, 'other_religions': 87.4239, 'black': 77.3002, 'white': 78.7234}\n"
          ]
        }
      ]
    },
    {
      "cell_type": "code",
      "source": [
        "train_x_pred ="
      ],
      "metadata": {
        "id": "WZ5ZppHo8Wxw"
      },
      "execution_count": null,
      "outputs": []
    },
    {
      "cell_type": "code",
      "source": [
        "checkpoint_predictions_test=[]\n",
        "checkpoint_predictions_test.append(model.predict(x_test, batch_size=2048)[0].flatten())"
      ],
      "metadata": {
        "id": "bs4c0zRkFAag",
        "colab": {
          "base_uri": "https://localhost:8080/"
        },
        "outputId": "1fc656c9-e5ae-402a-da97-2170595fe177"
      },
      "execution_count": 47,
      "outputs": [
        {
          "output_type": "stream",
          "name": "stdout",
          "text": [
            "66/66 [==============================] - 26s 397ms/step\n"
          ]
        }
      ]
    },
    {
      "cell_type": "code",
      "execution_count": 48,
      "metadata": {
        "id": "wV2NO3QjUO9e"
      },
      "outputs": [],
      "source": [
        "predictions = np.average(checkpoint_predictions_test, axis=0)\n",
        "pred = [1 if pred > 0.5 else 0 for pred in predictions]\n",
        "\n",
        "submission = pd.DataFrame.from_dict({\n",
        "    'ID': test_x.index,\n",
        "    'pred': pred\n",
        "})\n",
        "submission.to_csv('submission.csv', index=False)"
      ]
    },
    {
      "cell_type": "code",
      "execution_count": 52,
      "metadata": {
        "id": "PdVsih2Geaw3",
        "colab": {
          "base_uri": "https://localhost:8080/"
        },
        "outputId": "6b2d1907-9a24-4014-bd10-b81e32f7f674"
      },
      "outputs": [
        {
          "output_type": "stream",
          "name": "stdout",
          "text": [
            "0    118998\n",
            "1     14784\n",
            "Name: pred, dtype: int64\n"
          ]
        }
      ],
      "source": [
        "# 计算 pred_df 中 'pred' 列中 0 和 1 出现的次数\n",
        "pred_counts = submission['pred'].value_counts()\n",
        "\n",
        "# 打印出结果\n",
        "print(pred_counts)"
      ]
    }
  ],
  "metadata": {
    "colab": {
      "provenance": [],
      "gpuType": "T4"
    },
    "kernelspec": {
      "display_name": "Python 3",
      "name": "python3"
    },
    "language_info": {
      "name": "python"
    },
    "accelerator": "GPU"
  },
  "nbformat": 4,
  "nbformat_minor": 0
}