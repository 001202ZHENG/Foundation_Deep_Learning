{
 "cells": [
  {
   "cell_type": "markdown",
   "metadata": {
    "id": "D6NmTqH25KQ0"
   },
   "source": [
    "# Deep Learning Course: Lab Exercises"
   ]
  },
  {
   "cell_type": "markdown",
   "metadata": {
    "id": "C71IXP2U5Ooy"
   },
   "source": [
    "In this lab exercise you will:\n",
    "\n",
    "a) Learn about PyTorch DataLoaders and how to build your own on a custom dataset.\n",
    "\n",
    "b) Learn how to train and evaluate a convolutional neural network.\n",
    "\n"
   ]
  },
  {
   "cell_type": "markdown",
   "metadata": {
    "id": "q1Cs96VV2x4-"
   },
   "source": [
    "# Q1 DataLoaders"
   ]
  },
  {
   "cell_type": "markdown",
   "metadata": {
    "id": "wwW4GcTT5eWN"
   },
   "source": [
    "### Connect your drive account"
   ]
  },
  {
   "cell_type": "markdown",
   "metadata": {
    "id": "bdoIHKNO1P2P"
   },
   "source": [
    "In order to upload the numpy files of the given folder, you can use the ‘drive’ package from google.colab library like this:\n",
    "\n",
    "- from google.colab import drive\n",
    "\n",
    "Then, you define the destination of your Drive account like this:\n",
    "\n",
    "- drive=drive.mount('/content/drive')\n",
    "\n",
    "Finally, you can load files from the given folder in this way:\n",
    "\n",
    "- arr_train_labels=np.load('drive/.._folderdestination_../train_labels.npy')"
   ]
  },
  {
   "cell_type": "code",
   "execution_count": null,
   "metadata": {
    "id": "jGv0ECWtDqWG"
   },
   "outputs": [],
   "source": [
    "import os\n",
    "import numpy as np\n",
    "import pandas as pd\n",
    "from google.colab import drive\n",
    "\n",
    "drive = drive.mount('/content/drive')"
   ]
  },
  {
   "cell_type": "code",
   "execution_count": null,
   "metadata": {
    "id": "-FiRjwRdBwGe"
   },
   "outputs": [],
   "source": [
    "## add the name of the folder you uploaded to Colab\n",
    "drive_folder = 'drive/MyDrive/...'"
   ]
  },
  {
   "cell_type": "code",
   "execution_count": null,
   "metadata": {
    "id": "c4GKx-gu2NtO"
   },
   "outputs": [],
   "source": [
    "## load train, test and validation label arrays\n",
    "train_images = np.load(os.path.join(drive_folder, 'train_images.npy'))\n",
    "val_images = np.load(os.path.join(drive_folder, 'val_images.npy'))\n",
    "test_images = np.load(os.path.join(drive_folder, 'test_images.npy'))\n",
    "\n",
    "train_labels = np.load(os.path.join(drive_folder, 'train_labels.npy'))\n",
    "val_labels = np.load(os.path.join(drive_folder, 'val_labels.npy'))\n",
    "test_labels = np.load(os.path.join(drive_folder, 'test_labels.npy'))"
   ]
  },
  {
   "cell_type": "code",
   "execution_count": null,
   "metadata": {
    "id": "kZIjZ6xf1g2N"
   },
   "outputs": [],
   "source": [
    "print('train images', train_images.shape)\n",
    "print('val images', val_images.shape)\n",
    "print('train labels', train_labels.shape)\n",
    "print('val labels', val_labels.shape)"
   ]
  },
  {
   "cell_type": "markdown",
   "metadata": {
    "id": "FSWRzeDgDxy6"
   },
   "source": [
    "Print a random training image."
   ]
  },
  {
   "cell_type": "code",
   "execution_count": null,
   "metadata": {
    "id": "gFHtLaFH6e-A"
   },
   "outputs": [],
   "source": [
    "print(train_images[124])"
   ]
  },
  {
   "cell_type": "code",
   "execution_count": null,
   "metadata": {
    "id": "vJ_okkEcD1zK"
   },
   "outputs": [],
   "source": [
    "from matplotlib import pyplot as plt\n",
    "\n",
    "##print a random image\n",
    "# *****START CODE\n",
    "\n",
    "# *****END CODE"
   ]
  },
  {
   "cell_type": "markdown",
   "metadata": {
    "id": "1wdoxGknD5Hq"
   },
   "source": [
    "Print the corresponding label for the image that you printed."
   ]
  },
  {
   "cell_type": "code",
   "execution_count": null,
   "metadata": {
    "id": "Pb0u5YGyD_E9"
   },
   "outputs": [],
   "source": [
    "##print the corresponding label\n",
    "# *****START CODE\n",
    "\n",
    "# *****END CODE"
   ]
  },
  {
   "cell_type": "markdown",
   "metadata": {
    "id": "B7lcFy5l1rJg"
   },
   "source": [
    "Iterate through the training images with a for loop and collate batches of size 10 (using slicing)"
   ]
  },
  {
   "cell_type": "code",
   "execution_count": null,
   "metadata": {
    "id": "8TDYtmLCEB00"
   },
   "outputs": [],
   "source": [
    "# *****START CODE\n",
    "batchsize =\n",
    "\n",
    "\n",
    "\n",
    "\n",
    "# *****END CODE"
   ]
  },
  {
   "cell_type": "markdown",
   "metadata": {
    "id": "I7H6bGwp148V"
   },
   "source": [
    "### Familiarize with .csv files"
   ]
  },
  {
   "cell_type": "markdown",
   "metadata": {
    "id": "ekTpRUFk155T"
   },
   "source": [
    "Here, we show you how to create a csv file with the the following table:\n",
    "\n",
    "| Name         | Surname        | Gender |\n",
    "| ------------ | ------------ | ------- |\n",
    "| Mary         | Smith        | Female       |\n",
    "| James        | Williams     | Male     |\n",
    "| Sarah        | Martin       | Female      |\n",
    "| Peter        | Miller       | Male     |"
   ]
  },
  {
   "cell_type": "code",
   "execution_count": null,
   "metadata": {
    "id": "8LwD0i071wzO"
   },
   "outputs": [],
   "source": [
    "import pandas as pd\n",
    "\n",
    "# First create each column as a list\n",
    "\n",
    "names = ['Mary', 'James', 'Sarah', 'Peter']\n",
    "surnames = ['Smith', 'Williams', 'Martin', 'Miller']\n",
    "genders = ['Female', 'Male', 'Female', 'Male']\n",
    "\n",
    "# Then create a pandas DataFrame from these lists and set the columns names\n",
    "\n",
    "df = pd.DataFrame({'Name': names ,\n",
    "                   'Surname': surnames ,\n",
    "                   'Gender': genders})\n",
    "\n",
    "# Finally save the DataFrame to a .csv file\n",
    "df.to_csv(os.path.join(drive_folder, 'toy.csv'), index=False, columns = ['Name', 'Surname', 'Gender'])\n",
    "\n",
    "# You can now read the .csv file to get a DataFrame again\n",
    "toy = pd.read_csv(os.path.join(drive_folder, 'toy.csv'))\n",
    "\n",
    "# And show few rows of the the DataFrame\n",
    "toy.head()"
   ]
  },
  {
   "cell_type": "markdown",
   "metadata": {
    "id": "jUTJaP87EYoG"
   },
   "source": [
    "Use iloc command from \t[pandas library](https://pandas.pydata.org/pandas-docs/stable/reference/api/pandas.DataFrame.iloc.html 'Learn .iloc') pandas library to access specific items"
   ]
  },
  {
   "cell_type": "code",
   "execution_count": null,
   "metadata": {
    "id": "r9JztiuiEeIG"
   },
   "outputs": [],
   "source": [
    "##show first column\n",
    "toy.iloc[:, 0]"
   ]
  },
  {
   "cell_type": "code",
   "execution_count": null,
   "metadata": {
    "id": "HdIu2uWpEeAM"
   },
   "outputs": [],
   "source": [
    "##show second row\n",
    "# *****START CODE\n",
    "\n",
    "# *****END CODE"
   ]
  },
  {
   "cell_type": "code",
   "execution_count": null,
   "metadata": {
    "id": "ngAHoko2Ed5o"
   },
   "outputs": [],
   "source": [
    "##show element in first row and second column\n",
    "# *****START CODE\n",
    "\n",
    "# *****END CODE"
   ]
  },
  {
   "cell_type": "markdown",
   "metadata": {
    "id": "89nYN2KZ2F7I"
   },
   "source": [
    "#Create your own custom DataLoader"
   ]
  },
  {
   "cell_type": "markdown",
   "metadata": {
    "id": "GYhUwHnH2H9S"
   },
   "source": [
    "Use the numpy files to define your own custom dataloader.\n",
    "\n",
    "a) Create a DataFrame for each split (train, val and test) with 2 columns :\n",
    "- ‘image_ID’, which involves the image index locations\n",
    "- ‘label’, which involves the corresponding label for every image index\n",
    "\n",
    "b) Plot the distribution of labels for each split with [groupby().count()](https://pandas.pydata.org/pandas-docs/stable/reference/api/pandas.DataFrame.groupby.html) and [pandas.Series.plot()](https://pandas.pydata.org/pandas-docs/stable/reference/api/pandas.Series.plot.html?highlight=plot#pandas.Series.plot 'pandas.Series.plot') functions.\n",
    "\n",
    "c) Save the DataFrames as .csv files."
   ]
  },
  {
   "cell_type": "code",
   "execution_count": null,
   "metadata": {
    "id": "-93byCQG2DIT"
   },
   "outputs": [],
   "source": [
    "## Create the DataFrame for the train split and show the first few rows\n",
    "# *****START CODE\n",
    "\n",
    "# *****END CODE"
   ]
  },
  {
   "cell_type": "code",
   "execution_count": null,
   "metadata": {
    "id": "33AyTr5AouV_"
   },
   "outputs": [],
   "source": [
    "## Plot the distribution of labels using a bar plot\n",
    "# *****START CODE\n",
    "\n",
    "# *****END CODE"
   ]
  },
  {
   "cell_type": "code",
   "execution_count": null,
   "metadata": {
    "id": "-Nr_9ezkpze_"
   },
   "outputs": [],
   "source": [
    "## Save the DataFrame as a .csv file\n",
    "# *****START CODE\n",
    "\n",
    "# *****END CODE"
   ]
  },
  {
   "cell_type": "code",
   "execution_count": null,
   "metadata": {
    "id": "yCuc0SUs2K2H"
   },
   "outputs": [],
   "source": [
    "## Do the same for both val and test splits\n",
    "## HINT : you can wrap the previous steps into a function to do all 3 at once\n",
    "# *****START CODE\n",
    "def create_csv(labels, destination):\n",
    "  df = \n",
    "  counts = \n",
    "  counts.plot.bar()\n",
    "\n",
    "  df.to_csv(destination, index=False, columns = ['image_ID', 'label'])\n",
    "\n",
    "create_csv(val_labels, os.path.join(drive_folder, 'val.csv'))\n",
    "create_csv(test_labels, os.path.join(drive_folder, 'test.csv'))\n",
    "\n",
    "\n",
    "\n",
    "# *****END CODE"
   ]
  },
  {
   "cell_type": "markdown",
   "metadata": {
    "id": "E_R6PArr2RWl"
   },
   "source": [
    "d) Now create your own custom dataloader. When building a custom dataloader, it is necessary to define a dataset class first which involves 3 required functions:\n",
    "\n",
    "- __init__, for the class initialization\n",
    "\n",
    "- __getitem__, for data extraction according to given indexes\n",
    "\n",
    "-  __len__, for calculating the total number of data samples"
   ]
  },
  {
   "cell_type": "code",
   "execution_count": null,
   "metadata": {
    "id": "5LtkK5gS2O-J"
   },
   "outputs": [],
   "source": [
    "from torch.utils.data.dataset import Dataset\n",
    "\n",
    "class MyDataset(Dataset):\n",
    "    def __init__(self, csv_path, images_file):\n",
    "        ## Read the csv file with pandas library\n",
    "        # *****START CODE\n",
    "        self.data_info =\n",
    "\n",
    "        ##Load the numpy array of images\n",
    "        self.images =\n",
    "        # *****END CODE\n",
    "\n",
    "    def __getitem__(self, index):\n",
    "        ## Get the image-label set using the given index\n",
    "        ## Hint: use iloc command from pandas library\n",
    "        # *****START CODE\n",
    "        image_id =\n",
    "        image =\n",
    "        label =\n",
    "        # *****END CODE\n",
    "        ## bring all image spectral values to the range of [0,1]\n",
    "        image = image/255.0\n",
    "\n",
    "        return image, label\n",
    "\n",
    "    def __len__(self):\n",
    "        ## return the total number of data samples\n",
    "        return len(self.data_info)"
   ]
  },
  {
   "cell_type": "markdown",
   "metadata": {
    "id": "yCS1RS5H2V8x"
   },
   "source": [
    "c) Call the dataloader for both the training and the validation sets"
   ]
  },
  {
   "cell_type": "code",
   "execution_count": null,
   "metadata": {
    "id": "VFa3SCYD2O7v"
   },
   "outputs": [],
   "source": [
    "from torch.utils.data import DataLoader\n",
    "\n",
    "## training and validation .csv paths\n",
    "##here put your custom destination folder\n",
    "train_csv_file = os.path.join(drive_folder, 'train.csv')\n",
    "val_csv_file = os.path.join(drive_folder, 'val.csv')\n",
    "\n",
    "## paths for training and validation numpy array images\n",
    "##here put your custom destination folder\n",
    "train_images_file = os.path.join(drive_folder, 'train_images.npy')\n",
    "val_images_file = os.path.join(drive_folder, 'val_images.npy')\n",
    "\n",
    "## define and create training and validation dataloaders using MyDataset (fill the blanks)\n",
    "# *****START CODE\n",
    "## define and create training and validation dataloaders using MyDataset (fill the blanks)\n",
    "train_dataset = MyDataset(, )\n",
    "val_dataset = MyDataset(, )\n",
    "\n",
    "train_dataloader = DataLoader(dataset=, batch_size=, shuffle=)\n",
    "val_dataloader = DataLoader(dataset=, batch_size=, shuffle=)\n",
    "# *****END CODE"
   ]
  },
  {
   "cell_type": "markdown",
   "metadata": {
    "id": "_1VXP63k2Zgz"
   },
   "source": [
    "Iterate through your dataloader using a for loop."
   ]
  },
  {
   "cell_type": "code",
   "execution_count": null,
   "metadata": {
    "id": "hbhdVwoeE5jk"
   },
   "outputs": [],
   "source": [
    "# *****START CODE\n",
    "\n",
    "\n",
    "# *****END CODE"
   ]
  },
  {
   "cell_type": "markdown",
   "metadata": {
    "id": "-1jdzRA52lr3"
   },
   "source": [
    "# Q2 Classification problem"
   ]
  },
  {
   "cell_type": "markdown",
   "metadata": {
    "id": "iIQGMXjB5tAq"
   },
   "source": [
    "Define your custom convolutional neural network."
   ]
  },
  {
   "cell_type": "code",
   "execution_count": null,
   "metadata": {
    "id": "BCrUDHOyDUBJ"
   },
   "outputs": [],
   "source": [
    "!pip install torchnet"
   ]
  },
  {
   "cell_type": "code",
   "execution_count": null,
   "metadata": {
    "id": "iNyyzU-yDVjQ"
   },
   "outputs": [],
   "source": [
    "import torch\n",
    "import torch.nn as nn\n",
    "import torchnet as tnt\n",
    "import torch.nn.functional as F\n",
    "import matplotlib.pyplot as plt"
   ]
  },
  {
   "cell_type": "code",
   "execution_count": null,
   "metadata": {
    "id": "7ak4nEAg25qb"
   },
   "outputs": [],
   "source": [
    "class ConvNet(nn.Module):\n",
    "    def __init__(self, in_ch, out_ch):\n",
    "        super(ConvNet, self).__init__()\n",
    "        self.conv1 = nn.Conv2d(in_ch, 32, 3, 1) #W2=(W1−F+2P)/S+1\n",
    "        ##define a second convolutional layer, which outputs 64 channels\n",
    "        # *****START CODE\n",
    "        self.conv2 =\n",
    "        # *****END CODE\n",
    "        self.dropout1 = nn.Dropout2d(0.25)\n",
    "        self.dropout2 = nn.Dropout2d(0.5)\n",
    "        ##create the last two fully connected layers\n",
    "        # *****START CODE\n",
    "        self.fc1 =\n",
    "        self.fc2 =\n",
    "        # *****END CODE\n",
    "\n",
    "##define the forward propagation of the data\n",
    "##conv1--relu--conv2--maxpool--dropout1--fc1--dropout2--fc2\n",
    "    def forward(self, x):\n",
    "        x = self.conv1(x)\n",
    "        x = F.relu(x)\n",
    "        x = self.conv2(x)\n",
    "        x = F.max_pool2d(x, 2) #W2=(W1−F)/S+1\n",
    "        x = self.dropout1(x)\n",
    "        x = torch.flatten(x, 1)\n",
    "\n",
    "        # *****START CODE\n",
    "\n",
    "\n",
    "\n",
    "         # *****END CODE\n",
    "\n",
    "        output = F.softmax(x, dim=1)\n",
    "        return output"
   ]
  },
  {
   "cell_type": "code",
   "execution_count": null,
   "metadata": {
    "id": "rLxzBTyS3GZi"
   },
   "outputs": [],
   "source": [
    "# define model\n",
    "# *****START CODE\n",
    "model =\n",
    "# *****END CODE"
   ]
  },
  {
   "cell_type": "code",
   "execution_count": null,
   "metadata": {
    "id": "70Q5YV8F3IUX"
   },
   "outputs": [],
   "source": [
    "# define optimizer, criterion and number of training epochs\n",
    "# *****START CODE\n",
    "\n",
    "\n",
    "\n",
    "# *****END CODE"
   ]
  },
  {
   "cell_type": "code",
   "execution_count": null,
   "metadata": {
    "id": "fA3ki-UDF7av"
   },
   "outputs": [],
   "source": [
    "# define confusion matrix using tnt package\n",
    "confusion_matrix = tnt.meter.ConfusionMeter(10)"
   ]
  },
  {
   "cell_type": "code",
   "execution_count": null,
   "metadata": {
    "id": "BW3F6SC03VYw"
   },
   "outputs": [],
   "source": [
    "# create a directory for saving the models and the training progress\n",
    "save_folder = os.path.join(drive_folder, 'models')\n",
    "if not os.path.exists(save_folder):\n",
    "  os.mkdir(save_folder)"
   ]
  },
  {
   "cell_type": "code",
   "execution_count": null,
   "metadata": {
    "id": "wZcwkNBG3sG7"
   },
   "outputs": [],
   "source": [
    "##function which saves the overall accuracy and average loss at the end of each epoch,\n",
    "##both for the training and the validation set\n",
    "def write_results(save_folder, epoch, train_acc, val_acc, train_loss, val_loss):\n",
    "    with open('./{}/progress.txt'.format(save_folder),'a') as ff:\n",
    "      ff.write(' E: ')\n",
    "      ff.write(str(epoch))\n",
    "      ff.write('         ')\n",
    "      ff.write(' TRAIN_OA: ')\n",
    "      ff.write(str('%.3f' % train_acc))\n",
    "      ff.write(' VAL_OA: ')\n",
    "      ff.write(str('%.3f' % val_acc))\n",
    "      ff.write('         ')\n",
    "      ff.write(' TRAIN_LOSS: ')\n",
    "      ff.write(str('%.3f' % train_loss))\n",
    "      ff.write(' VAL_LOSS: ')\n",
    "      ff.write(str('%.3f' % val_loss))\n",
    "      ff.write('\\n')"
   ]
  },
  {
   "cell_type": "code",
   "execution_count": null,
   "metadata": {
    "id": "ZOopVY1W3uNQ"
   },
   "outputs": [],
   "source": [
    "#function that creates the train-val loss graph\n",
    "#variables 'train_loss' and 'val_loss' are losts containing the average losses for all the epochs\n",
    "def save_graph(train_loss, val_loss, nb_epochs, save_folder):\n",
    "    plt.plot(list(range(nb_epochs+1))[1:], train_loss)\n",
    "    plt.plot(list(range(nb_epochs+1))[1:], val_loss)\n",
    "    plt.legend(['train', 'val'])\n",
    "    plt.xlabel('Epochs')\n",
    "    plt.ylabel('Loss')\n",
    "    plt.savefig('{}/chart.png'.format(save_folder))"
   ]
  },
  {
   "cell_type": "markdown",
   "metadata": {
    "id": "iUTr3sNBsJtL"
   },
   "source": [
    "Now let's train our model !\n",
    "\n",
    "We will do a validation step after each training epoch (do not forget to disable gradients during the validation step)."
   ]
  },
  {
   "cell_type": "code",
   "execution_count": null,
   "metadata": {
    "id": "QHG8JAXYGO1C"
   },
   "outputs": [],
   "source": [
    "from tqdm import tqdm\n",
    "import torch.nn.functional as F\n",
    "total_train_losses = []\n",
    "total_val_losses = []\n",
    "\n",
    "\n",
    "for epoch in range(1,epochs+1):\n",
    "    ##TRAINING##\n",
    "    model.train()\n",
    "    train_losses = []\n",
    "    confusion_matrix.reset()\n",
    "\n",
    "    for i, batch, in enumerate(tqdm(train_dataloader)):\n",
    "        img_batch, lbl_batch = batch\n",
    "\n",
    "        ##implement the forward and backward backpropagation\n",
    "        # *****START CODE\n",
    "\n",
    "\n",
    "\n",
    "\n",
    "        # *****END CODE\n",
    "\n",
    "        train_losses.append(loss.item())\n",
    "        confusion_matrix.add(outputs.data.squeeze(), lbl_batch.long())\n",
    "\n",
    "        if i % 100 == 0:\n",
    "            print('Train (epoch {}/{}) [{}/{} ({:.0f}%)]\\tLoss: {:.6f}'.format(\n",
    "                epoch, epochs, i, len(train_dataloader),100.*i/len(train_dataloader), loss.item()))\n",
    "\n",
    "    train_acc=(np.trace(confusion_matrix.conf)/float(np.ndarray.sum(confusion_matrix.conf))) *100\n",
    "    train_loss_mean = np.mean(train_losses)\n",
    "    total_train_losses.append(train_loss_mean)\n",
    "\n",
    "    ##VALIDATION##\n",
    "    model.eval()\n",
    "    val_losses = []\n",
    "    confusion_matrix.reset()\n",
    "\n",
    "    for i, batch, in enumerate(tqdm(val_dataloader)):\n",
    "        img_batch, lbl_batch = batch\n",
    "\n",
    "        ##pass the images to the model and calculate the loss\n",
    "        # *****START CODE\n",
    "\n",
    "\n",
    "        # *****END CODE\n",
    "\n",
    "        confusion_matrix.add(outputs.data.squeeze(), lbl_batch.long())\n",
    "        val_losses.append(loss.item())\n",
    "\n",
    "    print('Confusion Matrix:')\n",
    "    print(confusion_matrix.conf)\n",
    "\n",
    "    val_acc=(np.trace(confusion_matrix.conf)/float(np.ndarray.sum(confusion_matrix.conf))) *100\n",
    "    val_loss_mean = np.mean(val_losses)\n",
    "    total_val_losses.append(val_loss_mean)\n",
    "\n",
    "    print('TRAIN_LOSS: ', '%.3f' % train_loss_mean, 'TRAIN_ACC: ', '%.3f' % train_acc)\n",
    "    print('VAL_LOSS: ', '%.3f' % val_loss_mean, 'VAL_ACC: ', '%.3f' % val_acc)\n",
    "\n",
    "    write_results(save_folder, epoch, train_acc, val_acc, train_loss_mean, val_loss_mean)\n",
    "\n",
    "    torch.save(model.state_dict(), save_folder + '/model_{}.pt'.format(epoch))\n",
    "\n",
    "save_graph(total_train_losses, total_val_losses, epochs, save_folder)\n",
    "\n"
   ]
  },
  {
   "cell_type": "markdown",
   "metadata": {
    "id": "dHtoEl-qaNX5"
   },
   "source": [
    "Similarly, test the model on the test split.\n",
    "You will have to load the model previously saved (see [this tutorial](https://pytorch.org/tutorials/beginner/saving_loading_models.html) on how to save and load PyTorch models)."
   ]
  },
  {
   "cell_type": "code",
   "execution_count": null,
   "metadata": {
    "id": "v-9v4cbEGb78"
   },
   "outputs": [],
   "source": [
    "## Initialize your test DataLoader\n",
    "# *****START CODE\n",
    "\n",
    "\n",
    "\n",
    "# *****END CODE\n",
    "\n",
    "##define the model, load it and put it in evaluation mode\n",
    "# *****START CODE\n",
    "\n",
    "\n",
    "\n",
    "# *****END CODE\n",
    "\n",
    "confusion_matrix = tnt.meter.ConfusionMeter(10)\n",
    "confusion_matrix.reset()\n",
    "\n",
    "\n",
    "for i, batch, in enumerate(tqdm(test_dataloader)):\n",
    "    # *****START CODE\n",
    "\n",
    "\n",
    "    # *****END CODE\n",
    "\n",
    "    confusion_matrix.add(outputs.data.squeeze(), lbl_batch.long())\n",
    "\n",
    "print(confusion_matrix.conf)"
   ]
  },
  {
   "cell_type": "markdown",
   "metadata": {
    "id": "sTn_BpReWVLX"
   },
   "source": [
    "Plot the first six testing images along with their true labels."
   ]
  },
  {
   "cell_type": "code",
   "execution_count": null,
   "metadata": {
    "id": "fhXDsRfuGhhp"
   },
   "outputs": [],
   "source": [
    "##plot the testing images\n",
    "# from torchvision.transforms import ToPILImage\n",
    "iterator = iter(test_dataset)\n",
    "n_images = 6\n",
    "plt.figure(figsize=(10, n_images))\n",
    "for i in range(n_images):\n",
    "  plt.subplot(1, n_images, i+1)\n",
    "  image, title = next(iterator)\n",
    "  plt.imshow(image[0], cmap='gray')\n",
    "  plt.title(title)"
   ]
  },
  {
   "cell_type": "markdown",
   "metadata": {
    "id": "Hpzl-tNcWUDt"
   },
   "source": [
    "Print the model's predicted labels for the above images."
   ]
  },
  {
   "cell_type": "code",
   "execution_count": null,
   "metadata": {
    "id": "6WTlGS7FGjmS"
   },
   "outputs": [],
   "source": [
    "##print the predicted labels for the above images\n",
    "# *****START CODE\n",
    "\n",
    "# *****END CODE"
   ]
  },
  {
   "cell_type": "markdown",
   "metadata": {
    "id": "qBIMwvXQwcWa"
   },
   "source": [
    "# Bonus questions"
   ]
  },
  {
   "cell_type": "markdown",
   "metadata": {
    "id": "QsV2hI1J1vxs"
   },
   "source": [
    "## Build-in PyTorch DataLoader for MNIST dataset"
   ]
  },
  {
   "cell_type": "code",
   "execution_count": null,
   "metadata": {
    "id": "BNmLa5uyEEVL"
   },
   "outputs": [],
   "source": [
    "import torch\n",
    "from torchvision import datasets, transforms\n",
    "\n",
    "transform=transforms.Compose([\n",
    "        transforms.ToTensor(),\n",
    "        transforms.Normalize((0.1307,), (0.3081,))\n",
    "        ])\n",
    "\n",
    "dataset1 = datasets.MNIST('../data', train=True, download=True,\n",
    "                       transform=transform)\n",
    "dataset2 = datasets.MNIST('../data', train=False,\n",
    "                       transform=transform)"
   ]
  },
  {
   "cell_type": "code",
   "execution_count": null,
   "metadata": {
    "id": "SdBxrl9W1xE2"
   },
   "outputs": [],
   "source": [
    "train_loader = torch.utils.data.DataLoader(dataset1, batch_size=32, shuffle=True)\n",
    "val_loader = torch.utils.data.DataLoader(dataset2, batch_size=32, shuffle=False)"
   ]
  },
  {
   "cell_type": "code",
   "execution_count": null,
   "metadata": {
    "id": "f6_EICBoEGim"
   },
   "outputs": [],
   "source": [
    "for batch_idx, batch in enumerate(train_loader):\n",
    "        data, target = batch\n",
    "        print('data', data.shape)\n",
    "        print('target', target.shape)"
   ]
  },
  {
   "cell_type": "markdown",
   "metadata": {
    "id": "mbqkP0T-wsqo"
   },
   "source": [
    "## Link to Weight and Biaises (WandB)\n",
    "Visualisation plateform to log metrics during training and evaluation\n",
    "\n",
    "First, create an account on [WandB](https://wandb.ai/site) (you can set it up in 2 mins using your Google account)"
   ]
  },
  {
   "cell_type": "code",
   "execution_count": null,
   "metadata": {
    "id": "rfRq0Jq7xBpG"
   },
   "outputs": [],
   "source": [
    "# Install wandb on the device (only needed once if you are in local)\n",
    "!pip install wandb --quiet"
   ]
  },
  {
   "cell_type": "code",
   "execution_count": null,
   "metadata": {
    "id": "_O0nRqu_xOLg"
   },
   "outputs": [],
   "source": [
    "# Import the library\n",
    "import wandb"
   ]
  },
  {
   "cell_type": "code",
   "execution_count": null,
   "metadata": {
    "id": "VsIk7NZCxeVO"
   },
   "outputs": [],
   "source": [
    "# Then connect to your W&B account\n",
    "def wandb_connect():\n",
    "    wandb_api_key_label = \"wandb_api_key\"\n",
    "    wandb_api_key = \"YOUR API KEY\" # here use your API key from WandB interface\n",
    "\n",
    "    wandb_conx = wandb.login(key = wandb_api_key)\n",
    "    print(f\"Connected to Wandb online interface : {wandb_conx}\")\n",
    "\n",
    "wandb_connect()"
   ]
  },
  {
   "cell_type": "code",
   "execution_count": null,
   "metadata": {
    "id": "6hig1S_zoYL7"
   },
   "outputs": [],
   "source": [
    "# define model, optimizer, criterion and number of training epochs\n",
    "# *****START CODE\n",
    "model =\n",
    "optimizer =\n",
    "criterion =\n",
    "epochs =\n",
    "# *****END CODE"
   ]
  },
  {
   "cell_type": "code",
   "execution_count": null,
   "metadata": {
    "id": "fDiWKPzGziKN"
   },
   "outputs": [],
   "source": [
    "# Complete the hyperparams dict with the infos of your run\n",
    "# *****START CODE\n",
    "hyperparams = {\"Batch size\": ,\n",
    "               \"Learning rate\": ,\n",
    "               \"Epochs\":}\n",
    "# *****END CODE\n",
    "\n",
    "# Init the WandB run with hyperparams\n",
    "wandb.init(config=hyperparams)"
   ]
  },
  {
   "cell_type": "code",
   "execution_count": null,
   "metadata": {
    "id": "Cb2pVjVQyv1F"
   },
   "outputs": [],
   "source": [
    "for epoch in range(1,epochs+1):\n",
    "    ##TRAINING##\n",
    "    model.train()\n",
    "    train_losses = []\n",
    "    confusion_matrix.reset()\n",
    "\n",
    "    for i, batch, in enumerate(tqdm(train_dataloader)):\n",
    "        img_batch, lbl_batch = batch\n",
    "\n",
    "        ##implement the forward and backward backpropagation\n",
    "        # *****START CODE\n",
    "\n",
    "\n",
    "\n",
    "\n",
    "        # *****END CODE\n",
    "\n",
    "        # log the training loss at each batch\n",
    "        wandb.log({\"train_loss\":loss.item()})\n",
    "        confusion_matrix.add(outputs.data.squeeze(), lbl_batch.long())\n",
    "\n",
    "    train_acc=(np.trace(confusion_matrix.conf)/float(np.ndarray.sum(confusion_matrix.conf))) *100\n",
    "\n",
    "    ##VALIDATION##\n",
    "    model.eval()\n",
    "    val_losses = []\n",
    "    confusion_matrix.reset()\n",
    "\n",
    "    for i, batch, in enumerate(tqdm(val_dataloader)):\n",
    "        img_batch, lbl_batch = batch\n",
    "\n",
    "        ##pass the images to the model and calculate the loss\n",
    "        # *****START CODE\n",
    "\n",
    "\n",
    "        # *****END CODE\n",
    "\n",
    "        confusion_matrix.add(outputs.data.squeeze(), lbl_batch.long())\n",
    "        val_losses.append(loss.item())\n",
    "\n",
    "    val_acc=(np.trace(confusion_matrix.conf)/float(np.ndarray.sum(confusion_matrix.conf))) *100\n",
    "    val_loss_mean = np.mean(val_losses)\n",
    "\n",
    "    # log the train & val accuracy and the val loss at each epoch\n",
    "    wandb.log({\"train_acc\":train_acc, \"val_acc\":val_acc, \"val_loss\":val_loss_mean})"
   ]
  },
  {
   "cell_type": "markdown",
   "metadata": {
    "id": "sFm6zZpbS3XL"
   },
   "source": [
    "Go on your WanB account and plot the train and val accuracy on the same chart"
   ]
  },
  {
   "cell_type": "markdown",
   "metadata": {
    "id": "PYbkJkzZ39Cv"
   },
   "source": [
    "## Hyper-parameter tuning"
   ]
  },
  {
   "cell_type": "code",
   "execution_count": null,
   "metadata": {
    "id": "S-uyO63x4J12"
   },
   "outputs": [],
   "source": [
    "# Train a model from scratch for all these different learning rates\n",
    "# and store the final validation accuracy in a array\n",
    "rates = [10**8, 10**6, 10**4, 10**2, 1, 10**(-2), 10**(-4), 10**(-6)]\n",
    "\n",
    "# *****START CODE\n",
    "\n",
    "\n",
    "\n",
    "\n",
    "# *****END CODE"
   ]
  },
  {
   "cell_type": "code",
   "execution_count": null,
   "metadata": {
    "id": "e_ss8FtP8At0"
   },
   "outputs": [],
   "source": [
    "# Plot the validation error with respect to the learning rate\n",
    "\n",
    "# *****START CODE\n",
    "\n",
    "\n",
    "# *****END CODE"
   ]
  }
 ],
 "metadata": {
  "colab": {
   "provenance": []
  },
  "kernelspec": {
   "display_name": "Python 3.8.5 ('base')",
   "language": "python",
   "name": "python3"
  },
  "language_info": {
   "codemirror_mode": {
    "name": "ipython",
    "version": 3
   },
   "file_extension": ".py",
   "mimetype": "text/x-python",
   "name": "python",
   "nbconvert_exporter": "python",
   "pygments_lexer": "ipython3",
   "version": "3.8.5"
  },
  "vscode": {
   "interpreter": {
    "hash": "fd75362e27048f1ead3b65beb4812b1da3d387150557ce53b099093c32022a5e"
   }
  }
 },
 "nbformat": 4,
 "nbformat_minor": 0
}
